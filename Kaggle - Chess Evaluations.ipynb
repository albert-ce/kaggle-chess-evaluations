{
 "cells": [
  {
   "cell_type": "markdown",
   "metadata": {},
   "source": [
    "# ***Kaggle:*** Chess Evaluations\n",
    "\n",
    "| Author's Name         | NIU     |\n",
    "| --------------------- | ------- |\n",
    "| Albert Capdevila      | 1587933 |\n",
    "\n",
    "<small>*This Jupyter Notebook is submitted as an assignment for the Machine Learning subject in the Computer Engineering degree at the Universitat Autònoma de Barcelona (UAB).*<small>"
   ]
  },
  {
   "cell_type": "markdown",
   "metadata": {},
   "source": [
    "## 1. Problem definition\n",
    "\n",
    "In computer chess, an evaluation function estimates the strength of a position by assigning a numerical score that indicates which side (White or Black) has the advantage and by how much.\n",
    "\n",
    "This score is based on the values of chess pieces, which are traditionally:\n",
    "| Piece  | Pawn | Knight | Bishop | Rook | Queen |\n",
    "|--------|------|--------|--------|------|-------|\n",
    "| Symbol | ![Pawn](https://upload.wikimedia.org/wikipedia/commons/thumb/4/45/Chess_plt45.svg/45px-Chess_plt45.svg.png) | ![Knight](https://upload.wikimedia.org/wikipedia/commons/thumb/7/70/Chess_nlt45.svg/45px-Chess_nlt45.svg.png) | ![Bishop](https://upload.wikimedia.org/wikipedia/commons/thumb/b/b1/Chess_blt45.svg/45px-Chess_blt45.svg.png) | ![Rook](https://upload.wikimedia.org/wikipedia/commons/thumb/7/72/Chess_rlt45.svg/45px-Chess_rlt45.svg.png) | ![Queen](https://upload.wikimedia.org/wikipedia/commons/thumb/1/15/Chess_qlt45.svg/45px-Chess_qlt45.svg.png) |\n",
    "| Value  | 1    | 3      | 3      | 5    | 9     |\n",
    "\n",
    "<small>*The value of the king is undefined as it cannot be captured, let alone traded, during the course of the game. Chess engines usually assign the king an arbitrary large value such as 200 points [¹](#references).*</small>\n",
    "\n",
    "These values show that, for example, capturing a bishop is equivalent to capturing three pawns. Therefore, all of them can be expressed in *'pawn units'*.\n",
    "\n",
    "It’s also important to note that evaluations are opposite, with positive values indicating an advantage for White and negative values for Black. For example, a negative evaluation of $-3$ pawns may indicate that Black has an advantage equivalent to three pawns, a bishop, or a knight.\n",
    "\n",
    "Usually, these evaluations are calculated by complex algorithms, such as *Stockfish*, which are based on **minimax** principles, calculating, pruning, and predicting the best moves across multiple levels of depth. These algorithms can be slow and computationally intensive, as they analyze many possible future moves in a position. This notebook will explore the use of regression models to achieve similar results more quickly.\n",
    "\n",
    "***In this notebook, we aim to estimate the evaluation score of a chess position through feature extraction and simple regression techniques.***\n",
    "\n"
   ]
  },
  {
   "cell_type": "markdown",
   "metadata": {},
   "source": [
    "## 2. Data collection\n",
    "\n",
    "For this machine learning problem, we will use the **Chess Evaluations** dataset, available [here](https://www.kaggle.com/datasets/ronakbadhe/chess-evaluations/data) on Kaggle. The dataset contains two columns: \n",
    "\n",
    "| Feature             | Description                                                                 |\n",
    "|---------------------|-----------------------------------------------------------------------------|\n",
    "| **Position (FEN)**  | This is a string representing the chess position in Forsyth-Edwards Notation (FEN). |\n",
    "| **Evaluation**      | This is the evaluation of the position in ***centipawns***. `#` means that there is forced checkmate. |\n",
    "\n",
    "The evaluations are in centi-pawns and are generated from Stockfish 11 at depth 22.\n",
    "\n",
    "Let’s download and import the dataset:"
   ]
  },
  {
   "cell_type": "code",
   "execution_count": 49,
   "metadata": {},
   "outputs": [
    {
     "name": "stdout",
     "output_type": "stream",
     "text": [
      "The 'data' directory was found successfully ✓\n"
     ]
    }
   ],
   "source": [
    "\n",
    "from kaggle.api.kaggle_api_extended import KaggleApi\n",
    "from zipfile import ZipFile\n",
    "from tqdm import tqdm\n",
    "import pandas as pd\n",
    "import numpy as np\n",
    "import re\n",
    "import os \n",
    "\n",
    "api = KaggleApi()\n",
    "api.authenticate()\n",
    "\n",
    "dataser_owner = 'ronakbadhe'\n",
    "dataset_name= 'chess-evaluations'\n",
    "dataset = f'{dataser_owner}/{dataset_name}'\n",
    "target = 'Evaluation'\n",
    "\n",
    "if not os.path.isdir('data'):\n",
    "  print(\"The 'data' directory was not found\")\n",
    "  print(\"Downloading the dataset from Kaggle...\")\n",
    "  os.mkdir('data')\n",
    "  api.dataset_download_files(dataset = dataset,path = 'data')\n",
    "  zf = ZipFile(f'data/{dataset_name}.zip')\n",
    "  zf.extractall(f'data')\n",
    "  zf.close()\n",
    "  os.remove(f'data/{dataset_name}.zip')\n",
    "  print(\"Dataset downloaded successfully ✓\")\n",
    "else:\n",
    "  print(\"The 'data' directory was found successfully ✓\")"
   ]
  },
  {
   "cell_type": "code",
   "execution_count": 50,
   "metadata": {},
   "outputs": [
    {
     "name": "stdout",
     "output_type": "stream",
     "text": [
      "Reading the file 'chessData.csv'...\n",
      "File 'chessData.csv' read successfully ✓\n"
     ]
    }
   ],
   "source": [
    "csvFile = \"chessData.csv\"\n",
    "print(f\"Reading the file '{csvFile}'...\")\n",
    "\n",
    "df = pd.read_csv(f'data/{csvFile}')\n",
    "\n",
    "print(f\"File '{csvFile}' read successfully ✓\")"
   ]
  },
  {
   "cell_type": "code",
   "execution_count": 51,
   "metadata": {},
   "outputs": [],
   "source": [
    "# Reducing the dataset size to make it faster to work with\n",
    "from sklearn.model_selection import train_test_split\n",
    "\n",
    "_, df = train_test_split(df, test_size=0.001, random_state=42)"
   ]
  },
  {
   "cell_type": "code",
   "execution_count": 52,
   "metadata": {},
   "outputs": [
    {
     "data": {
      "text/html": [
       "<div>\n",
       "<style scoped>\n",
       "    .dataframe tbody tr th:only-of-type {\n",
       "        vertical-align: middle;\n",
       "    }\n",
       "\n",
       "    .dataframe tbody tr th {\n",
       "        vertical-align: top;\n",
       "    }\n",
       "\n",
       "    .dataframe thead th {\n",
       "        text-align: right;\n",
       "    }\n",
       "</style>\n",
       "<table border=\"1\" class=\"dataframe\">\n",
       "  <thead>\n",
       "    <tr style=\"text-align: right;\">\n",
       "      <th></th>\n",
       "      <th>FEN</th>\n",
       "      <th>Evaluation</th>\n",
       "    </tr>\n",
       "  </thead>\n",
       "  <tbody>\n",
       "    <tr>\n",
       "      <th>11784899</th>\n",
       "      <td>r3k2r/1b2bppp/p1n1pn2/1p2N1B1/8/2NB1P2/PPP3PP/...</td>\n",
       "      <td>-35</td>\n",
       "    </tr>\n",
       "    <tr>\n",
       "      <th>8860705</th>\n",
       "      <td>r3k2r/1pp2p2/1bnp1q2/p2Bp1p1/PP2P1bP/1QPP1N2/3...</td>\n",
       "      <td>-201</td>\n",
       "    </tr>\n",
       "    <tr>\n",
       "      <th>7376649</th>\n",
       "      <td>6k1/2p3pp/8/8/P3R3/3r1PP1/5K1P/8 b - - 0 30</td>\n",
       "      <td>+121</td>\n",
       "    </tr>\n",
       "    <tr>\n",
       "      <th>2224083</th>\n",
       "      <td>1r6/2rnppkp/1q1p2n1/2pP2p1/2b5/1P4PP/P1QNPPB1/...</td>\n",
       "      <td>+280</td>\n",
       "    </tr>\n",
       "    <tr>\n",
       "      <th>4108821</th>\n",
       "      <td>5k2/3R4/1p1p4/3n2pp/8/8/PP6/6K1 b - - 1 35</td>\n",
       "      <td>+328</td>\n",
       "    </tr>\n",
       "  </tbody>\n",
       "</table>\n",
       "</div>"
      ],
      "text/plain": [
       "                                                        FEN Evaluation\n",
       "11784899  r3k2r/1b2bppp/p1n1pn2/1p2N1B1/8/2NB1P2/PPP3PP/...        -35\n",
       "8860705   r3k2r/1pp2p2/1bnp1q2/p2Bp1p1/PP2P1bP/1QPP1N2/3...       -201\n",
       "7376649         6k1/2p3pp/8/8/P3R3/3r1PP1/5K1P/8 b - - 0 30       +121\n",
       "2224083   1r6/2rnppkp/1q1p2n1/2pP2p1/2b5/1P4PP/P1QNPPB1/...       +280\n",
       "4108821          5k2/3R4/1p1p4/3n2pp/8/8/PP6/6K1 b - - 1 35       +328"
      ]
     },
     "execution_count": 52,
     "metadata": {},
     "output_type": "execute_result"
    }
   ],
   "source": [
    "df.head()"
   ]
  },
  {
   "cell_type": "markdown",
   "metadata": {},
   "source": [
    "## 3. Data preprocessing"
   ]
  },
  {
   "cell_type": "markdown",
   "metadata": {},
   "source": [
    "### 3.1 Missing Data"
   ]
  },
  {
   "cell_type": "code",
   "execution_count": 53,
   "metadata": {},
   "outputs": [
    {
     "data": {
      "text/plain": [
       "FEN           0\n",
       "Evaluation    0\n",
       "dtype: int64"
      ]
     },
     "execution_count": 53,
     "metadata": {},
     "output_type": "execute_result"
    }
   ],
   "source": [
    "df.isna().sum()"
   ]
  },
  {
   "cell_type": "markdown",
   "metadata": {},
   "source": [
    "Since there are no missing values, there is no need to handle NaN values."
   ]
  },
  {
   "cell_type": "markdown",
   "metadata": {},
   "source": [
    "### 3.2 Data Conversion"
   ]
  },
  {
   "cell_type": "code",
   "execution_count": 54,
   "metadata": {},
   "outputs": [
    {
     "data": {
      "text/plain": [
       "FEN           object\n",
       "Evaluation    object\n",
       "dtype: object"
      ]
     },
     "execution_count": 54,
     "metadata": {},
     "output_type": "execute_result"
    }
   ],
   "source": [
    "df.dtypes"
   ]
  },
  {
   "cell_type": "markdown",
   "metadata": {},
   "source": [
    "The evaluation feature is a string that starts with either a \"+\" or \"-\" symbol. To use it in the model, it will need to be converted into a numeric value.\n",
    "\n",
    "It may also include the character `#`, but since this is not relevant to the current problem, we will ignore it."
   ]
  },
  {
   "cell_type": "code",
   "execution_count": 55,
   "metadata": {},
   "outputs": [
    {
     "name": "stderr",
     "output_type": "stream",
     "text": [
      "Converting 'Evaluation' to numeric values: 100%|██████████| 12959/12959 [00:00<00:00, 341320.88it/s]\n"
     ]
    }
   ],
   "source": [
    "tqdm.pandas(desc=\"Converting 'Evaluation' to numeric values\")\n",
    "df['Evaluation'] = df['Evaluation'].progress_apply(lambda x: int(x) if '#' not in x else int(x.replace('#', '')))"
   ]
  },
  {
   "cell_type": "code",
   "execution_count": 56,
   "metadata": {},
   "outputs": [
    {
     "data": {
      "text/plain": [
       "FEN           object\n",
       "Evaluation     int64\n",
       "dtype: object"
      ]
     },
     "execution_count": 56,
     "metadata": {},
     "output_type": "execute_result"
    }
   ],
   "source": [
    "df.dtypes"
   ]
  },
  {
   "cell_type": "markdown",
   "metadata": {},
   "source": [
    "### 3.3 Data Normalization\n",
    "\n",
    "Apart from the target feature (Evaluation), the dataset contains only one feature: FEN, which cannot be normalized. Therefore, normalization is not applicable in this case."
   ]
  },
  {
   "cell_type": "markdown",
   "metadata": {},
   "source": [
    "### 3.4 Feature extraction\n",
    "\n",
    "In this section, we will focus on feature extraction, which is the most important step in building our model to predict the evaluation of a chess position. At the moment, we only have the FEN notation of the chess position, and our goal is to extract useful features from it."
   ]
  },
  {
   "cell_type": "markdown",
   "metadata": {},
   "source": [
    "#### 3.4.1 Information in the FEN Notation\n",
    "\n",
    "Forsyth–Edwards Notation (FEN) is a standard notation for describing a particular board position of a chess game.\n",
    "\n",
    "A typical FEN string looks like this: `rnbqkbnr/pppppppp/8/8/4P3/8/PPPP1PPP/RNBQKBNR b KQkq e3 0 1`\n",
    "\n",
    "The FEN string above represents the following board position:\n",
    "\n",
    "<img src=\"img/example_board.svg\" alt=\"Example Board\" width=\"300\"/>\n",
    "\n",
    "A FEN string has six fields, each separated by a space:\n",
    "\n",
    "1. **Piece placement data:**\n",
    "\n",
    "    It is the arrangement of pieces on the board, row by row, from top to bottom. Each piece is represented by a letter (uppercase for White and lowercase for Black). Empty squares are indicated by numbers.\n",
    "\n",
    "2. **Active color:**\n",
    "\n",
    "    Indicates which side is to move (`w` for White, `b` for Black).\n",
    "\n",
    "3. **Castling availability:**\n",
    "\n",
    "    If no castling is possible, this field is `-`. Otherwise, it shows `K`, `Q`, `k`, or `q` for available castling options.\n",
    "\n",
    "4. **En passant target square:**\n",
    "\n",
    "    Indicates the square where an en passant capture is possible, or `-` if not.\n",
    "\n",
    "5. **Halfmove clock:**\n",
    "\n",
    "    Counts the number of halfmoves since the last pawn advance or capture, used for the 50-move rule. \n",
    "\n",
    "6. **Fullmove number:**\n",
    "\n",
    "    Tracks the total number of moves in the game, starting at 1 and incrementing after each Black move.\n",
    "\n",
    "Only using this information, we can start extracting some simple new features:"
   ]
  },
  {
   "cell_type": "code",
   "execution_count": 57,
   "metadata": {},
   "outputs": [
    {
     "name": "stderr",
     "output_type": "stream",
     "text": [
      "Adding column 'White_pieces_count': 100%|██████████| 12959/12959 [00:00<00:00, 140865.99it/s]\n",
      "Adding column 'Black_pieces_count': 100%|██████████| 12959/12959 [00:00<00:00, 154277.55it/s]\n"
     ]
    }
   ],
   "source": [
    "def count_white_pieces(fen):\n",
    "    return len(re.findall(r'[KQRBNP]', fen))\n",
    "\n",
    "def count_black_pieces(fen):\n",
    "    return len(re.findall(r'[kqrbnp]', fen))\n",
    "\n",
    "tqdm.pandas(desc=\"Adding column 'White_pieces_count'\")\n",
    "df['White_pieces_count'] = df['FEN'].progress_apply(count_white_pieces)\n",
    "tqdm.pandas(desc=\"Adding column 'Black_pieces_count'\")\n",
    "df['Black_pieces_count'] = df['FEN'].progress_apply(count_black_pieces)"
   ]
  },
  {
   "cell_type": "code",
   "execution_count": 58,
   "metadata": {},
   "outputs": [
    {
     "name": "stderr",
     "output_type": "stream",
     "text": [
      "Adding column 'White_material': 100%|██████████| 12959/12959 [00:00<00:00, 101246.13it/s]\n",
      "Adding column 'Black_material': 100%|██████████| 12959/12959 [00:00<00:00, 122254.50it/s]"
     ]
    },
    {
     "name": "stdout",
     "output_type": "stream",
     "text": [
      "Added column 'Material_difference' ✓\n"
     ]
    },
    {
     "name": "stderr",
     "output_type": "stream",
     "text": [
      "\n"
     ]
    }
   ],
   "source": [
    "piece_values = {\n",
    "    'P': 1, 'N': 3, 'B': 3, 'R': 5, 'Q': 9,\n",
    "    'p': -1, 'n': -3, 'b': -3, 'r': -5, 'q': -9\n",
    "}\n",
    "\n",
    "# The king's value is ignored for now.\n",
    "\n",
    "def get_white_material(fen):\n",
    "    return sum(piece_values[piece] for piece in re.findall(r'[QRBNP]', fen))\n",
    "\n",
    "def get_black_material(fen):\n",
    "    return -sum(piece_values[piece] for piece in re.findall(r'[qrbnp]', fen))\n",
    "\n",
    "tqdm.pandas(desc=\"Adding column 'White_material'\")\n",
    "df['White_material'] = df['FEN'].progress_apply(get_white_material)\n",
    "\n",
    "tqdm.pandas(desc=\"Adding column 'Black_material'\")\n",
    "df['Black_material'] = df['FEN'].progress_apply(get_black_material)\n",
    "\n",
    "df[\"Material_difference\"] = df['White_material'] - df['Black_material']\n",
    "print(\"Added column 'Material_difference' ✓\")"
   ]
  },
  {
   "cell_type": "code",
   "execution_count": 59,
   "metadata": {},
   "outputs": [
    {
     "name": "stderr",
     "output_type": "stream",
     "text": [
      "Adding column 'Turn': 100%|██████████| 12959/12959 [00:00<00:00, 518407.46it/s]\n"
     ]
    }
   ],
   "source": [
    "def get_turn(fen):\n",
    "    return 1 if fen.split(' ')[1] == 'w' else -1\n",
    "\n",
    "tqdm.pandas(desc=\"Adding column 'Turn'\")\n",
    "df['Turn'] = df['FEN'].progress_apply(get_turn)"
   ]
  },
  {
   "cell_type": "code",
   "execution_count": 60,
   "metadata": {},
   "outputs": [
    {
     "name": "stderr",
     "output_type": "stream",
     "text": [
      "Adding column 'White_king_castling': 100%|██████████| 12959/12959 [00:00<00:00, 404967.93it/s]\n",
      "Adding column 'White_queen_castling': 100%|██████████| 12959/12959 [00:00<00:00, 431997.98it/s]\n",
      "Adding column 'Black_king_castling': 100%|██████████| 12959/12959 [00:00<00:00, 462839.21it/s]\n",
      "Adding column 'Black_queen_castling': 100%|██████████| 12959/12959 [00:00<00:00, 446839.35it/s]"
     ]
    },
    {
     "name": "stdout",
     "output_type": "stream",
     "text": [
      "Added column 'Castling_difference' ✓\n"
     ]
    },
    {
     "name": "stderr",
     "output_type": "stream",
     "text": [
      "\n"
     ]
    }
   ],
   "source": [
    "def get_castling(fen, char):\n",
    "    return int(char in fen.split(' ')[2])\n",
    "\n",
    "tqdm.pandas(desc=\"Adding column 'White_king_castling'\")\n",
    "df['White_king_castling'] = df['FEN'].progress_apply(lambda fen: get_castling(fen, 'K'))\n",
    "\n",
    "tqdm.pandas(desc=\"Adding column 'White_queen_castling'\")\n",
    "df['White_queen_castling'] = df['FEN'].progress_apply(lambda fen: get_castling(fen, 'Q'))\n",
    "\n",
    "tqdm.pandas(desc=\"Adding column 'Black_king_castling'\")\n",
    "df['Black_king_castling'] = df['FEN'].progress_apply(lambda fen: get_castling(fen, 'k'))\n",
    "\n",
    "tqdm.pandas(desc=\"Adding column 'Black_queen_castling'\")\n",
    "df['Black_queen_castling'] = df['FEN'].progress_apply(lambda fen: get_castling(fen, 'q'))\n",
    "\n",
    "df['Castling_difference'] = df['White_king_castling'] + df['White_queen_castling'] - df['Black_king_castling'] - df['Black_queen_castling']\n",
    "print(\"Added column 'Castling_difference' ✓\")\n"
   ]
  },
  {
   "cell_type": "code",
   "execution_count": 61,
   "metadata": {},
   "outputs": [
    {
     "name": "stderr",
     "output_type": "stream",
     "text": [
      "Adding column 'En_passant': 100%|██████████| 12959/12959 [00:00<00:00, 404992.07it/s]\n"
     ]
    }
   ],
   "source": [
    "def get_en_passant(fen):\n",
    "    # This feature is 1 if en passant is available for White, -1 for Black, and 0 if none\n",
    "    return int(fen.split(' ')[3] != '-') * 1 if fen.split(' ')[1] == 'w' else -1\n",
    "\n",
    "tqdm.pandas(desc=\"Adding column 'En_passant'\")\n",
    "df['En_passant'] = df['FEN'].progress_apply(get_en_passant)"
   ]
  },
  {
   "cell_type": "code",
   "execution_count": 62,
   "metadata": {},
   "outputs": [
    {
     "name": "stderr",
     "output_type": "stream",
     "text": [
      "Adding column 'Rule_50': 100%|██████████| 12959/12959 [00:00<00:00, 350252.83it/s]\n"
     ]
    }
   ],
   "source": [
    "def get_rule50(fen):\n",
    "    return int(fen.split(' ')[4]) * 1 if fen.split(' ')[1] == 'w' else -1\n",
    "\n",
    "tqdm.pandas(desc=\"Adding column 'Rule_50'\")\n",
    "df['Rule_50'] = df['FEN'].progress_apply(get_rule50)"
   ]
  },
  {
   "cell_type": "code",
   "execution_count": 63,
   "metadata": {},
   "outputs": [
    {
     "name": "stderr",
     "output_type": "stream",
     "text": [
      "Adding column 'N_moves': 100%|██████████| 12959/12959 [00:00<00:00, 350255.09it/s]\n"
     ]
    }
   ],
   "source": [
    "def get_n_moves(fen):\n",
    "    return int(fen.split(' ')[5]) + int(fen.split(' ')[1] == 'b')\n",
    "\n",
    "tqdm.pandas(desc=\"Adding column 'N_moves'\")\n",
    "df['N_moves'] = df['FEN'].progress_apply(get_n_moves)"
   ]
  },
  {
   "cell_type": "markdown",
   "metadata": {},
   "source": [
    "Let's see the correlations between the new features and the target variable:"
   ]
  },
  {
   "cell_type": "code",
   "execution_count": 64,
   "metadata": {},
   "outputs": [
    {
     "name": "stdout",
     "output_type": "stream",
     "text": [
      "Correlations with 'Evaluation' (sorted by absolute value):\n",
      "Evaluation              1.000000\n",
      "Material_difference     0.195666\n",
      "White_pieces_count      0.052898\n",
      "White_material          0.036804\n",
      "Black_pieces_count     -0.031224\n",
      "En_passant              0.028921\n",
      "Turn                    0.028843\n",
      "Rule_50                 0.021402\n",
      "Black_material         -0.017215\n",
      "N_moves                -0.007546\n",
      "Black_king_castling     0.001712\n",
      "Castling_difference    -0.001312\n",
      "White_king_castling    -0.000689\n",
      "White_queen_castling   -0.000240\n",
      "Black_queen_castling   -0.000061\n",
      "Name: Evaluation, dtype: float64\n"
     ]
    }
   ],
   "source": [
    "correlations = df.corr(numeric_only=True)['Evaluation']\n",
    "sorted_correlations = correlations.reindex(correlations.abs().sort_values(ascending=False).index)\n",
    "print(\"Correlations with 'Evaluation' (sorted by absolute value):\")\n",
    "print(sorted_correlations)"
   ]
  },
  {
   "cell_type": "markdown",
   "metadata": {},
   "source": [
    "There are no significant correlations.\n",
    "\n",
    "Currently, we only extract information from the FEN string, not from the position itself (for instance, two positions with the same pieces, turn, en passant, and number of moves would appear identical to the model).\n",
    "\n",
    "We need to extract information directly from the game. To achieve this, we'll use the chess library to obtain a board representation and apply some of its functions to build new features."
   ]
  },
  {
   "cell_type": "code",
   "execution_count": 65,
   "metadata": {},
   "outputs": [
    {
     "name": "stdout",
     "output_type": "stream",
     "text": [
      "Requirement already satisfied: chess in c:\\users\\albert\\appdata\\local\\packages\\pythonsoftwarefoundation.python.3.10_qbz5n2kfra8p0\\localcache\\local-packages\\python310\\site-packages (1.11.1)\n",
      "Note: you may need to restart the kernel to use updated packages.\n"
     ]
    }
   ],
   "source": [
    "%pip install chess\n",
    "import chess"
   ]
  },
  {
   "cell_type": "code",
   "execution_count": 66,
   "metadata": {},
   "outputs": [
    {
     "name": "stderr",
     "output_type": "stream",
     "text": [
      "Adding column 'Board': 100%|██████████| 12959/12959 [00:01<00:00, 9514.40it/s]\n"
     ]
    }
   ],
   "source": [
    "def get_board(fen):\n",
    "    return chess.Board(fen)\n",
    "\n",
    "tqdm.pandas(desc=\"Adding column 'Board'\")\n",
    "df['Board'] = df['FEN'].progress_apply(get_board)"
   ]
  },
  {
   "cell_type": "markdown",
   "metadata": {},
   "source": [
    "Here are a few features I think could have a strong correlation with the evaluation:\n",
    "\n",
    "* **Attack count:**\n",
    "    It is the number of squares attacked by each individual piece of a player. If a square is attacked by more than one piece, it is counted multiple times."
   ]
  },
  {
   "cell_type": "code",
   "execution_count": 67,
   "metadata": {},
   "outputs": [
    {
     "name": "stderr",
     "output_type": "stream",
     "text": [
      "Adding column 'White_attacks': 100%|██████████| 12959/12959 [00:02<00:00, 5026.77it/s]\n",
      "Adding column 'Black_attacks': 100%|██████████| 12959/12959 [00:02<00:00, 5026.77it/s]"
     ]
    },
    {
     "name": "stdout",
     "output_type": "stream",
     "text": [
      "Added column 'Attacks_difference' ✓\n"
     ]
    },
    {
     "name": "stderr",
     "output_type": "stream",
     "text": [
      "\n"
     ]
    }
   ],
   "source": [
    "def get_attacks_count(board, color):\n",
    "    return sum(len(board.attackers(color, square)) for square in chess.SQUARES)\n",
    "\n",
    "tqdm.pandas(desc=\"Adding column 'White_attacks'\")\n",
    "df['White_attacks'] = df['Board'].progress_apply(lambda board: get_attacks_count(board, chess.WHITE))\n",
    "\n",
    "tqdm.pandas(desc=\"Adding column 'Black_attacks'\")\n",
    "df['Black_attacks'] = df['Board'].progress_apply(lambda board: get_attacks_count(board, chess.BLACK))\n",
    "\n",
    "df[\"Attacks_difference\"] = df['White_attacks'] - df['Black_attacks']\n",
    "print(\"Added column 'Attacks_difference' ✓\")"
   ]
  },
  {
   "cell_type": "markdown",
   "metadata": {},
   "source": [
    "* **Legal moves:**\n",
    "    It is the total number of legal moves available for a player in the current position."
   ]
  },
  {
   "cell_type": "code",
   "execution_count": 68,
   "metadata": {},
   "outputs": [
    {
     "name": "stderr",
     "output_type": "stream",
     "text": [
      "Adding column 'White_legal_moves': 100%|██████████| 12959/12959 [00:01<00:00, 10630.49it/s]\n",
      "Adding column 'Black_legal_moves': 100%|██████████| 12959/12959 [00:01<00:00, 11028.96it/s]"
     ]
    },
    {
     "name": "stdout",
     "output_type": "stream",
     "text": [
      "Added column 'Legal_moves_difference' ✓\n"
     ]
    },
    {
     "name": "stderr",
     "output_type": "stream",
     "text": [
      "\n"
     ]
    }
   ],
   "source": [
    "def get_legal_moves(board, color):\n",
    "    orig_turn = board.turn \n",
    "    board.turn = color\n",
    "    legal_moves = len(list(board.legal_moves))\n",
    "    board.turn = orig_turn\n",
    "    return legal_moves\n",
    "\n",
    "tqdm.pandas(desc=\"Adding column 'White_legal_moves'\")\n",
    "df['White_legal_moves'] = df['Board'].progress_apply(lambda board: get_legal_moves(board, chess.WHITE))\n",
    "\n",
    "tqdm.pandas(desc=\"Adding column 'Black_legal_moves'\")\n",
    "df['Black_legal_moves'] = df['Board'].progress_apply(lambda board: get_legal_moves(board, chess.BLACK))\n",
    "\n",
    "df[\"Legal_moves_difference\"] = df['White_legal_moves'] - df['Black_legal_moves']\n",
    "print(\"Added column 'Legal_moves_difference' ✓\")"
   ]
  },
  {
   "cell_type": "markdown",
   "metadata": {},
   "source": [
    "* **Attacked pieces**:\n",
    "    It is the total number of opponent attacks on squares occupied by a player's pieces."
   ]
  },
  {
   "cell_type": "code",
   "execution_count": 69,
   "metadata": {},
   "outputs": [
    {
     "name": "stderr",
     "output_type": "stream",
     "text": [
      "Adding column 'White_attacked':   0%|          | 0/12959 [00:00<?, ?it/s]"
     ]
    },
    {
     "name": "stderr",
     "output_type": "stream",
     "text": [
      "Adding column 'White_attacked': 100%|██████████| 12959/12959 [00:01<00:00, 12729.36it/s]\n",
      "Adding column 'Black_attacked': 100%|██████████| 12959/12959 [00:00<00:00, 13156.40it/s]"
     ]
    },
    {
     "name": "stdout",
     "output_type": "stream",
     "text": [
      "Added column 'Attacked_difference' ✓\n"
     ]
    },
    {
     "name": "stderr",
     "output_type": "stream",
     "text": [
      "\n"
     ]
    }
   ],
   "source": [
    "def get_attacked_pieces(board, color):\n",
    "    attacked_pieces = 0\n",
    "    opponent_color = chess.WHITE if color == chess.BLACK else chess.BLACK \n",
    "    for square in chess.SQUARES:\n",
    "        piece = board.piece_at(square)\n",
    "        if piece and piece.color == color:\n",
    "            attacked_pieces += len(board.attackers(opponent_color, square))\n",
    "\n",
    "    return attacked_pieces\n",
    "\n",
    "tqdm.pandas(desc=\"Adding column 'White_attacked'\")\n",
    "df['White_attacked'] = df['Board'].progress_apply(lambda board: get_attacked_pieces(board, chess.WHITE))\n",
    "tqdm.pandas(desc=\"Adding column 'Black_attacked'\")\n",
    "df['Black_attacked'] = df['Board'].progress_apply(lambda board: get_attacked_pieces(board, chess.BLACK))\n",
    "\n",
    "df[\"Attacked_difference\"] = df['Black_attacked'] - df['White_attacked']\n",
    "print(\"Added column 'Attacked_difference' ✓\")"
   ]
  },
  {
   "cell_type": "markdown",
   "metadata": {},
   "source": [
    "- **Check:** Verifies if a player's king is under attack"
   ]
  },
  {
   "cell_type": "code",
   "execution_count": 70,
   "metadata": {},
   "outputs": [
    {
     "name": "stderr",
     "output_type": "stream",
     "text": [
      "Adding column 'Check': 100%|██████████| 12959/12959 [00:00<00:00, 332314.26it/s]\n"
     ]
    }
   ],
   "source": [
    "def get_check(board):\n",
    "    return int(board.is_check()) * 1 if board.turn else -1\n",
    "\n",
    "tqdm.pandas(desc=\"Adding column 'Check'\")\n",
    "df['Check'] = df['Board'].progress_apply(get_check)"
   ]
  },
  {
   "cell_type": "markdown",
   "metadata": {},
   "source": [
    "<small>*\"In chess, doubled pawns are two pawns of the same color residing on the same file. Pawns can become doubled only when one pawn captures onto a file on which another friendly pawn resides. [...] In most cases, doubled pawns are considered a weakness due to their inability to defend each other.\" [²](#references)*</small>\n",
    "\n",
    "\n",
    "* **Doubled pawns**: It is the count of how many extra pawns are stacked in each file for a player"
   ]
  },
  {
   "cell_type": "code",
   "execution_count": 71,
   "metadata": {},
   "outputs": [
    {
     "name": "stderr",
     "output_type": "stream",
     "text": [
      "Adding column 'White_doubled_pawns': 100%|██████████| 12959/12959 [00:01<00:00, 7460.55it/s]\n",
      "Adding column 'Black_doubled_pawns': 100%|██████████| 12959/12959 [00:01<00:00, 7766.89it/s]"
     ]
    },
    {
     "name": "stdout",
     "output_type": "stream",
     "text": [
      "Added column 'Doubled_pawns_difference' ✓\n"
     ]
    },
    {
     "name": "stderr",
     "output_type": "stream",
     "text": [
      "\n"
     ]
    }
   ],
   "source": [
    "def count_doubled_pawns(board, color):\n",
    "    doubled_pawns = 0\n",
    "    for file in chess.FILE_NAMES:\n",
    "        column_squares = [chess.square(chess.FILE_NAMES.index(file), rank) for rank in range(8)]\n",
    "        pawns_in_file = sum(1 for square in column_squares if board.piece_at(square) == chess.Piece(chess.PAWN, color))\n",
    "        if pawns_in_file > 1:\n",
    "            doubled_pawns += pawns_in_file - 1\n",
    "    return doubled_pawns\n",
    "\n",
    "tqdm.pandas(desc=\"Adding column 'White_doubled_pawns'\")\n",
    "df['White_doubled_pawns'] = df['Board'].progress_apply(lambda board: count_doubled_pawns(board, chess.WHITE))\n",
    "tqdm.pandas(desc=\"Adding column 'Black_doubled_pawns'\")\n",
    "df['Black_doubled_pawns'] = df['Board'].progress_apply(lambda board: count_doubled_pawns(board, chess.BLACK))\n",
    "\n",
    "df[\"Doubled_pawns_difference\"] = df['White_doubled_pawns'] - df['Black_doubled_pawns']\n",
    "print(\"Added column 'Doubled_pawns_difference' ✓\")\n"
   ]
  },
  {
   "cell_type": "markdown",
   "metadata": {},
   "source": [
    "<small>*\"In chess, a fork is a tactic in which a piece attacks multiple enemy pieces simultaneously. The attacker usually aims to capture one of the forked pieces\" [³](#references)*</small>\n",
    "\n",
    "- **Forks:** Counts the number of forks for each player."
   ]
  },
  {
   "cell_type": "code",
   "execution_count": 72,
   "metadata": {},
   "outputs": [
    {
     "name": "stderr",
     "output_type": "stream",
     "text": [
      "Adding column 'White_forks': 100%|██████████| 12959/12959 [00:01<00:00, 7887.20it/s]\n",
      "Adding column 'Black_forks': 100%|██████████| 12959/12959 [00:01<00:00, 8129.86it/s]"
     ]
    },
    {
     "name": "stdout",
     "output_type": "stream",
     "text": [
      "Added column 'Forks_difference' ✓\n"
     ]
    },
    {
     "name": "stderr",
     "output_type": "stream",
     "text": [
      "\n"
     ]
    }
   ],
   "source": [
    "def get_forks(board, color):\n",
    "    forks = 0\n",
    "    for square, piece in board.piece_map().items():\n",
    "        if piece.color == color:\n",
    "            attacked_squares = board.attacks(square)\n",
    "            if len([target for target in attacked_squares if board.piece_at(target) and board.piece_at(target).color != color]) > 1:\n",
    "                forks += 1\n",
    "\n",
    "    return forks\n",
    "\n",
    "tqdm.pandas(desc=\"Adding column 'White_forks'\")\n",
    "df['White_forks'] = df['Board'].progress_apply(lambda board: get_forks(board, chess.WHITE))\n",
    "tqdm.pandas(desc=\"Adding column 'Black_forks'\")\n",
    "df['Black_forks'] = df['Board'].progress_apply(lambda board: get_forks(board, chess.BLACK))\n",
    "\n",
    "df[\"Forks_difference\"] = df['White_forks'] - df['Black_forks']\n",
    "print(\"Added column 'Forks_difference' ✓\")"
   ]
  },
  {
   "cell_type": "markdown",
   "metadata": {},
   "source": [
    "Let's see the current strongest correlations: "
   ]
  },
  {
   "cell_type": "code",
   "execution_count": 73,
   "metadata": {},
   "outputs": [
    {
     "name": "stdout",
     "output_type": "stream",
     "text": [
      "Correlations with 'Evaluation' (sorted by absolute value):\n",
      "Evaluation                  1.000000\n",
      "Attacks_difference          0.232247\n",
      "Material_difference         0.195666\n",
      "Legal_moves_difference      0.178131\n",
      "White_legal_moves           0.096346\n",
      "Black_legal_moves          -0.082910\n",
      "White_attacks               0.069455\n",
      "White_pieces_count          0.052898\n",
      "Black_attacks              -0.051794\n",
      "White_material              0.036804\n",
      "Black_pieces_count         -0.031224\n",
      "White_forks                 0.030342\n",
      "En_passant                  0.028921\n",
      "Turn                        0.028843\n",
      "Attacked_difference         0.026411\n",
      "Black_attacked              0.025376\n",
      "Forks_difference            0.024751\n",
      "Rule_50                     0.021402\n",
      "Doubled_pawns_difference    0.021246\n",
      "Black_doubled_pawns        -0.017758\n",
      "Black_material             -0.017215\n",
      "White_doubled_pawns         0.011842\n",
      "Check                       0.008928\n",
      "N_moves                    -0.007546\n",
      "White_attacked             -0.005979\n",
      "Black_forks                -0.003567\n",
      "Black_king_castling         0.001712\n",
      "Castling_difference        -0.001312\n",
      "White_king_castling        -0.000689\n",
      "White_queen_castling       -0.000240\n",
      "Black_queen_castling       -0.000061\n",
      "Name: Evaluation, dtype: float64\n"
     ]
    }
   ],
   "source": [
    "correlations = df.corr(numeric_only=True)['Evaluation']\n",
    "sorted_correlations = correlations.reindex(correlations.abs().sort_values(ascending=False).index)\n",
    "print(\"Correlations with 'Evaluation' (sorted by absolute value):\")\n",
    "print(sorted_correlations)"
   ]
  },
  {
   "cell_type": "markdown",
   "metadata": {},
   "source": [
    "Using the chess library, we can extract much more information, but we must keep it simple.  \n",
    "\n",
    "So far, we have focused on attributes that indicate whether a position might be better, but we have ignored the fact that the goal is to infer a specific value: the evaluation provided by Stockfish 11 at 22 levels of depth (considering 22 turns ahead).  \n",
    "\n",
    "Therefore, we need to identify the features that Stockfish use to generate their evaluations.\n",
    "\n",
    "Stockfish's evaluation function is actually quite complex and uses lots of values to determine its result. We'll focus on the main ones and simplify where needed:\n",
    "\n",
    "- Middle game evaluation\n",
    "\n",
    "    - **Piece Value (MG)**: Material is weighted differently during the middlegame.\n",
    "\n",
    "    - **Psqt (MG)**: Piece-square table bonuses, where certain positions provide an advantage for specific pieces in the middlegame.\n",
    "\n",
    "    - Pawns:\n",
    "        - Doubled: *(Simplified: Already considered in 'Double_pawns')*\n",
    "\n",
    "    - Pieces:\n",
    "        - **Minor behind pawn**: Knight or bishop when behind a pawn\n",
    "        - **Bishop pawns**: Number of pawns on the same color square as the bishop *(Simplified)*\n",
    "        - **Bishop xray pawns**: Advantatge for every opponent pawn in the diagonal of a bishop\n",
    "        - **Rook on queen file**: Simple bonus for a rook that is on the same file as any queen\n",
    "        - **Rook on file**: Rook when on an open file *(Simplified)*\n",
    "        - **Long diagonal bishop**: Bonus for bishop on a long diagonal which can \"see\" both center squares.\n",
    "\n",
    "    - Mobility: *(Simplified: Already considered in 'Legal_moves')*\n",
    "\n",
    "    - Threats\n",
    "        - **Hanging**: Weak enemies not defended by opponent *(Simplified)*\n",
    "        - **Rook threat**: Threat type for attacked by rook pieces *(Simplified)*\n",
    "\n",
    "    - **Passed**: Bonuses for passed pawns *(Simplified)*\n",
    "\n",
    "    - **King**: Bonuses for player's pieces around the king *(Simplified)* \n",
    "\n",
    "- End game evaluation\n",
    "\n",
    "    - **Piece Value (EG)**: Material is weighted differently during the endgame.\n",
    "\n",
    "    - **Psqt (EG)**: Piece-square table bonuses, where certain positions provide an advantage for specific pieces in the endgame.\n",
    "\n",
    "    It also takes all the above into account, with different weights *(Will be ignored for simplicity)*\n",
    "\n",
    "- **Phase**: Eval based on the amount of non-pawn material on the board *(Simplified)*\n",
    "\n",
    "- Rule50: *(Already considered in 'Rule_50')*\n",
    "\n",
    "- Scale factor: The scale factors are used to scale the endgame evaluation score down *(It will also be ignored)*\n",
    "\n",
    "- Tempo: *(Already considered in 'Turn')*\n",
    "\n",
    "<small>*All the bold titles represent new attributes that will be added.*</small>"
   ]
  },
  {
   "cell_type": "markdown",
   "metadata": {},
   "source": [
    "These few added columns will be representations of the board, which will be useful for calculating attributes faster."
   ]
  },
  {
   "cell_type": "code",
   "execution_count": null,
   "metadata": {},
   "outputs": [
    {
     "ename": "ValueError",
     "evalue": "setting an array element with a sequence.",
     "output_type": "error",
     "traceback": [
      "\u001b[1;31m---------------------------------------------------------------------------\u001b[0m",
      "\u001b[1;31mTypeError\u001b[0m                                 Traceback (most recent call last)",
      "\u001b[1;31mTypeError\u001b[0m: only length-1 arrays can be converted to Python scalars",
      "\nThe above exception was the direct cause of the following exception:\n",
      "\u001b[1;31mValueError\u001b[0m                                Traceback (most recent call last)",
      "\u001b[1;32m~\\AppData\\Local\\Temp\\ipykernel_12584\\2218300059.py\u001b[0m in \u001b[0;36m?\u001b[1;34m()\u001b[0m\n\u001b[0;32m      4\u001b[0m \u001b[1;33m\u001b[0m\u001b[0m\n\u001b[0;32m      5\u001b[0m \u001b[0mX\u001b[0m\u001b[1;33m,\u001b[0m \u001b[0my\u001b[0m \u001b[1;33m=\u001b[0m \u001b[0mdf\u001b[0m\u001b[1;33m.\u001b[0m\u001b[0mdrop\u001b[0m\u001b[1;33m(\u001b[0m\u001b[0mcolumns\u001b[0m\u001b[1;33m=\u001b[0m\u001b[1;33m[\u001b[0m\u001b[0mtarget\u001b[0m\u001b[1;33m,\u001b[0m \u001b[1;34m'FEN'\u001b[0m\u001b[1;33m,\u001b[0m \u001b[1;34m'Board'\u001b[0m\u001b[1;33m]\u001b[0m\u001b[1;33m)\u001b[0m\u001b[1;33m,\u001b[0m \u001b[0mdf\u001b[0m\u001b[1;33m[\u001b[0m\u001b[0mtarget\u001b[0m\u001b[1;33m]\u001b[0m\u001b[1;33m\u001b[0m\u001b[1;33m\u001b[0m\u001b[0m\n\u001b[0;32m      6\u001b[0m \u001b[0mX_train\u001b[0m\u001b[1;33m,\u001b[0m \u001b[0mX_test\u001b[0m\u001b[1;33m,\u001b[0m \u001b[0my_train\u001b[0m\u001b[1;33m,\u001b[0m \u001b[0my_test\u001b[0m \u001b[1;33m=\u001b[0m \u001b[0mtrain_test_split\u001b[0m\u001b[1;33m(\u001b[0m\u001b[0mX\u001b[0m\u001b[1;33m,\u001b[0m \u001b[0my\u001b[0m\u001b[1;33m,\u001b[0m \u001b[0mtest_size\u001b[0m\u001b[1;33m=\u001b[0m\u001b[1;36m0.2\u001b[0m\u001b[1;33m)\u001b[0m\u001b[1;33m\u001b[0m\u001b[1;33m\u001b[0m\u001b[0m\n\u001b[0;32m      7\u001b[0m \u001b[1;33m\u001b[0m\u001b[0m\n\u001b[1;32m----> 8\u001b[1;33m \u001b[0mclf\u001b[0m\u001b[1;33m.\u001b[0m\u001b[0mfit\u001b[0m\u001b[1;33m(\u001b[0m\u001b[0mX_train\u001b[0m\u001b[1;33m,\u001b[0m \u001b[0my_train\u001b[0m\u001b[1;33m)\u001b[0m\u001b[1;33m\u001b[0m\u001b[1;33m\u001b[0m\u001b[0m\n\u001b[0m\u001b[0;32m      9\u001b[0m \u001b[0my_pred\u001b[0m \u001b[1;33m=\u001b[0m \u001b[0mclf\u001b[0m\u001b[1;33m.\u001b[0m\u001b[0mpredict\u001b[0m\u001b[1;33m(\u001b[0m\u001b[0mX_test\u001b[0m\u001b[1;33m)\u001b[0m\u001b[1;33m\u001b[0m\u001b[1;33m\u001b[0m\u001b[0m\n\u001b[0;32m     10\u001b[0m \u001b[1;33m\u001b[0m\u001b[0m\n\u001b[0;32m     11\u001b[0m \u001b[0mr2_score\u001b[0m\u001b[1;33m(\u001b[0m\u001b[0my_test\u001b[0m\u001b[1;33m,\u001b[0m \u001b[0my_pred\u001b[0m\u001b[1;33m)\u001b[0m\u001b[1;33m\u001b[0m\u001b[1;33m\u001b[0m\u001b[0m\n",
      "\u001b[1;32m~\\AppData\\Local\\Packages\\PythonSoftwareFoundation.Python.3.10_qbz5n2kfra8p0\\LocalCache\\local-packages\\Python310\\site-packages\\sklearn\\base.py\u001b[0m in \u001b[0;36m?\u001b[1;34m(estimator, *args, **kwargs)\u001b[0m\n\u001b[0;32m   1469\u001b[0m                 skip_parameter_validation=(\n\u001b[0;32m   1470\u001b[0m                     \u001b[0mprefer_skip_nested_validation\u001b[0m \u001b[1;32mor\u001b[0m \u001b[0mglobal_skip_validation\u001b[0m\u001b[1;33m\u001b[0m\u001b[1;33m\u001b[0m\u001b[0m\n\u001b[0;32m   1471\u001b[0m                 )\n\u001b[0;32m   1472\u001b[0m             ):\n\u001b[1;32m-> 1473\u001b[1;33m                 \u001b[1;32mreturn\u001b[0m \u001b[0mfit_method\u001b[0m\u001b[1;33m(\u001b[0m\u001b[0mestimator\u001b[0m\u001b[1;33m,\u001b[0m \u001b[1;33m*\u001b[0m\u001b[0margs\u001b[0m\u001b[1;33m,\u001b[0m \u001b[1;33m**\u001b[0m\u001b[0mkwargs\u001b[0m\u001b[1;33m)\u001b[0m\u001b[1;33m\u001b[0m\u001b[1;33m\u001b[0m\u001b[0m\n\u001b[0m",
      "\u001b[1;32m~\\AppData\\Local\\Packages\\PythonSoftwareFoundation.Python.3.10_qbz5n2kfra8p0\\LocalCache\\local-packages\\Python310\\site-packages\\sklearn\\ensemble\\_forest.py\u001b[0m in \u001b[0;36m?\u001b[1;34m(self, X, y, sample_weight)\u001b[0m\n\u001b[0;32m    359\u001b[0m         \u001b[1;31m# Validate or convert input data\u001b[0m\u001b[1;33m\u001b[0m\u001b[1;33m\u001b[0m\u001b[0m\n\u001b[0;32m    360\u001b[0m         \u001b[1;32mif\u001b[0m \u001b[0missparse\u001b[0m\u001b[1;33m(\u001b[0m\u001b[0my\u001b[0m\u001b[1;33m)\u001b[0m\u001b[1;33m:\u001b[0m\u001b[1;33m\u001b[0m\u001b[1;33m\u001b[0m\u001b[0m\n\u001b[0;32m    361\u001b[0m             \u001b[1;32mraise\u001b[0m \u001b[0mValueError\u001b[0m\u001b[1;33m(\u001b[0m\u001b[1;34m\"sparse multilabel-indicator for y is not supported.\"\u001b[0m\u001b[1;33m)\u001b[0m\u001b[1;33m\u001b[0m\u001b[1;33m\u001b[0m\u001b[0m\n\u001b[0;32m    362\u001b[0m \u001b[1;33m\u001b[0m\u001b[0m\n\u001b[1;32m--> 363\u001b[1;33m         X, y = self._validate_data(\n\u001b[0m\u001b[0;32m    364\u001b[0m             \u001b[0mX\u001b[0m\u001b[1;33m,\u001b[0m\u001b[1;33m\u001b[0m\u001b[1;33m\u001b[0m\u001b[0m\n\u001b[0;32m    365\u001b[0m             \u001b[0my\u001b[0m\u001b[1;33m,\u001b[0m\u001b[1;33m\u001b[0m\u001b[1;33m\u001b[0m\u001b[0m\n\u001b[0;32m    366\u001b[0m             \u001b[0mmulti_output\u001b[0m\u001b[1;33m=\u001b[0m\u001b[1;32mTrue\u001b[0m\u001b[1;33m,\u001b[0m\u001b[1;33m\u001b[0m\u001b[1;33m\u001b[0m\u001b[0m\n",
      "\u001b[1;32m~\\AppData\\Local\\Packages\\PythonSoftwareFoundation.Python.3.10_qbz5n2kfra8p0\\LocalCache\\local-packages\\Python310\\site-packages\\sklearn\\base.py\u001b[0m in \u001b[0;36m?\u001b[1;34m(self, X, y, reset, validate_separately, cast_to_ndarray, **check_params)\u001b[0m\n\u001b[0;32m    646\u001b[0m                 \u001b[1;32mif\u001b[0m \u001b[1;34m\"estimator\"\u001b[0m \u001b[1;32mnot\u001b[0m \u001b[1;32min\u001b[0m \u001b[0mcheck_y_params\u001b[0m\u001b[1;33m:\u001b[0m\u001b[1;33m\u001b[0m\u001b[1;33m\u001b[0m\u001b[0m\n\u001b[0;32m    647\u001b[0m                     \u001b[0mcheck_y_params\u001b[0m \u001b[1;33m=\u001b[0m \u001b[1;33m{\u001b[0m\u001b[1;33m**\u001b[0m\u001b[0mdefault_check_params\u001b[0m\u001b[1;33m,\u001b[0m \u001b[1;33m**\u001b[0m\u001b[0mcheck_y_params\u001b[0m\u001b[1;33m}\u001b[0m\u001b[1;33m\u001b[0m\u001b[1;33m\u001b[0m\u001b[0m\n\u001b[0;32m    648\u001b[0m                 \u001b[0my\u001b[0m \u001b[1;33m=\u001b[0m \u001b[0mcheck_array\u001b[0m\u001b[1;33m(\u001b[0m\u001b[0my\u001b[0m\u001b[1;33m,\u001b[0m \u001b[0minput_name\u001b[0m\u001b[1;33m=\u001b[0m\u001b[1;34m\"y\"\u001b[0m\u001b[1;33m,\u001b[0m \u001b[1;33m**\u001b[0m\u001b[0mcheck_y_params\u001b[0m\u001b[1;33m)\u001b[0m\u001b[1;33m\u001b[0m\u001b[1;33m\u001b[0m\u001b[0m\n\u001b[0;32m    649\u001b[0m             \u001b[1;32melse\u001b[0m\u001b[1;33m:\u001b[0m\u001b[1;33m\u001b[0m\u001b[1;33m\u001b[0m\u001b[0m\n\u001b[1;32m--> 650\u001b[1;33m                 \u001b[0mX\u001b[0m\u001b[1;33m,\u001b[0m \u001b[0my\u001b[0m \u001b[1;33m=\u001b[0m \u001b[0mcheck_X_y\u001b[0m\u001b[1;33m(\u001b[0m\u001b[0mX\u001b[0m\u001b[1;33m,\u001b[0m \u001b[0my\u001b[0m\u001b[1;33m,\u001b[0m \u001b[1;33m**\u001b[0m\u001b[0mcheck_params\u001b[0m\u001b[1;33m)\u001b[0m\u001b[1;33m\u001b[0m\u001b[1;33m\u001b[0m\u001b[0m\n\u001b[0m\u001b[0;32m    651\u001b[0m             \u001b[0mout\u001b[0m \u001b[1;33m=\u001b[0m \u001b[0mX\u001b[0m\u001b[1;33m,\u001b[0m \u001b[0my\u001b[0m\u001b[1;33m\u001b[0m\u001b[1;33m\u001b[0m\u001b[0m\n\u001b[0;32m    652\u001b[0m \u001b[1;33m\u001b[0m\u001b[0m\n\u001b[0;32m    653\u001b[0m         \u001b[1;32mif\u001b[0m \u001b[1;32mnot\u001b[0m \u001b[0mno_val_X\u001b[0m \u001b[1;32mand\u001b[0m \u001b[0mcheck_params\u001b[0m\u001b[1;33m.\u001b[0m\u001b[0mget\u001b[0m\u001b[1;33m(\u001b[0m\u001b[1;34m\"ensure_2d\"\u001b[0m\u001b[1;33m,\u001b[0m \u001b[1;32mTrue\u001b[0m\u001b[1;33m)\u001b[0m\u001b[1;33m:\u001b[0m\u001b[1;33m\u001b[0m\u001b[1;33m\u001b[0m\u001b[0m\n",
      "\u001b[1;32m~\\AppData\\Local\\Packages\\PythonSoftwareFoundation.Python.3.10_qbz5n2kfra8p0\\LocalCache\\local-packages\\Python310\\site-packages\\sklearn\\utils\\validation.py\u001b[0m in \u001b[0;36m?\u001b[1;34m(X, y, accept_sparse, accept_large_sparse, dtype, order, copy, force_writeable, force_all_finite, ensure_2d, allow_nd, multi_output, ensure_min_samples, ensure_min_features, y_numeric, estimator)\u001b[0m\n\u001b[0;32m   1297\u001b[0m         raise ValueError(\n\u001b[0;32m   1298\u001b[0m             \u001b[1;34mf\"{estimator_name} requires y to be passed, but the target y is None\"\u001b[0m\u001b[1;33m\u001b[0m\u001b[1;33m\u001b[0m\u001b[0m\n\u001b[0;32m   1299\u001b[0m         )\n\u001b[0;32m   1300\u001b[0m \u001b[1;33m\u001b[0m\u001b[0m\n\u001b[1;32m-> 1301\u001b[1;33m     X = check_array(\n\u001b[0m\u001b[0;32m   1302\u001b[0m         \u001b[0mX\u001b[0m\u001b[1;33m,\u001b[0m\u001b[1;33m\u001b[0m\u001b[1;33m\u001b[0m\u001b[0m\n\u001b[0;32m   1303\u001b[0m         \u001b[0maccept_sparse\u001b[0m\u001b[1;33m=\u001b[0m\u001b[0maccept_sparse\u001b[0m\u001b[1;33m,\u001b[0m\u001b[1;33m\u001b[0m\u001b[1;33m\u001b[0m\u001b[0m\n\u001b[0;32m   1304\u001b[0m         \u001b[0maccept_large_sparse\u001b[0m\u001b[1;33m=\u001b[0m\u001b[0maccept_large_sparse\u001b[0m\u001b[1;33m,\u001b[0m\u001b[1;33m\u001b[0m\u001b[1;33m\u001b[0m\u001b[0m\n",
      "\u001b[1;32m~\\AppData\\Local\\Packages\\PythonSoftwareFoundation.Python.3.10_qbz5n2kfra8p0\\LocalCache\\local-packages\\Python310\\site-packages\\sklearn\\utils\\validation.py\u001b[0m in \u001b[0;36m?\u001b[1;34m(array, accept_sparse, accept_large_sparse, dtype, order, copy, force_writeable, force_all_finite, ensure_2d, allow_nd, ensure_min_samples, ensure_min_features, estimator, input_name)\u001b[0m\n\u001b[0;32m   1009\u001b[0m                         )\n\u001b[0;32m   1010\u001b[0m                     \u001b[0marray\u001b[0m \u001b[1;33m=\u001b[0m \u001b[0mxp\u001b[0m\u001b[1;33m.\u001b[0m\u001b[0mastype\u001b[0m\u001b[1;33m(\u001b[0m\u001b[0marray\u001b[0m\u001b[1;33m,\u001b[0m \u001b[0mdtype\u001b[0m\u001b[1;33m,\u001b[0m \u001b[0mcopy\u001b[0m\u001b[1;33m=\u001b[0m\u001b[1;32mFalse\u001b[0m\u001b[1;33m)\u001b[0m\u001b[1;33m\u001b[0m\u001b[1;33m\u001b[0m\u001b[0m\n\u001b[0;32m   1011\u001b[0m                 \u001b[1;32melse\u001b[0m\u001b[1;33m:\u001b[0m\u001b[1;33m\u001b[0m\u001b[1;33m\u001b[0m\u001b[0m\n\u001b[0;32m   1012\u001b[0m                     \u001b[0marray\u001b[0m \u001b[1;33m=\u001b[0m \u001b[0m_asarray_with_order\u001b[0m\u001b[1;33m(\u001b[0m\u001b[0marray\u001b[0m\u001b[1;33m,\u001b[0m \u001b[0morder\u001b[0m\u001b[1;33m=\u001b[0m\u001b[0morder\u001b[0m\u001b[1;33m,\u001b[0m \u001b[0mdtype\u001b[0m\u001b[1;33m=\u001b[0m\u001b[0mdtype\u001b[0m\u001b[1;33m,\u001b[0m \u001b[0mxp\u001b[0m\u001b[1;33m=\u001b[0m\u001b[0mxp\u001b[0m\u001b[1;33m)\u001b[0m\u001b[1;33m\u001b[0m\u001b[1;33m\u001b[0m\u001b[0m\n\u001b[1;32m-> 1013\u001b[1;33m             \u001b[1;32mexcept\u001b[0m \u001b[0mComplexWarning\u001b[0m \u001b[1;32mas\u001b[0m \u001b[0mcomplex_warning\u001b[0m\u001b[1;33m:\u001b[0m\u001b[1;33m\u001b[0m\u001b[1;33m\u001b[0m\u001b[0m\n\u001b[0m\u001b[0;32m   1014\u001b[0m                 raise ValueError(\n\u001b[0;32m   1015\u001b[0m                     \u001b[1;34m\"Complex data not supported\\n{}\\n\"\u001b[0m\u001b[1;33m.\u001b[0m\u001b[0mformat\u001b[0m\u001b[1;33m(\u001b[0m\u001b[0marray\u001b[0m\u001b[1;33m)\u001b[0m\u001b[1;33m\u001b[0m\u001b[1;33m\u001b[0m\u001b[0m\n\u001b[0;32m   1016\u001b[0m                 ) from complex_warning\n",
      "\u001b[1;32m~\\AppData\\Local\\Packages\\PythonSoftwareFoundation.Python.3.10_qbz5n2kfra8p0\\LocalCache\\local-packages\\Python310\\site-packages\\sklearn\\utils\\_array_api.py\u001b[0m in \u001b[0;36m?\u001b[1;34m(array, dtype, order, copy, xp, device)\u001b[0m\n\u001b[0;32m    741\u001b[0m         \u001b[1;31m# Use NumPy API to support order\u001b[0m\u001b[1;33m\u001b[0m\u001b[1;33m\u001b[0m\u001b[0m\n\u001b[0;32m    742\u001b[0m         \u001b[1;32mif\u001b[0m \u001b[0mcopy\u001b[0m \u001b[1;32mis\u001b[0m \u001b[1;32mTrue\u001b[0m\u001b[1;33m:\u001b[0m\u001b[1;33m\u001b[0m\u001b[1;33m\u001b[0m\u001b[0m\n\u001b[0;32m    743\u001b[0m             \u001b[0marray\u001b[0m \u001b[1;33m=\u001b[0m \u001b[0mnumpy\u001b[0m\u001b[1;33m.\u001b[0m\u001b[0marray\u001b[0m\u001b[1;33m(\u001b[0m\u001b[0marray\u001b[0m\u001b[1;33m,\u001b[0m \u001b[0morder\u001b[0m\u001b[1;33m=\u001b[0m\u001b[0morder\u001b[0m\u001b[1;33m,\u001b[0m \u001b[0mdtype\u001b[0m\u001b[1;33m=\u001b[0m\u001b[0mdtype\u001b[0m\u001b[1;33m)\u001b[0m\u001b[1;33m\u001b[0m\u001b[1;33m\u001b[0m\u001b[0m\n\u001b[0;32m    744\u001b[0m         \u001b[1;32melse\u001b[0m\u001b[1;33m:\u001b[0m\u001b[1;33m\u001b[0m\u001b[1;33m\u001b[0m\u001b[0m\n\u001b[1;32m--> 745\u001b[1;33m             \u001b[0marray\u001b[0m \u001b[1;33m=\u001b[0m \u001b[0mnumpy\u001b[0m\u001b[1;33m.\u001b[0m\u001b[0masarray\u001b[0m\u001b[1;33m(\u001b[0m\u001b[0marray\u001b[0m\u001b[1;33m,\u001b[0m \u001b[0morder\u001b[0m\u001b[1;33m=\u001b[0m\u001b[0morder\u001b[0m\u001b[1;33m,\u001b[0m \u001b[0mdtype\u001b[0m\u001b[1;33m=\u001b[0m\u001b[0mdtype\u001b[0m\u001b[1;33m)\u001b[0m\u001b[1;33m\u001b[0m\u001b[1;33m\u001b[0m\u001b[0m\n\u001b[0m\u001b[0;32m    746\u001b[0m \u001b[1;33m\u001b[0m\u001b[0m\n\u001b[0;32m    747\u001b[0m         \u001b[1;31m# At this point array is a NumPy ndarray. We convert it to an array\u001b[0m\u001b[1;33m\u001b[0m\u001b[1;33m\u001b[0m\u001b[0m\n\u001b[0;32m    748\u001b[0m         \u001b[1;31m# container that is consistent with the input's namespace.\u001b[0m\u001b[1;33m\u001b[0m\u001b[1;33m\u001b[0m\u001b[0m\n",
      "\u001b[1;32m~\\AppData\\Local\\Packages\\PythonSoftwareFoundation.Python.3.10_qbz5n2kfra8p0\\LocalCache\\local-packages\\Python310\\site-packages\\pandas\\core\\generic.py\u001b[0m in \u001b[0;36m?\u001b[1;34m(self, dtype, copy)\u001b[0m\n\u001b[0;32m   2149\u001b[0m     def __array__(\n\u001b[0;32m   2150\u001b[0m         \u001b[0mself\u001b[0m\u001b[1;33m,\u001b[0m \u001b[0mdtype\u001b[0m\u001b[1;33m:\u001b[0m \u001b[0mnpt\u001b[0m\u001b[1;33m.\u001b[0m\u001b[0mDTypeLike\u001b[0m \u001b[1;33m|\u001b[0m \u001b[1;32mNone\u001b[0m \u001b[1;33m=\u001b[0m \u001b[1;32mNone\u001b[0m\u001b[1;33m,\u001b[0m \u001b[0mcopy\u001b[0m\u001b[1;33m:\u001b[0m \u001b[0mbool_t\u001b[0m \u001b[1;33m|\u001b[0m \u001b[1;32mNone\u001b[0m \u001b[1;33m=\u001b[0m \u001b[1;32mNone\u001b[0m\u001b[1;33m\u001b[0m\u001b[1;33m\u001b[0m\u001b[0m\n\u001b[0;32m   2151\u001b[0m     ) -> np.ndarray:\n\u001b[0;32m   2152\u001b[0m         \u001b[0mvalues\u001b[0m \u001b[1;33m=\u001b[0m \u001b[0mself\u001b[0m\u001b[1;33m.\u001b[0m\u001b[0m_values\u001b[0m\u001b[1;33m\u001b[0m\u001b[1;33m\u001b[0m\u001b[0m\n\u001b[1;32m-> 2153\u001b[1;33m         \u001b[0marr\u001b[0m \u001b[1;33m=\u001b[0m \u001b[0mnp\u001b[0m\u001b[1;33m.\u001b[0m\u001b[0masarray\u001b[0m\u001b[1;33m(\u001b[0m\u001b[0mvalues\u001b[0m\u001b[1;33m,\u001b[0m \u001b[0mdtype\u001b[0m\u001b[1;33m=\u001b[0m\u001b[0mdtype\u001b[0m\u001b[1;33m)\u001b[0m\u001b[1;33m\u001b[0m\u001b[1;33m\u001b[0m\u001b[0m\n\u001b[0m\u001b[0;32m   2154\u001b[0m         if (\n\u001b[0;32m   2155\u001b[0m             \u001b[0mastype_is_view\u001b[0m\u001b[1;33m(\u001b[0m\u001b[0mvalues\u001b[0m\u001b[1;33m.\u001b[0m\u001b[0mdtype\u001b[0m\u001b[1;33m,\u001b[0m \u001b[0marr\u001b[0m\u001b[1;33m.\u001b[0m\u001b[0mdtype\u001b[0m\u001b[1;33m)\u001b[0m\u001b[1;33m\u001b[0m\u001b[1;33m\u001b[0m\u001b[0m\n\u001b[0;32m   2156\u001b[0m             \u001b[1;32mand\u001b[0m \u001b[0musing_copy_on_write\u001b[0m\u001b[1;33m(\u001b[0m\u001b[1;33m)\u001b[0m\u001b[1;33m\u001b[0m\u001b[1;33m\u001b[0m\u001b[0m\n",
      "\u001b[1;31mValueError\u001b[0m: setting an array element with a sequence."
     ]
    }
   ],
   "source": [
    "from sklearn.ensemble import RandomForestRegressor\n",
    "from sklearn.metrics import r2_score\n",
    "clf = RandomForestRegressor()\n",
    "\n",
    "X, y = df.drop(columns=[target, 'FEN', 'Board']), df[target]\n",
    "X_train, X_test, y_train, y_test = train_test_split(X, y, test_size=0.2)\n",
    "\n",
    "clf.fit(X_train, y_train)\n",
    "y_pred = clf.predict(X_test)\n",
    "\n",
    "r2_score(y_test, y_pred)"
   ]
  },
  {
   "cell_type": "markdown",
   "metadata": {},
   "source": [
    "## References\n",
    "\n",
    "1. [Chess Piece Relative Value - Wikipedia](https://en.wikipedia.org/wiki/Chess_piece_relative_value)\n",
    "2. [Doubled pawns - Wikipedia](https://en.wikipedia.org/wiki/Doubled_pawn)\n",
    "3. [Fork (chess) - Wikipedia](https://en.wikipedia.org/wiki/Fork_(chess))"
   ]
  }
 ],
 "metadata": {
  "kernelspec": {
   "display_name": "Python 3",
   "language": "python",
   "name": "python3"
  },
  "language_info": {
   "codemirror_mode": {
    "name": "ipython",
    "version": 3
   },
   "file_extension": ".py",
   "mimetype": "text/x-python",
   "name": "python",
   "nbconvert_exporter": "python",
   "pygments_lexer": "ipython3",
   "version": "3.10.11"
  }
 },
 "nbformat": 4,
 "nbformat_minor": 2
}
