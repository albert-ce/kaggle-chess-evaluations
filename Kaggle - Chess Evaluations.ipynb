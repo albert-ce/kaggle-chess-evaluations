{
 "cells": [
  {
   "cell_type": "markdown",
   "metadata": {},
   "source": [
    "# ***Kaggle:*** Chess Evaluations\n",
    "\n",
    "| Author's Name         | NIU     |\n",
    "| --------------------- | ------- |\n",
    "| Albert Capdevila      | 1587933 |\n",
    "\n",
    "<small>*This Jupyter Notebook is submitted as an assignment for the Machine Learning subject in the Computer Engineering degree at the Universitat Autònoma de Barcelona (UAB).*<small>"
   ]
  },
  {
   "cell_type": "markdown",
   "metadata": {},
   "source": [
    "## 1. Problem definition\n",
    "\n",
    "In computer chess, an evaluation function estimates the strength of a position by assigning a numerical score that indicates which side (White or Black) has the advantage and by how much.\n",
    "\n",
    "This score is based on the values of chess pieces, which are traditionally:\n",
    "| Piece  | Pawn | Knight | Bishop | Rook | Queen |\n",
    "|--------|------|--------|--------|------|-------|\n",
    "| Symbol | ![Pawn](https://upload.wikimedia.org/wikipedia/commons/thumb/4/45/Chess_plt45.svg/45px-Chess_plt45.svg.png) | ![Knight](https://upload.wikimedia.org/wikipedia/commons/thumb/7/70/Chess_nlt45.svg/45px-Chess_nlt45.svg.png) | ![Bishop](https://upload.wikimedia.org/wikipedia/commons/thumb/b/b1/Chess_blt45.svg/45px-Chess_blt45.svg.png) | ![Rook](https://upload.wikimedia.org/wikipedia/commons/thumb/7/72/Chess_rlt45.svg/45px-Chess_rlt45.svg.png) | ![Queen](https://upload.wikimedia.org/wikipedia/commons/thumb/1/15/Chess_qlt45.svg/45px-Chess_qlt45.svg.png) |\n",
    "| Value  | 1    | 3      | 3      | 5    | 9     |\n",
    "\n",
    "<small>*The value of the king is undefined as it cannot be captured, let alone traded, during the course of the game. Chess engines usually assign the king an arbitrary large value such as 200 points [¹](#references).*</small>\n",
    "\n",
    "These values show that, for example, capturing a bishop is equivalent to capturing three pawns. Therefore, all of them can be expressed in *'pawn units'*.\n",
    "\n",
    "It’s also important to note that evaluations are opposite, with positive values indicating an advantage for White and negative values for Black. For example, a negative evaluation of $-3$ pawns may indicate that Black has an advantage equivalent to three pawns, a bishop, or a knight.\n",
    "\n",
    "Usually, these evaluations are calculated by complex algorithms, such as *Stockfish*, which are based on **minimax** principles, calculating, pruning, and predicting the best moves across multiple levels of depth. These algorithms can be slow and computationally intensive, as they analyze many possible future moves in a position. This notebook will explore the use of regression models to achieve similar results more quickly.\n",
    "\n",
    "***In this notebook, we aim to estimate the evaluation score of a chess position through feature extraction and simple regression techniques.***\n",
    "\n"
   ]
  },
  {
   "cell_type": "markdown",
   "metadata": {},
   "source": [
    "## 2. Data collection\n",
    "\n",
    "For this machine learning problem, we will use the **Chess Evaluations** dataset, available [here](https://www.kaggle.com/datasets/ronakbadhe/chess-evaluations/data) on Kaggle. The dataset contains two columns: \n",
    "\n",
    "| Feature             | Description                                                                 |\n",
    "|---------------------|-----------------------------------------------------------------------------|\n",
    "| **Position (FEN)**  | This is a string representing the chess position in Forsyth-Edwards Notation (FEN). |\n",
    "| **Evaluation**      | This is the evaluation of the position in ***centipawns***. `#` means that there is forced checkmate. |\n",
    "\n",
    "The evaluations are in centi-pawns and are generated from Stockfish 11 at depth 22.\n",
    "\n",
    "Let’s download and import the dataset:"
   ]
  },
  {
   "cell_type": "code",
   "execution_count": 91,
   "metadata": {},
   "outputs": [
    {
     "name": "stdout",
     "output_type": "stream",
     "text": [
      "The 'data' directory was found successfully ✓\n"
     ]
    }
   ],
   "source": [
    "\n",
    "from kaggle.api.kaggle_api_extended import KaggleApi\n",
    "from zipfile import ZipFile\n",
    "from tqdm import tqdm\n",
    "import pandas as pd\n",
    "import numpy as np\n",
    "import re\n",
    "import os \n",
    "\n",
    "api = KaggleApi()\n",
    "api.authenticate()\n",
    "\n",
    "dataser_owner = 'ronakbadhe'\n",
    "dataset_name= 'chess-evaluations'\n",
    "dataset = f'{dataser_owner}/{dataset_name}'\n",
    "target = 'Evaluation'\n",
    "\n",
    "if not os.path.isdir('data'):\n",
    "  print(\"The 'data' directory was not found\")\n",
    "  print(\"Downloading the dataset from Kaggle...\")\n",
    "  os.mkdir('data')\n",
    "  api.dataset_download_files(dataset = dataset,path = 'data')\n",
    "  zf = ZipFile(f'data/{dataset_name}.zip')\n",
    "  zf.extractall(f'data')\n",
    "  zf.close()\n",
    "  os.remove(f'data/{dataset_name}.zip')\n",
    "  print(\"Dataset downloaded successfully ✓\")\n",
    "else:\n",
    "  print(\"The 'data' directory was found successfully ✓\")"
   ]
  },
  {
   "cell_type": "code",
   "execution_count": 92,
   "metadata": {},
   "outputs": [
    {
     "name": "stdout",
     "output_type": "stream",
     "text": [
      "Reading the file 'chessData.csv'...\n",
      "File 'chessData.csv' read successfully ✓\n"
     ]
    }
   ],
   "source": [
    "csvFile = \"chessData.csv\"\n",
    "print(f\"Reading the file '{csvFile}'...\")\n",
    "\n",
    "df = pd.read_csv(f'data/{csvFile}')\n",
    "\n",
    "print(f\"File '{csvFile}' read successfully ✓\")"
   ]
  },
  {
   "cell_type": "code",
   "execution_count": 93,
   "metadata": {},
   "outputs": [],
   "source": [
    "# Reducing the dataset size to make it faster to work with\n",
    "from sklearn.model_selection import train_test_split\n",
    "\n",
    "_, df = train_test_split(df, test_size=0.001, random_state=42)"
   ]
  },
  {
   "cell_type": "code",
   "execution_count": 94,
   "metadata": {},
   "outputs": [
    {
     "data": {
      "text/html": [
       "<div>\n",
       "<style scoped>\n",
       "    .dataframe tbody tr th:only-of-type {\n",
       "        vertical-align: middle;\n",
       "    }\n",
       "\n",
       "    .dataframe tbody tr th {\n",
       "        vertical-align: top;\n",
       "    }\n",
       "\n",
       "    .dataframe thead th {\n",
       "        text-align: right;\n",
       "    }\n",
       "</style>\n",
       "<table border=\"1\" class=\"dataframe\">\n",
       "  <thead>\n",
       "    <tr style=\"text-align: right;\">\n",
       "      <th></th>\n",
       "      <th>FEN</th>\n",
       "      <th>Evaluation</th>\n",
       "    </tr>\n",
       "  </thead>\n",
       "  <tbody>\n",
       "    <tr>\n",
       "      <th>11784899</th>\n",
       "      <td>r3k2r/1b2bppp/p1n1pn2/1p2N1B1/8/2NB1P2/PPP3PP/...</td>\n",
       "      <td>-35</td>\n",
       "    </tr>\n",
       "    <tr>\n",
       "      <th>8860705</th>\n",
       "      <td>r3k2r/1pp2p2/1bnp1q2/p2Bp1p1/PP2P1bP/1QPP1N2/3...</td>\n",
       "      <td>-201</td>\n",
       "    </tr>\n",
       "    <tr>\n",
       "      <th>7376649</th>\n",
       "      <td>6k1/2p3pp/8/8/P3R3/3r1PP1/5K1P/8 b - - 0 30</td>\n",
       "      <td>+121</td>\n",
       "    </tr>\n",
       "    <tr>\n",
       "      <th>2224083</th>\n",
       "      <td>1r6/2rnppkp/1q1p2n1/2pP2p1/2b5/1P4PP/P1QNPPB1/...</td>\n",
       "      <td>+280</td>\n",
       "    </tr>\n",
       "    <tr>\n",
       "      <th>4108821</th>\n",
       "      <td>5k2/3R4/1p1p4/3n2pp/8/8/PP6/6K1 b - - 1 35</td>\n",
       "      <td>+328</td>\n",
       "    </tr>\n",
       "  </tbody>\n",
       "</table>\n",
       "</div>"
      ],
      "text/plain": [
       "                                                        FEN Evaluation\n",
       "11784899  r3k2r/1b2bppp/p1n1pn2/1p2N1B1/8/2NB1P2/PPP3PP/...        -35\n",
       "8860705   r3k2r/1pp2p2/1bnp1q2/p2Bp1p1/PP2P1bP/1QPP1N2/3...       -201\n",
       "7376649         6k1/2p3pp/8/8/P3R3/3r1PP1/5K1P/8 b - - 0 30       +121\n",
       "2224083   1r6/2rnppkp/1q1p2n1/2pP2p1/2b5/1P4PP/P1QNPPB1/...       +280\n",
       "4108821          5k2/3R4/1p1p4/3n2pp/8/8/PP6/6K1 b - - 1 35       +328"
      ]
     },
     "execution_count": 94,
     "metadata": {},
     "output_type": "execute_result"
    }
   ],
   "source": [
    "df.head()"
   ]
  },
  {
   "cell_type": "markdown",
   "metadata": {},
   "source": [
    "## 3. Data preprocessing"
   ]
  },
  {
   "cell_type": "markdown",
   "metadata": {},
   "source": [
    "### 3.1 Missing Data"
   ]
  },
  {
   "cell_type": "code",
   "execution_count": 95,
   "metadata": {},
   "outputs": [
    {
     "data": {
      "text/plain": [
       "FEN           0\n",
       "Evaluation    0\n",
       "dtype: int64"
      ]
     },
     "execution_count": 95,
     "metadata": {},
     "output_type": "execute_result"
    }
   ],
   "source": [
    "df.isna().sum()"
   ]
  },
  {
   "cell_type": "markdown",
   "metadata": {},
   "source": [
    "Since there are no missing values, there is no need to handle NaN values."
   ]
  },
  {
   "cell_type": "markdown",
   "metadata": {},
   "source": [
    "### 3.2 Data Conversion"
   ]
  },
  {
   "cell_type": "code",
   "execution_count": 96,
   "metadata": {},
   "outputs": [
    {
     "data": {
      "text/plain": [
       "FEN           object\n",
       "Evaluation    object\n",
       "dtype: object"
      ]
     },
     "execution_count": 96,
     "metadata": {},
     "output_type": "execute_result"
    }
   ],
   "source": [
    "df.dtypes"
   ]
  },
  {
   "cell_type": "markdown",
   "metadata": {},
   "source": [
    "The evaluation feature is a string that starts with either a \"+\" or \"-\" symbol. To use it in the model, it will need to be converted into a numeric value.\n",
    "\n",
    "It may also include the character `#`, but since this is not relevant to the current problem, we will ignore it."
   ]
  },
  {
   "cell_type": "code",
   "execution_count": 97,
   "metadata": {},
   "outputs": [
    {
     "name": "stderr",
     "output_type": "stream",
     "text": [
      "Converting 'Evaluation' to numeric values: 100%|██████████| 12959/12959 [00:00<00:00, 518338.25it/s]\n"
     ]
    }
   ],
   "source": [
    "tqdm.pandas(desc=\"Converting 'Evaluation' to numeric values\")\n",
    "df['Evaluation'] = df['Evaluation'].progress_apply(lambda x: int(x) if '#' not in x else int(x.replace('#', '')))"
   ]
  },
  {
   "cell_type": "code",
   "execution_count": 98,
   "metadata": {},
   "outputs": [
    {
     "data": {
      "text/plain": [
       "FEN           object\n",
       "Evaluation     int64\n",
       "dtype: object"
      ]
     },
     "execution_count": 98,
     "metadata": {},
     "output_type": "execute_result"
    }
   ],
   "source": [
    "df.dtypes"
   ]
  },
  {
   "cell_type": "markdown",
   "metadata": {},
   "source": [
    "### 3.3 Data Normalization\n",
    "\n",
    "Apart from the target feature (Evaluation), the dataset contains only one feature: FEN, which cannot be normalized. Therefore, normalization is not applicable in this case."
   ]
  },
  {
   "cell_type": "markdown",
   "metadata": {},
   "source": [
    "### 3.4 Feature extraction\n",
    "\n",
    "In this section, we will focus on feature extraction, which is the most important step in building our model to predict the evaluation of a chess position. At the moment, we only have the FEN notation of the chess position, and our goal is to extract useful features from it."
   ]
  },
  {
   "cell_type": "markdown",
   "metadata": {},
   "source": [
    "#### 3.4.1 Information in the FEN Notation\n",
    "\n",
    "Forsyth–Edwards Notation (FEN) is a standard notation for describing a particular board position of a chess game.\n",
    "\n",
    "A typical FEN string looks like this: `rnbqkbnr/pppppppp/8/8/4P3/8/PPPP1PPP/RNBQKBNR b KQkq e3 0 1`\n",
    "\n",
    "The FEN string above represents the following board position:\n",
    "\n",
    "<img src=\"img/example_board.svg\" alt=\"Example Board\" width=\"300\"/>\n",
    "\n",
    "A FEN string has six fields, each separated by a space:\n",
    "\n",
    "1. **Piece placement data:**\n",
    "\n",
    "    It is the arrangement of pieces on the board, row by row, from top to bottom. Each piece is represented by a letter (uppercase for White and lowercase for Black). Empty squares are indicated by numbers.\n",
    "\n",
    "2. **Active color:**\n",
    "\n",
    "    Indicates which side is to move (`w` for White, `b` for Black).\n",
    "\n",
    "3. **Castling availability:**\n",
    "\n",
    "    If no castling is possible, this field is `-`. Otherwise, it shows `K`, `Q`, `k`, or `q` for available castling options.\n",
    "\n",
    "4. **En passant target square:**\n",
    "\n",
    "    Indicates the square where an en passant capture is possible, or `-` if not.\n",
    "\n",
    "5. **Halfmove clock:**\n",
    "\n",
    "    Counts the number of halfmoves since the last pawn advance or capture, used for the 50-move rule. \n",
    "\n",
    "6. **Fullmove number:**\n",
    "\n",
    "    Tracks the total number of moves in the game, starting at 1 and incrementing after each Black move.\n",
    "\n",
    "Only using this information, we can start extracting some simple new features:"
   ]
  },
  {
   "cell_type": "code",
   "execution_count": 99,
   "metadata": {},
   "outputs": [
    {
     "name": "stderr",
     "output_type": "stream",
     "text": [
      "Adding column 'White_pieces_count': 100%|██████████| 12959/12959 [00:00<00:00, 100461.12it/s]\n",
      "Adding column 'Black_pieces_count': 100%|██████████| 12959/12959 [00:00<00:00, 134915.60it/s]\n"
     ]
    }
   ],
   "source": [
    "def count_white_pieces(fen):\n",
    "    return len(re.findall(r'[KQRBNP]', fen))\n",
    "\n",
    "def count_black_pieces(fen):\n",
    "    return len(re.findall(r'[kqrbnp]', fen))\n",
    "\n",
    "tqdm.pandas(desc=\"Adding column 'White_pieces_count'\")\n",
    "df['White_pieces_count'] = df['FEN'].progress_apply(count_white_pieces)\n",
    "tqdm.pandas(desc=\"Adding column 'Black_pieces_count'\")\n",
    "df['Black_pieces_count'] = df['FEN'].progress_apply(count_black_pieces)"
   ]
  },
  {
   "cell_type": "code",
   "execution_count": 100,
   "metadata": {},
   "outputs": [
    {
     "name": "stderr",
     "output_type": "stream",
     "text": [
      "Adding column 'White_material': 100%|██████████| 12959/12959 [00:00<00:00, 129552.13it/s]\n",
      "Adding column 'Black_material': 100%|██████████| 12959/12959 [00:00<00:00, 118860.83it/s]"
     ]
    },
    {
     "name": "stdout",
     "output_type": "stream",
     "text": [
      "Added column 'Material_difference' ✓\n"
     ]
    },
    {
     "name": "stderr",
     "output_type": "stream",
     "text": [
      "\n"
     ]
    }
   ],
   "source": [
    "piece_values = {\n",
    "    'P': 1, 'N': 3, 'B': 3, 'R': 5, 'Q': 9,\n",
    "    'p': -1, 'n': -3, 'b': -3, 'r': -5, 'q': -9\n",
    "}\n",
    "\n",
    "# The king's value is ignored for now.\n",
    "\n",
    "def get_white_material(fen):\n",
    "    return sum(piece_values[piece] for piece in re.findall(r'[QRBNP]', fen))\n",
    "\n",
    "def get_black_material(fen):\n",
    "    return -sum(piece_values[piece] for piece in re.findall(r'[qrbnp]', fen))\n",
    "\n",
    "tqdm.pandas(desc=\"Adding column 'White_material'\")\n",
    "df['White_material'] = df['FEN'].progress_apply(get_white_material)\n",
    "\n",
    "tqdm.pandas(desc=\"Adding column 'Black_material'\")\n",
    "df['Black_material'] = df['FEN'].progress_apply(get_black_material)\n",
    "\n",
    "df[\"Material_difference\"] = df['White_material'] - df['Black_material']\n",
    "print(\"Added column 'Material_difference' ✓\")"
   ]
  },
  {
   "cell_type": "code",
   "execution_count": 101,
   "metadata": {},
   "outputs": [
    {
     "name": "stderr",
     "output_type": "stream",
     "text": [
      "Adding column 'Turn': 100%|██████████| 12959/12959 [00:00<00:00, 417853.65it/s]\n"
     ]
    }
   ],
   "source": [
    "def get_turn(fen):\n",
    "    return 1 if fen.split(' ')[1] == 'w' else -1\n",
    "\n",
    "tqdm.pandas(desc=\"Adding column 'Turn'\")\n",
    "df['Turn'] = df['FEN'].progress_apply(get_turn)"
   ]
  },
  {
   "cell_type": "code",
   "execution_count": 102,
   "metadata": {},
   "outputs": [
    {
     "name": "stderr",
     "output_type": "stream",
     "text": [
      "Adding column 'White_king_castling': 100%|██████████| 12959/12959 [00:00<00:00, 259193.84it/s]\n",
      "Adding column 'White_queen_castling': 100%|██████████| 12959/12959 [00:00<00:00, 269988.01it/s]\n",
      "Adding column 'Black_king_castling': 100%|██████████| 12959/12959 [00:00<00:00, 431737.19it/s]\n",
      "Adding column 'Black_queen_castling': 100%|██████████| 12959/12959 [00:00<00:00, 462854.98it/s]"
     ]
    },
    {
     "name": "stdout",
     "output_type": "stream",
     "text": [
      "Added column 'Castling_difference' ✓\n"
     ]
    },
    {
     "name": "stderr",
     "output_type": "stream",
     "text": [
      "\n"
     ]
    }
   ],
   "source": [
    "def get_castling(fen, char):\n",
    "    return int(char in fen.split(' ')[2])\n",
    "\n",
    "tqdm.pandas(desc=\"Adding column 'White_king_castling'\")\n",
    "df['White_king_castling'] = df['FEN'].progress_apply(lambda fen: get_castling(fen, 'K'))\n",
    "\n",
    "tqdm.pandas(desc=\"Adding column 'White_queen_castling'\")\n",
    "df['White_queen_castling'] = df['FEN'].progress_apply(lambda fen: get_castling(fen, 'Q'))\n",
    "\n",
    "tqdm.pandas(desc=\"Adding column 'Black_king_castling'\")\n",
    "df['Black_king_castling'] = df['FEN'].progress_apply(lambda fen: get_castling(fen, 'k'))\n",
    "\n",
    "tqdm.pandas(desc=\"Adding column 'Black_queen_castling'\")\n",
    "df['Black_queen_castling'] = df['FEN'].progress_apply(lambda fen: get_castling(fen, 'q'))\n",
    "\n",
    "df['Castling_difference'] = df['White_king_castling'] + df['White_queen_castling'] - df['Black_king_castling'] - df['Black_queen_castling']\n",
    "print(\"Added column 'Castling_difference' ✓\")\n"
   ]
  },
  {
   "cell_type": "code",
   "execution_count": 103,
   "metadata": {},
   "outputs": [
    {
     "name": "stderr",
     "output_type": "stream",
     "text": [
      "Adding column 'En_passant': 100%|██████████| 12959/12959 [00:00<00:00, 350388.30it/s]\n"
     ]
    }
   ],
   "source": [
    "def get_en_passant(fen):\n",
    "    # This feature is 1 if en passant is available for White, -1 for Black, and 0 if none\n",
    "    return int(fen.split(' ')[3] != '-') * 1 if fen.split(' ')[1] == 'w' else -1\n",
    "\n",
    "tqdm.pandas(desc=\"Adding column 'En_passant'\")\n",
    "df['En_passant'] = df['FEN'].progress_apply(get_en_passant)"
   ]
  },
  {
   "cell_type": "code",
   "execution_count": 104,
   "metadata": {},
   "outputs": [
    {
     "name": "stderr",
     "output_type": "stream",
     "text": [
      "Adding column 'Rule_50': 100%|██████████| 12959/12959 [00:00<00:00, 350395.08it/s]\n"
     ]
    }
   ],
   "source": [
    "def get_rule50(fen):\n",
    "    return int(fen.split(' ')[4]) * 1 if fen.split(' ')[1] == 'w' else -1\n",
    "\n",
    "tqdm.pandas(desc=\"Adding column 'Rule_50'\")\n",
    "df['Rule_50'] = df['FEN'].progress_apply(get_rule50)"
   ]
  },
  {
   "cell_type": "code",
   "execution_count": 105,
   "metadata": {},
   "outputs": [
    {
     "name": "stderr",
     "output_type": "stream",
     "text": [
      "Adding column 'N_moves': 100%|██████████| 12959/12959 [00:00<00:00, 294526.52it/s]\n"
     ]
    }
   ],
   "source": [
    "def get_n_moves(fen):\n",
    "    return int(fen.split(' ')[5]) + int(fen.split(' ')[1] == 'b')\n",
    "\n",
    "tqdm.pandas(desc=\"Adding column 'N_moves'\")\n",
    "df['N_moves'] = df['FEN'].progress_apply(get_n_moves)"
   ]
  },
  {
   "cell_type": "markdown",
   "metadata": {},
   "source": [
    "Let's see the correlations between the new features and the target variable:"
   ]
  },
  {
   "cell_type": "code",
   "execution_count": 106,
   "metadata": {},
   "outputs": [
    {
     "name": "stdout",
     "output_type": "stream",
     "text": [
      "Correlations with 'Evaluation' (sorted by absolute value):\n",
      "Evaluation              1.000000\n",
      "Material_difference     0.195666\n",
      "White_pieces_count      0.052898\n",
      "White_material          0.036804\n",
      "Black_pieces_count     -0.031224\n",
      "En_passant              0.028921\n",
      "Turn                    0.028843\n",
      "Rule_50                 0.021402\n",
      "Black_material         -0.017215\n",
      "N_moves                -0.007546\n",
      "Black_king_castling     0.001712\n",
      "Castling_difference    -0.001312\n",
      "White_king_castling    -0.000689\n",
      "White_queen_castling   -0.000240\n",
      "Black_queen_castling   -0.000061\n",
      "Name: Evaluation, dtype: float64\n"
     ]
    }
   ],
   "source": [
    "correlations = df.corr(numeric_only=True)['Evaluation']\n",
    "sorted_correlations = correlations.reindex(correlations.abs().sort_values(ascending=False).index)\n",
    "print(\"Correlations with 'Evaluation' (sorted by absolute value):\")\n",
    "print(sorted_correlations)"
   ]
  },
  {
   "cell_type": "markdown",
   "metadata": {},
   "source": [
    "There are no significant correlations.\n",
    "\n",
    "Currently, we only extract information from the FEN string, not from the position itself (for instance, two positions with the same pieces, turn, en passant, and number of moves would appear identical to the model).\n",
    "\n",
    "We need to extract information directly from the game. To achieve this, we'll use the chess library to obtain a board representation and apply some of its functions to build new features."
   ]
  },
  {
   "cell_type": "code",
   "execution_count": 107,
   "metadata": {},
   "outputs": [
    {
     "name": "stdout",
     "output_type": "stream",
     "text": [
      "Requirement already satisfied: chess in c:\\users\\albert\\appdata\\local\\packages\\pythonsoftwarefoundation.python.3.10_qbz5n2kfra8p0\\localcache\\local-packages\\python310\\site-packages (1.11.1)\n",
      "Note: you may need to restart the kernel to use updated packages.\n"
     ]
    }
   ],
   "source": [
    "%pip install chess\n",
    "import chess"
   ]
  },
  {
   "cell_type": "code",
   "execution_count": 108,
   "metadata": {},
   "outputs": [
    {
     "name": "stderr",
     "output_type": "stream",
     "text": [
      "Adding column 'Board': 100%|██████████| 12959/12959 [00:01<00:00, 9106.55it/s]\n"
     ]
    }
   ],
   "source": [
    "def get_board(fen):\n",
    "    return chess.Board(fen)\n",
    "\n",
    "tqdm.pandas(desc=\"Adding column 'Board'\")\n",
    "df['Board'] = df['FEN'].progress_apply(get_board)"
   ]
  },
  {
   "cell_type": "markdown",
   "metadata": {},
   "source": [
    "Here are a few features I think could have a strong correlation with the evaluation:\n",
    "\n",
    "* **Attack count:**\n",
    "    It is the number of squares attacked by each individual piece of a player. If a square is attacked by more than one piece, it is counted multiple times."
   ]
  },
  {
   "cell_type": "code",
   "execution_count": 109,
   "metadata": {},
   "outputs": [
    {
     "name": "stderr",
     "output_type": "stream",
     "text": [
      "Adding column 'White_attacks': 100%|██████████| 12959/12959 [00:02<00:00, 5276.29it/s]\n",
      "Adding column 'Black_attacks': 100%|██████████| 12959/12959 [00:02<00:00, 5250.80it/s]"
     ]
    },
    {
     "name": "stdout",
     "output_type": "stream",
     "text": [
      "Added column 'Attacks_difference' ✓\n"
     ]
    },
    {
     "name": "stderr",
     "output_type": "stream",
     "text": [
      "\n"
     ]
    }
   ],
   "source": [
    "def get_attacks_count(board, color):\n",
    "    return sum(len(board.attackers(color, square)) for square in chess.SQUARES)\n",
    "\n",
    "tqdm.pandas(desc=\"Adding column 'White_attacks'\")\n",
    "df['White_attacks'] = df['Board'].progress_apply(lambda board: get_attacks_count(board, chess.WHITE))\n",
    "\n",
    "tqdm.pandas(desc=\"Adding column 'Black_attacks'\")\n",
    "df['Black_attacks'] = df['Board'].progress_apply(lambda board: get_attacks_count(board, chess.BLACK))\n",
    "\n",
    "df[\"Attacks_difference\"] = df['White_attacks'] - df['Black_attacks']\n",
    "print(\"Added column 'Attacks_difference' ✓\")"
   ]
  },
  {
   "cell_type": "markdown",
   "metadata": {},
   "source": [
    "* **Central attack count**: It is the number of attacks on the central squares (d4, e4, d5, e5) by each individual piece of a player. If a square is attacked by more than one piece, it is counted multiple times. The central squares are often key in chess, as controlling them typically gives strategic advantages."
   ]
  },
  {
   "cell_type": "code",
   "execution_count": 110,
   "metadata": {},
   "outputs": [
    {
     "name": "stderr",
     "output_type": "stream",
     "text": [
      "Adding column 'White_central_attacks': 100%|██████████| 12959/12959 [00:00<00:00, 55618.13it/s]\n",
      "Adding column 'Black_central_attacks': 100%|██████████| 12959/12959 [00:00<00:00, 63838.62it/s]"
     ]
    },
    {
     "name": "stdout",
     "output_type": "stream",
     "text": [
      "Added column 'Central_attacks_difference' ✓\n"
     ]
    },
    {
     "name": "stderr",
     "output_type": "stream",
     "text": [
      "\n"
     ]
    }
   ],
   "source": [
    "def get_central_attacks_count(board, color):\n",
    "    central_squares = [chess.D4, chess.E4, chess.D5, chess.E5]\n",
    "    return sum(len(board.attackers(color, square)) for square in central_squares)\n",
    "\n",
    "tqdm.pandas(desc=\"Adding column 'White_central_attacks'\")\n",
    "df['White_central_attacks'] = df['Board'].progress_apply(lambda board: get_central_attacks_count(board, chess.WHITE))\n",
    "\n",
    "tqdm.pandas(desc=\"Adding column 'Black_central_attacks'\")\n",
    "df['Black_central_attacks'] = df['Board'].progress_apply(lambda board: get_central_attacks_count(board, chess.BLACK))\n",
    "df[\"Central_attacks_difference\"] = df['White_central_attacks'] - df['Black_central_attacks']\n",
    "print(\"Added column 'Central_attacks_difference' ✓\")"
   ]
  },
  {
   "cell_type": "markdown",
   "metadata": {},
   "source": [
    "* **Legal moves:**\n",
    "    It is the total number of legal moves available for a player in the current position."
   ]
  },
  {
   "cell_type": "code",
   "execution_count": 111,
   "metadata": {},
   "outputs": [
    {
     "name": "stderr",
     "output_type": "stream",
     "text": [
      "Adding column 'White_legal_moves': 100%|██████████| 12959/12959 [00:01<00:00, 9757.96it/s] \n",
      "Adding column 'Black_legal_moves': 100%|██████████| 12959/12959 [00:01<00:00, 10622.31it/s]"
     ]
    },
    {
     "name": "stdout",
     "output_type": "stream",
     "text": [
      "Added column 'Legal_moves_difference' ✓\n"
     ]
    },
    {
     "name": "stderr",
     "output_type": "stream",
     "text": [
      "\n"
     ]
    }
   ],
   "source": [
    "def get_legal_moves(board, color):\n",
    "    orig_turn = board.turn \n",
    "    board.turn = color\n",
    "    legal_moves = len(list(board.legal_moves))\n",
    "    board.turn = orig_turn\n",
    "    return legal_moves\n",
    "\n",
    "tqdm.pandas(desc=\"Adding column 'White_legal_moves'\")\n",
    "df['White_legal_moves'] = df['Board'].progress_apply(lambda board: get_legal_moves(board, chess.WHITE))\n",
    "\n",
    "tqdm.pandas(desc=\"Adding column 'Black_legal_moves'\")\n",
    "df['Black_legal_moves'] = df['Board'].progress_apply(lambda board: get_legal_moves(board, chess.BLACK))\n",
    "\n",
    "df[\"Legal_moves_difference\"] = df['White_legal_moves'] - df['Black_legal_moves']\n",
    "print(\"Added column 'Legal_moves_difference' ✓\")"
   ]
  },
  {
   "cell_type": "markdown",
   "metadata": {},
   "source": [
    "* **Attacked pieces**:\n",
    "    It is the total number of opponent attacks on squares occupied by a player's pieces."
   ]
  },
  {
   "cell_type": "code",
   "execution_count": 112,
   "metadata": {},
   "outputs": [
    {
     "name": "stderr",
     "output_type": "stream",
     "text": [
      "Adding column 'White_attacked': 100%|██████████| 12959/12959 [00:01<00:00, 12521.06it/s]\n",
      "Adding column 'Black_attacked': 100%|██████████| 12959/12959 [00:00<00:00, 13183.11it/s]"
     ]
    },
    {
     "name": "stdout",
     "output_type": "stream",
     "text": [
      "Added column 'Attacked_difference' ✓\n"
     ]
    },
    {
     "name": "stderr",
     "output_type": "stream",
     "text": [
      "\n"
     ]
    }
   ],
   "source": [
    "def get_attacked_pieces(board, color):\n",
    "    attacked_pieces = 0\n",
    "    opponent_color = chess.WHITE if color == chess.BLACK else chess.BLACK \n",
    "    for square in chess.SQUARES:\n",
    "        piece = board.piece_at(square)\n",
    "        if piece and piece.color == color:\n",
    "            attacked_pieces += len(board.attackers(opponent_color, square))\n",
    "\n",
    "    return attacked_pieces\n",
    "\n",
    "tqdm.pandas(desc=\"Adding column 'White_attacked'\")\n",
    "df['White_attacked'] = df['Board'].progress_apply(lambda board: get_attacked_pieces(board, chess.WHITE))\n",
    "tqdm.pandas(desc=\"Adding column 'Black_attacked'\")\n",
    "df['Black_attacked'] = df['Board'].progress_apply(lambda board: get_attacked_pieces(board, chess.BLACK))\n",
    "\n",
    "df[\"Attacked_difference\"] = df['Black_attacked'] - df['White_attacked']\n",
    "print(\"Added column 'Attacked_difference' ✓\")"
   ]
  },
  {
   "cell_type": "markdown",
   "metadata": {},
   "source": [
    "- **Check:** Verifies if a player's king is under attack"
   ]
  },
  {
   "cell_type": "code",
   "execution_count": 113,
   "metadata": {},
   "outputs": [
    {
     "name": "stderr",
     "output_type": "stream",
     "text": [
      "Adding column 'Check': 100%|██████████| 12959/12959 [00:00<00:00, 315844.44it/s]\n"
     ]
    }
   ],
   "source": [
    "def get_check(board):\n",
    "    return int(board.is_check()) * 1 if board.turn else -1\n",
    "\n",
    "tqdm.pandas(desc=\"Adding column 'Check'\")\n",
    "df['Check'] = df['Board'].progress_apply(get_check)"
   ]
  },
  {
   "cell_type": "markdown",
   "metadata": {},
   "source": [
    "<small>*\"In chess, doubled pawns are two pawns of the same color residing on the same file. Pawns can become doubled only when one pawn captures onto a file on which another friendly pawn resides. [...] In most cases, doubled pawns are considered a weakness due to their inability to defend each other.\" [²](#references)*</small>\n",
    "\n",
    "\n",
    "* **Doubled pawns**: It is the count of how many extra pawns are stacked in each file for a player"
   ]
  },
  {
   "cell_type": "code",
   "execution_count": 114,
   "metadata": {},
   "outputs": [
    {
     "name": "stderr",
     "output_type": "stream",
     "text": [
      "Adding column 'White_doubled_pawns': 100%|██████████| 12959/12959 [00:01<00:00, 7663.39it/s]\n",
      "Adding column 'Black_doubled_pawns': 100%|██████████| 12959/12959 [00:01<00:00, 7858.70it/s]"
     ]
    },
    {
     "name": "stdout",
     "output_type": "stream",
     "text": [
      "Added column 'Doubled_pawns_difference' ✓\n"
     ]
    },
    {
     "name": "stderr",
     "output_type": "stream",
     "text": [
      "\n"
     ]
    }
   ],
   "source": [
    "def count_doubled_pawns(board, color):\n",
    "    doubled_pawns = 0\n",
    "    for file in chess.FILE_NAMES:\n",
    "        column_squares = [chess.square(chess.FILE_NAMES.index(file), rank) for rank in range(8)]\n",
    "        pawns_in_file = sum(1 for square in column_squares if board.piece_at(square) == chess.Piece(chess.PAWN, color))\n",
    "        if pawns_in_file > 1:\n",
    "            doubled_pawns += pawns_in_file - 1\n",
    "    return doubled_pawns\n",
    "\n",
    "tqdm.pandas(desc=\"Adding column 'White_doubled_pawns'\")\n",
    "df['White_doubled_pawns'] = df['Board'].progress_apply(lambda board: count_doubled_pawns(board, chess.WHITE))\n",
    "tqdm.pandas(desc=\"Adding column 'Black_doubled_pawns'\")\n",
    "df['Black_doubled_pawns'] = df['Board'].progress_apply(lambda board: count_doubled_pawns(board, chess.BLACK))\n",
    "\n",
    "df[\"Doubled_pawns_difference\"] = df['White_doubled_pawns'] - df['Black_doubled_pawns']\n",
    "print(\"Added column 'Doubled_pawns_difference' ✓\")\n"
   ]
  },
  {
   "cell_type": "markdown",
   "metadata": {},
   "source": [
    "<small>*\"In chess, a fork is a tactic in which a piece attacks multiple enemy pieces simultaneously. The attacker usually aims to capture one of the forked pieces\" [³](#references)*</small>\n",
    "\n",
    "- **Forks:** Counts the number of forks for each player."
   ]
  },
  {
   "cell_type": "code",
   "execution_count": 115,
   "metadata": {},
   "outputs": [
    {
     "name": "stderr",
     "output_type": "stream",
     "text": [
      "Adding column 'White_forks': 100%|██████████| 12959/12959 [00:01<00:00, 8048.94it/s]\n",
      "Adding column 'Black_forks': 100%|██████████| 12959/12959 [00:01<00:00, 8275.24it/s]"
     ]
    },
    {
     "name": "stdout",
     "output_type": "stream",
     "text": [
      "Added column 'Forks_difference' ✓\n"
     ]
    },
    {
     "name": "stderr",
     "output_type": "stream",
     "text": [
      "\n"
     ]
    }
   ],
   "source": [
    "def get_forks(board, color):\n",
    "    forks = 0\n",
    "    for square, piece in board.piece_map().items():\n",
    "        if piece.color == color:\n",
    "            attacked_squares = board.attacks(square)\n",
    "            if len([target for target in attacked_squares if board.piece_at(target) and board.piece_at(target).color != color]) > 1:\n",
    "                forks += 1\n",
    "\n",
    "    return forks\n",
    "\n",
    "tqdm.pandas(desc=\"Adding column 'White_forks'\")\n",
    "df['White_forks'] = df['Board'].progress_apply(lambda board: get_forks(board, chess.WHITE))\n",
    "tqdm.pandas(desc=\"Adding column 'Black_forks'\")\n",
    "df['Black_forks'] = df['Board'].progress_apply(lambda board: get_forks(board, chess.BLACK))\n",
    "\n",
    "df[\"Forks_difference\"] = df['White_forks'] - df['Black_forks']\n",
    "print(\"Added column 'Forks_difference' ✓\")"
   ]
  },
  {
   "cell_type": "markdown",
   "metadata": {},
   "source": [
    "Let's see the current strongest correlations: "
   ]
  },
  {
   "cell_type": "code",
   "execution_count": 116,
   "metadata": {},
   "outputs": [
    {
     "name": "stdout",
     "output_type": "stream",
     "text": [
      "Correlations with 'Evaluation' (sorted by absolute value):\n",
      "Evaluation                    1.000000\n",
      "Attacks_difference            0.232247\n",
      "Material_difference           0.195666\n",
      "Legal_moves_difference        0.178131\n",
      "Central_attacks_difference    0.121247\n",
      "White_legal_moves             0.096346\n",
      "Black_legal_moves            -0.082910\n",
      "Black_central_attacks        -0.069987\n",
      "White_attacks                 0.069455\n",
      "White_central_attacks         0.066475\n",
      "White_pieces_count            0.052898\n",
      "Black_attacks                -0.051794\n",
      "White_material                0.036804\n",
      "Black_pieces_count           -0.031224\n",
      "White_forks                   0.030342\n",
      "En_passant                    0.028921\n",
      "Turn                          0.028843\n",
      "Attacked_difference           0.026411\n",
      "Black_attacked                0.025376\n",
      "Forks_difference              0.024751\n",
      "Rule_50                       0.021402\n",
      "Doubled_pawns_difference      0.021246\n",
      "Black_doubled_pawns          -0.017758\n",
      "Black_material               -0.017215\n",
      "White_doubled_pawns           0.011842\n",
      "Check                         0.008928\n",
      "N_moves                      -0.007546\n",
      "White_attacked               -0.005979\n",
      "Black_forks                  -0.003567\n",
      "Black_king_castling           0.001712\n",
      "Castling_difference          -0.001312\n",
      "White_king_castling          -0.000689\n",
      "White_queen_castling         -0.000240\n",
      "Black_queen_castling         -0.000061\n",
      "Name: Evaluation, dtype: float64\n"
     ]
    }
   ],
   "source": [
    "correlations = df.corr(numeric_only=True)['Evaluation']\n",
    "sorted_correlations = correlations.reindex(correlations.abs().sort_values(ascending=False).index)\n",
    "print(\"Correlations with 'Evaluation' (sorted by absolute value):\")\n",
    "print(sorted_correlations)"
   ]
  },
  {
   "cell_type": "markdown",
   "metadata": {},
   "source": [
    "Using the chess library, we can extract much more information, but we must keep it simple.  \n",
    "\n",
    "So far, we have focused on attributes that indicate whether a position might be better, but we have ignored the fact that the goal is to infer a specific value: the evaluation provided by Stockfish 11 at 22 levels of depth (considering 22 turns ahead).  \n",
    "\n",
    "Therefore, we need to identify the features that Stockfish use to generate their evaluations.\n",
    "\n",
    "Stockfish's evaluation function is actually quite complex and uses lots of values to determine its result. We'll focus on the main ones and simplify where needed:\n",
    "\n",
    "- Middle game evaluation\n",
    "\n",
    "    - **Piece Value (eg)**: Material is weighted differently during the middlegame.\n",
    "\n",
    "    - **Psqt (eg)**: Piece-square table bonuses, where certain positions provide an advantage for specific pieces in the middlegame.\n",
    "\n",
    "    - Pawns:\n",
    "        - Doubled: *(Simplified: Already considered in 'Double_pawns')*\n",
    "\n",
    "    - Pieces:\n",
    "        - **Minor behind pawn**: Knight or bishop when behind a pawn\n",
    "        - **Bishop pawns**: Number of pawns on the same color square as the bishop *(Simplified)*\n",
    "        - **Bishop xray pawns**: Advantatge for every opponent pawn in the diagonal of a bishop\n",
    "        - **Rook on queen file**: Simple bonus for a rook that is on the same file as any queen\n",
    "        - **Rook on file**: Rook when on an open file *(Simplified)*\n",
    "        - **Long diagonal bishop**: Bonus for bishop on a long diagonal which can \"see\" both center squares.\n",
    "\n",
    "    - Mobility: *(Simplified: Already considered in 'Legal_moves')*\n",
    "\n",
    "    - Threats\n",
    "        - **Hanging**: Weak enemies not defended by opponent *(Simplified)*\n",
    "\n",
    "    - **Passed**: Bonuses for passed pawns *(Simplified)*\n",
    "\n",
    "    - **King**: Bonuses for player's pieces around the king *(Simplified)* \n",
    "\n",
    "- End game evaluation\n",
    "\n",
    "    - **Piece Value (EG)**: Material is weighted differently during the endgame.\n",
    "\n",
    "    - **Psqt (EG)**: Piece-square table bonuses, where certain positions provide an advantage for specific pieces in the endgame.\n",
    "\n",
    "    It also takes all the above into account, with different weights *(Will be ignored for simplicity)*\n",
    "\n",
    "- **Phase**: Eval based on the amount of non-pawn material on the board *(Simplified)*\n",
    "\n",
    "- Rule50: *(Already considered in 'Rule_50')*\n",
    "\n",
    "- Scale factor: The scale factors are used to scale the endgame evaluation score down *(It will also be ignored)*\n",
    "\n",
    "- Tempo: *(Already considered in 'Turn')*\n",
    "\n",
    "<small>*All the bold titles represent new attributes that will be added.*</small>"
   ]
  },
  {
   "cell_type": "code",
   "execution_count": 117,
   "metadata": {},
   "outputs": [
    {
     "name": "stderr",
     "output_type": "stream",
     "text": [
      "Adding column 'Numpy_board': 100%|██████████| 12959/12959 [00:00<00:00, 41529.38it/s]\n"
     ]
    }
   ],
   "source": [
    "# This board representation will be used to do calculations quicker\n",
    "\n",
    "def fen_to_numpy(fen):\n",
    "    rows = fen.split(' ')[0].split('/')\n",
    "    np_board = np.full((8, 8), ' ', dtype=str)\n",
    "    for i, row in enumerate(rows):\n",
    "        col = 0\n",
    "        for char in row:\n",
    "            if char.isdigit():\n",
    "                col += int(char)\n",
    "            else:\n",
    "                np_board[i, col] = char\n",
    "                col += 1\n",
    "                \n",
    "    return np_board\n",
    "\n",
    "tqdm.pandas(desc=\"Adding column 'Numpy_board'\")\n",
    "df['Numpy_board'] = df['FEN'].progress_apply(fen_to_numpy)"
   ]
  },
  {
   "cell_type": "code",
   "execution_count": 118,
   "metadata": {},
   "outputs": [
    {
     "name": "stderr",
     "output_type": "stream",
     "text": [
      "Adding column 'White_material_mg': 100%|██████████| 12959/12959 [00:00<00:00, 102842.26it/s]\n",
      "Adding column 'Black_material_mg': 100%|██████████| 12959/12959 [00:00<00:00, 109824.67it/s]"
     ]
    },
    {
     "name": "stdout",
     "output_type": "stream",
     "text": [
      "Added column 'Material_mg_difference' ✓\n"
     ]
    },
    {
     "name": "stderr",
     "output_type": "stream",
     "text": [
      "\n"
     ]
    }
   ],
   "source": [
    "piece_values_mg = {\n",
    "    'P': 124, 'N': 781, 'B': 825, 'R': 1276, 'Q': 2538,\n",
    "    'p': -124, 'n': -781, 'b': -825, 'r': -1276, 'q': -2538\n",
    "}\n",
    "\n",
    "def get_white_material_mg(fen):\n",
    "    return sum(piece_values_mg[piece] for piece in re.findall(r'[QRBNP]', fen))\n",
    "\n",
    "def get_black_material_mg(fen):\n",
    "    return -sum(piece_values_mg[piece] for piece in re.findall(r'[qrbnp]', fen))\n",
    "\n",
    "tqdm.pandas(desc=\"Adding column 'White_material_mg'\")\n",
    "df['White_material_mg'] = df['FEN'].progress_apply(get_white_material_mg)\n",
    "\n",
    "tqdm.pandas(desc=\"Adding column 'Black_material_mg'\")\n",
    "df['Black_material_mg'] = df['FEN'].progress_apply(get_black_material_mg)\n",
    "\n",
    "df[\"Material_mg_difference\"] = df['White_material_mg'] - df['Black_material_mg']\n",
    "print(\"Added column 'Material_mg_difference' ✓\")"
   ]
  },
  {
   "cell_type": "code",
   "execution_count": 119,
   "metadata": {},
   "outputs": [
    {
     "name": "stderr",
     "output_type": "stream",
     "text": [
      "Adding column 'White_material_eg': 100%|██████████| 12959/12959 [00:00<00:00, 130925.19it/s]\n",
      "Adding column 'Black_material_eg': 100%|██████████| 12959/12959 [00:00<00:00, 111715.81it/s]"
     ]
    },
    {
     "name": "stdout",
     "output_type": "stream",
     "text": [
      "Added column 'Material_eg_difference' ✓\n"
     ]
    },
    {
     "name": "stderr",
     "output_type": "stream",
     "text": [
      "\n"
     ]
    }
   ],
   "source": [
    "piece_values_eg = {\n",
    "    'P': 206, 'N': 854, 'B': 915, 'R': 1380, 'Q': 2682,\n",
    "    'p': -206, 'n': -854, 'b': -915, 'r': -1380, 'q': -2682\n",
    "}\n",
    "\n",
    "def get_white_material_eg(fen):\n",
    "    return sum(piece_values_eg[piece] for piece in re.findall(r'[QRBNP]', fen))\n",
    "\n",
    "def get_black_material_eg(fen):\n",
    "    return -sum(piece_values_eg[piece] for piece in re.findall(r'[qrbnp]', fen))\n",
    "\n",
    "tqdm.pandas(desc=\"Adding column 'White_material_eg'\")\n",
    "df['White_material_eg'] = df['FEN'].progress_apply(get_white_material_eg)\n",
    "\n",
    "tqdm.pandas(desc=\"Adding column 'Black_material_eg'\")\n",
    "df['Black_material_eg'] = df['FEN'].progress_apply(get_black_material_eg)\n",
    "\n",
    "df[\"Material_eg_difference\"] = df['White_material_eg'] - df['Black_material_eg']\n",
    "print(\"Added column 'Material_eg_difference' ✓\")"
   ]
  },
  {
   "cell_type": "markdown",
   "metadata": {},
   "source": [
    "These are the positional weights that Stockfish uses for each piece:"
   ]
  },
  {
   "cell_type": "code",
   "execution_count": 120,
   "metadata": {},
   "outputs": [],
   "source": [
    "psqt_mg = np.array([[[0, 0, 0, 0, 0, 0, 0, 0],  [3, 3, 10, 19, 16, 19, 7, -5],  [-9, -15, 11, 15, 32, 22, 5, -22],  [-4, -23, 6, 20, 40, 17, 4, -8],  [13, 0, -13, 1, 11, -2, -13, 5],  [5, -12, -7, 22, -8, -5, -15, -8],  [-7, 7, -3, -13, 5, -16, 10, -8],  [0, 0, 0, 0, 0, 0, 0, 0]],\n",
    " [[-175, -92, -74, -73, -73, -74, -92, -175],  [-77, -41, -27, -15, -15, -27, -41, -77],  [-61, -17, 6, 12, 12, 6, -17, -61],  [-35, 8, 40, 49, 49, 40, 8, -35],  [-34, 13, 44, 51, 51, 44, 13, -34],  [-9, 22, 58, 53, 53, 58, 22, -9],  [-67, -27, 4, 37, 37, 4, -27, -67],  [-201, -83, -56, -26, -26, -56, -83, -201]],\n",
    " [[-53, -5, -8, -23, -23, -8, -5, -53],  [-15, 8, 19, 4, 4, 19, 8, -15],  [-7, 21, -5, 17, 17, -5, 21, -7],  [-5, 11, 25, 39, 39, 25, 11, -5],  [-12, 29, 22, 31, 31, 22, 29, -12],  [-16, 6, 1, 11, 11, 1, 6, -16],  [-17, -14, 5, 0, 0, 5, -14, -17],  [-48, 1, -14, -23, -23, -14, 1, -48]],\n",
    " [[-31, -20, -14, -5, -5, -14, -20, -31],  [-21, -13, -8, 6, 6, -8, -13, -21],  [-25, -11, -1, 3, 3, -1, -11, -25],  [-13, -5, -4, -6, -6, -4, -5, -13],  [-27, -15, -4, 3, 3, -4, -15, -27],  [-22, -2, 6, 12, 12, 6, -2, -22],  [-2, 12, 16, 18, 18, 16, 12, -2],  [-17, -19, -1, 9, 9, -1, -19, -17]],\n",
    " [[3, -5, -5, 4, 4, -5, -5, 3],  [-3, 5, 8, 12, 12, 8, 5, -3],  [-3, 6, 13, 7, 7, 13, 6, -3],  [4, 5, 9, 8, 8, 9, 5, 4],  [0, 14, 12, 5, 5, 12, 14, 0],  [-4, 10, 6, 8, 8, 6, 10, -4],  [-5, 6, 10, 8, 8, 10, 6, -5],  [-2, -2, 1, -2, -2, 1, -2, -2]],\n",
    " [[271, 327, 271, 198, 198, 271, 327, 271],  [278, 303, 234, 179, 179, 234, 303, 278],  [195, 258, 169, 120, 120, 169, 258, 195],  [164, 190, 138, 98, 98, 138, 190, 164],  [154, 179, 105, 70, 70, 105, 179, 154],  [123, 145, 81, 31, 31, 81, 145, 123],  [88, 120, 65, 33, 33, 65, 120, 88],  [59, 89, 45, -1, -1, 45, 89, 59]]]\n",
    ")\n",
    "\n",
    "psqt_eg = np.array([[[0, 0, 0, 0, 0, 0, 0, 0],  [-10, -6, 10, 0, 14, 7, -5, -19],  [-10, -10, -10, 4, 4, 3, -6, -4],  [6, -2, -8, -4, -13, -12, -10, -9],  [10, 5, 4, -5, -5, -5, 14, 9],  [28, 20, 21, 28, 30, 7, 6, 13],  [0, -11, 12, 21, 25, 19, 4, 7],  [0, 0, 0, 0, 0, 0, 0, 0]],\n",
    " [[-96, -65, -49, -21, -21, -49, -65, -96],  [-67, -54, -18, 8, 8, -18, -54, -67],  [-40, -27, -8, 29, 29, -8, -27, -40],  [-35, -2, 13, 28, 28, 13, -2, -35],  [-45, -16, 9, 39, 39, 9, -16, -45],  [-51, -44, -16, 17, 17, -16, -44, -51],  [-69, -50, -51, 12, 12, -51, -50, -69],  [-100, -88, -56, -17, -17, -56, -88, -100]],\n",
    " [[-57, -30, -37, -12, -12, -37, -30, -57],  [-37, -13, -17, 1, 1, -17, -13, -37],  [-16, -1, -2, 10, 10, -2, -1, -16],  [-20, -6, 0, 17, 17, 0, -6, -20],  [-17, -1, -14, 15, 15, -14, -1, -17],  [-30, 6, 4, 6, 6, 4, 6, -30],  [-31, -20, -1, 1, 1, -1, -20, -31],  [-46, -42, -37, -24, -24, -37, -42, -46]],\n",
    " [[-9, -13, -10, -9, -9, -10, -13, -9],  [-12, -9, -1, -2, -2, -1, -9, -12],  [6, -8, -2, -6, -6, -2, -8, 6],  [-6, 1, -9, 7, 7, -9, 1, -6],  [-5, 8, 7, -6, -6, 7, 8, -5],  [6, 1, -7, 10, 10, -7, 1, 6],  [4, 5, 20, -5, -5, 20, 5, 4],  [18, 0, 19, 13, 13, 19, 0, 18]],\n",
    " [[-69, -57, -47, -26, -26, -47, -57, -69],  [-55, -31, -22, -4, -4, -22, -31, -55],  [-39, -18, -9, 3, 3, -9, -18, -39],  [-23, -3, 13, 24, 24, 13, -3, -23],  [-29, -6, 9, 21, 21, 9, -6, -29],  [-38, -18, -12, 1, 1, -12, -18, -38],  [-50, -27, -24, -8, -8, -24, -27, -50],  [-75, -52, -43, -36, -36, -43, -52, -75]],\n",
    " [[1, 45, 85, 76, 76, 85, 45, 1],  [53, 100, 133, 135, 135, 133, 100, 53],  [88, 130, 169, 175, 175, 169, 130, 88],  [103, 156, 172, 172, 172, 172, 156, 103],  [96, 166, 199, 199, 199, 199, 166, 96],  [92, 172, 184, 191, 191, 184, 172, 92],  [47, 121, 116, 131, 131, 116, 121, 47],  [11, 59, 73, 78, 78, 73, 59, 11]]]\n",
    ")"
   ]
  },
  {
   "cell_type": "code",
   "execution_count": 121,
   "metadata": {},
   "outputs": [
    {
     "name": "stderr",
     "output_type": "stream",
     "text": [
      "Adding column 'White_psqt_mg':   0%|          | 0/12959 [00:00<?, ?it/s]"
     ]
    },
    {
     "name": "stderr",
     "output_type": "stream",
     "text": [
      "Adding column 'White_psqt_mg': 100%|██████████| 12959/12959 [00:01<00:00, 10683.07it/s]\n",
      "Adding column 'Black_psqt_mg': 100%|██████████| 12959/12959 [00:01<00:00, 12065.97it/s]"
     ]
    },
    {
     "name": "stdout",
     "output_type": "stream",
     "text": [
      "Added column 'Psqt_mg_difference' ✓\n"
     ]
    },
    {
     "name": "stderr",
     "output_type": "stream",
     "text": [
      "\n"
     ]
    }
   ],
   "source": [
    "def get_psqt(weights, np_board, color):\n",
    "    pieces = 'PNBRQK' if color == chess.WHITE else 'pnbrqk'\n",
    "    result = 0\n",
    "    for index, piece in enumerate(pieces):\n",
    "        mask = (np_board == piece).astype(int)\n",
    "        masked = weights[index] * mask\n",
    "        result += masked.sum().sum()\n",
    "    return result\n",
    "\n",
    "tqdm.pandas(desc=\"Adding column 'White_psqt_mg'\")\n",
    "df['White_psqt_mg'] = df['Numpy_board'].progress_apply(lambda np_board: get_psqt(psqt_mg, np_board, chess.WHITE))\n",
    "\n",
    "tqdm.pandas(desc=\"Adding column 'Black_psqt_mg'\")\n",
    "df['Black_psqt_mg'] = df['Numpy_board'].progress_apply(lambda np_board: get_psqt(psqt_mg, np_board, chess.BLACK))\n",
    "\n",
    "df[\"Psqt_mg_difference\"] = df['White_psqt_mg'] - df['Black_psqt_mg']\n",
    "print(\"Added column 'Psqt_mg_difference' ✓\")"
   ]
  },
  {
   "cell_type": "code",
   "execution_count": 122,
   "metadata": {},
   "outputs": [
    {
     "name": "stderr",
     "output_type": "stream",
     "text": [
      "Adding column 'White_psqt_eg': 100%|██████████| 12959/12959 [00:01<00:00, 12381.78it/s]\n",
      "Adding column 'Black_psqt_eg': 100%|██████████| 12959/12959 [00:01<00:00, 12341.37it/s]"
     ]
    },
    {
     "name": "stdout",
     "output_type": "stream",
     "text": [
      "Added column 'Psqt_eg_difference' ✓\n"
     ]
    },
    {
     "name": "stderr",
     "output_type": "stream",
     "text": [
      "\n"
     ]
    }
   ],
   "source": [
    "tqdm.pandas(desc=\"Adding column 'White_psqt_eg'\")\n",
    "df['White_psqt_eg'] = df['Numpy_board'].progress_apply(lambda np_board: get_psqt(psqt_eg,np_board, chess.WHITE))\n",
    "\n",
    "tqdm.pandas(desc=\"Adding column 'Black_psqt_eg'\")\n",
    "df['Black_psqt_eg'] = df['Numpy_board'].progress_apply(lambda np_board: get_psqt(psqt_eg,np_board, chess.BLACK))\n",
    "\n",
    "df[\"Psqt_eg_difference\"] = df['White_psqt_eg'] - df['Black_psqt_eg']\n",
    "print(\"Added column 'Psqt_eg_difference' ✓\")"
   ]
  },
  {
   "cell_type": "code",
   "execution_count": 123,
   "metadata": {},
   "outputs": [
    {
     "name": "stderr",
     "output_type": "stream",
     "text": [
      "Adding column 'White_minor_behind_pawn': 100%|██████████| 12959/12959 [00:01<00:00, 11813.13it/s]\n",
      "Adding column 'Black_minor_behind_pawn': 100%|██████████| 12959/12959 [00:01<00:00, 11278.62it/s]"
     ]
    },
    {
     "name": "stdout",
     "output_type": "stream",
     "text": [
      "Added column 'Psqt_mg_difference' ✓\n"
     ]
    },
    {
     "name": "stderr",
     "output_type": "stream",
     "text": [
      "\n"
     ]
    }
   ],
   "source": [
    "def get_minor_behind_pawn(np_board, color):\n",
    "    result = 0\n",
    "    pieces = 'NB' if color == chess.WHITE else 'nb'\n",
    "    board = np_board if color == chess.WHITE else np_board[::-1,:]\n",
    "    for piece in pieces:\n",
    "        idxs = np.argwhere(board == piece)\n",
    "        idxs = idxs + np.array([-1, 0])\n",
    "        idxs = idxs[idxs[:, 0] >= 0]\n",
    "        in_front = board[idxs[:, 0], idxs[:, 1]] == 'P' if color == chess.WHITE else board[idxs[:, 0], idxs[:, 1]] == 'p'\n",
    "        result += in_front.sum()\n",
    "    return result\n",
    "\n",
    "tqdm.pandas(desc=\"Adding column 'White_minor_behind_pawn'\")\n",
    "df['White_minor_behind_pawn'] = df['Numpy_board'].progress_apply(lambda np_board: get_minor_behind_pawn(np_board, chess.WHITE))\n",
    "\n",
    "tqdm.pandas(desc=\"Adding column 'Black_minor_behind_pawn'\")\n",
    "df['Black_minor_behind_pawn'] = df['Numpy_board'].progress_apply(lambda np_board: get_minor_behind_pawn(np_board, chess.BLACK))\n",
    "\n",
    "df[\"Minor_behind_pawn_difference\"] = df['White_minor_behind_pawn'] - df['Black_minor_behind_pawn']\n",
    "print(\"Added column 'Psqt_mg_difference' ✓\")"
   ]
  },
  {
   "cell_type": "code",
   "execution_count": 124,
   "metadata": {},
   "outputs": [
    {
     "name": "stderr",
     "output_type": "stream",
     "text": [
      "Adding column 'White_bishop_pawns': 100%|██████████| 12959/12959 [00:00<00:00, 23778.00it/s]\n",
      "Adding column 'Black_bishop_pawns': 100%|██████████| 12959/12959 [00:00<00:00, 20833.81it/s]"
     ]
    },
    {
     "name": "stdout",
     "output_type": "stream",
     "text": [
      "Added column 'Bishop_pawns_difference' ✓\n"
     ]
    },
    {
     "name": "stderr",
     "output_type": "stream",
     "text": [
      "\n"
     ]
    }
   ],
   "source": [
    "def get_bishop_pawns(np_board, color):\n",
    "    result = 0\n",
    "    pieces = 'B' if color == chess.WHITE else 'b'\n",
    "    pawns = 'P' if color == chess.WHITE else 'p'\n",
    "    board = np_board if color == chess.WHITE else np_board[::-1,:]\n",
    "    bishop_positions = np.argwhere(board == pieces)\n",
    "    bishop_colors = (bishop_positions[:, 0] + bishop_positions[:, 1]) % 2\n",
    "    \n",
    "    for bishop_color in bishop_colors:\n",
    "        if bishop_color == 0:\n",
    "            pawns_on_color = (board[::2, ::2] == pawns).sum()\n",
    "        else:\n",
    "            pawns_on_color = (board[1::2, 1::2] == pawns).sum()\n",
    "        \n",
    "        result += pawns_on_color\n",
    "    return result\n",
    "\n",
    "tqdm.pandas(desc=\"Adding column 'White_bishop_pawns'\")\n",
    "df['White_bishop_pawns'] = df['Numpy_board'].progress_apply(lambda np_board: get_bishop_pawns(np_board, chess.WHITE))\n",
    "\n",
    "tqdm.pandas(desc=\"Adding column 'Black_bishop_pawns'\")\n",
    "df['Black_bishop_pawns'] = df['Numpy_board'].progress_apply(lambda np_board: get_bishop_pawns(np_board, chess.BLACK))\n",
    "\n",
    "df[\"Bishop_pawns_difference\"] = df['White_bishop_pawns'] - df['Black_bishop_pawns']\n",
    "print(\"Added column 'Bishop_pawns_difference' ✓\")\n"
   ]
  },
  {
   "cell_type": "code",
   "execution_count": 125,
   "metadata": {},
   "outputs": [
    {
     "name": "stderr",
     "output_type": "stream",
     "text": [
      "Adding column 'White_bishop_xray_pawns':   0%|          | 0/12959 [00:00<?, ?it/s]"
     ]
    },
    {
     "name": "stderr",
     "output_type": "stream",
     "text": [
      "Adding column 'White_bishop_xray_pawns': 100%|██████████| 12959/12959 [00:00<00:00, 29997.99it/s]\n",
      "Adding column 'Black_bishop_xray_pawns': 100%|██████████| 12959/12959 [00:00<00:00, 26830.29it/s]"
     ]
    },
    {
     "name": "stdout",
     "output_type": "stream",
     "text": [
      "Added column 'Bishop_xray_pawns_difference' ✓\n"
     ]
    },
    {
     "name": "stderr",
     "output_type": "stream",
     "text": [
      "\n"
     ]
    }
   ],
   "source": [
    "def get_bishop_xray_pawns(np_board, color):\n",
    "    result = 0\n",
    "    pieces = 'B' if color == chess.WHITE else 'b'\n",
    "    pawns = 'P' if color == chess.WHITE else 'p'\n",
    "    board = np_board if color == chess.WHITE else np_board[::-1,:]\n",
    "    bishop_positions = np.argwhere(board == pieces)\n",
    "    for bishop_row, bishop_col in bishop_positions:\n",
    "        for direction in [(-1, -1), (-1, 1), (1, -1), (1, 1)]:\n",
    "            row, col = bishop_row, bishop_col\n",
    "            while 0 <= row < board.shape[0] and 0 <= col < board.shape[1]:\n",
    "                row += direction[0]\n",
    "                col += direction[1]\n",
    "                if 0 <= row < board.shape[0] and 0 <= col < board.shape[1]:\n",
    "                    if board[row, col] == pawns:\n",
    "                        result += 1\n",
    "                    if board[row, col] != '.':\n",
    "                        break\n",
    "\n",
    "    return result\n",
    "\n",
    "tqdm.pandas(desc=\"Adding column 'White_bishop_xray_pawns'\")\n",
    "df['White_bishop_xray_pawns'] = df['Numpy_board'].progress_apply(lambda np_board: get_bishop_xray_pawns(np_board, chess.WHITE))\n",
    "\n",
    "tqdm.pandas(desc=\"Adding column 'Black_bishop_xray_pawns'\")\n",
    "df['Black_bishop_xray_pawns'] = df['Numpy_board'].progress_apply(lambda np_board: get_bishop_xray_pawns(np_board, chess.BLACK))\n",
    "\n",
    "df[\"Bishop_xray_pawns_difference\"] = df['White_bishop_xray_pawns'] - df['Black_bishop_xray_pawns']\n",
    "print(\"Added column 'Bishop_xray_pawns_difference' ✓\")"
   ]
  },
  {
   "cell_type": "code",
   "execution_count": 126,
   "metadata": {},
   "outputs": [
    {
     "name": "stderr",
     "output_type": "stream",
     "text": [
      "Adding column 'White_rook_on_queen_file': 100%|██████████| 12959/12959 [00:00<00:00, 13062.92it/s]\n",
      "Adding column 'Black_rook_on_queen_file': 100%|██████████| 12959/12959 [00:01<00:00, 12225.39it/s]"
     ]
    },
    {
     "name": "stdout",
     "output_type": "stream",
     "text": [
      "Added column 'Rook_on_queen_file_difference' ✓\n"
     ]
    },
    {
     "name": "stderr",
     "output_type": "stream",
     "text": [
      "\n"
     ]
    }
   ],
   "source": [
    "def get_rook_on_queen_file(np_board, color):\n",
    "    result = 0\n",
    "    rook_piece = 'R' if color == chess.WHITE else 'r'\n",
    "    queen_piece = 'Q' if color == chess.WHITE else 'q'\n",
    "    board = np_board if color == chess.WHITE else np_board[::-1,:]\n",
    "    rook_positions = np.argwhere(board == rook_piece)\n",
    "    queen_positions = np.argwhere(board == queen_piece)\n",
    "\n",
    "    if rook_positions.size > 0 and queen_positions.size > 0:\n",
    "        rook_cols = rook_positions[:, 1]\n",
    "        queen_cols = queen_positions[:, 1]\n",
    "        same_file = np.isin(rook_cols, queen_cols)\n",
    "        result = same_file.sum()\n",
    "\n",
    "    return result\n",
    "\n",
    "tqdm.pandas(desc=\"Adding column 'White_rook_on_queen_file'\")\n",
    "df['White_rook_on_queen_file'] = df['Numpy_board'].progress_apply(lambda np_board: get_rook_on_queen_file(np_board, chess.WHITE))\n",
    "\n",
    "tqdm.pandas(desc=\"Adding column 'Black_rook_on_queen_file'\")\n",
    "df['Black_rook_on_queen_file'] = df['Numpy_board'].progress_apply(lambda np_board: get_rook_on_queen_file(np_board, chess.BLACK))\n",
    "\n",
    "df[\"Rook_on_queen_file_difference\"] = df['White_rook_on_queen_file'] - df['Black_rook_on_queen_file']\n",
    "print(\"Added column 'Rook_on_queen_file_difference' ✓\")"
   ]
  },
  {
   "cell_type": "code",
   "execution_count": 127,
   "metadata": {},
   "outputs": [
    {
     "name": "stderr",
     "output_type": "stream",
     "text": [
      "Adding column 'White_rook_on_open_file': 100%|██████████| 12959/12959 [00:00<00:00, 13800.85it/s]\n",
      "Adding column 'Black_rook_on_open_file': 100%|██████████| 12959/12959 [00:01<00:00, 12168.09it/s]"
     ]
    },
    {
     "name": "stdout",
     "output_type": "stream",
     "text": [
      "Added column 'Rook_on_open_file_difference' ✓\n"
     ]
    },
    {
     "name": "stderr",
     "output_type": "stream",
     "text": [
      "\n"
     ]
    }
   ],
   "source": [
    "def get_rook_on_open_file(np_board, color):\n",
    "    result = 0\n",
    "    rook_piece = 'R' if color == chess.WHITE else 'r'\n",
    "    pawns = ['P', 'p']\n",
    "    board = np_board if color == chess.WHITE else np_board[::-1,:]\n",
    "    pawn_positions = np.isin(board, pawns)\n",
    "    files_with_pawns = np.any(pawn_positions, axis=0)\n",
    "    rook_positions = np.argwhere(board == rook_piece)\n",
    "    \n",
    "    if rook_positions.size > 0:\n",
    "        rook_cols = rook_positions[:, 1]\n",
    "        open_files = ~files_with_pawns\n",
    "        rooks_on_open_files = open_files[rook_cols]\n",
    "        result = rooks_on_open_files.sum()\n",
    "\n",
    "    return result\n",
    "\n",
    "tqdm.pandas(desc=\"Adding column 'White_rook_on_open_file'\")\n",
    "df['White_rook_on_open_file'] = df['Numpy_board'].progress_apply(lambda np_board: get_rook_on_open_file(np_board, chess.WHITE))\n",
    "\n",
    "tqdm.pandas(desc=\"Adding column 'Black_rook_on_open_file'\")\n",
    "df['Black_rook_on_open_file'] = df['Numpy_board'].progress_apply(lambda np_board: get_rook_on_open_file(np_board, chess.BLACK))\n",
    "\n",
    "df[\"Rook_on_open_file_difference\"] = df['White_rook_on_open_file'] - df['Black_rook_on_open_file']\n",
    "print(\"Added column 'Rook_on_open_file_difference' ✓\")"
   ]
  },
  {
   "cell_type": "code",
   "execution_count": 128,
   "metadata": {},
   "outputs": [],
   "source": [
    "long_diag = np.array([[1,0,0,0,0,0,0,1],[0,1,0,0,0,0,1,0],[0,0,1,0,0,1,0,0],[0,0,0,1,1,0,0,0],[0,0,0,1,1,0,0,0],[0,0,1,0,0,1,0,0],[0,1,0,0,0,0,1,0],[1,0,0,0,0,0,0,1]]).astype(bool)"
   ]
  },
  {
   "cell_type": "code",
   "execution_count": 129,
   "metadata": {},
   "outputs": [
    {
     "name": "stderr",
     "output_type": "stream",
     "text": [
      "Adding column 'White_long_diagonal_bishop': 100%|██████████| 12959/12959 [00:00<00:00, 54449.71it/s]\n",
      "Adding column 'Black_long_diagonal_bishop': 100%|██████████| 12959/12959 [00:00<00:00, 46448.18it/s]"
     ]
    },
    {
     "name": "stdout",
     "output_type": "stream",
     "text": [
      "Added column 'Long_diagonal_bishop_difference' ✓\n"
     ]
    },
    {
     "name": "stderr",
     "output_type": "stream",
     "text": [
      "\n"
     ]
    }
   ],
   "source": [
    "def get_long_diagonal_bishop(np_board, color):\n",
    "    bishop = 'B' if color == chess.WHITE else 'b'\n",
    "    mask = np_board == bishop\n",
    "    masked = long_diag * mask\n",
    "    return masked.sum()\n",
    "\n",
    "tqdm.pandas(desc=\"Adding column 'White_long_diagonal_bishop'\")\n",
    "df['White_long_diagonal_bishop'] = df['Numpy_board'].progress_apply(lambda np_board: get_long_diagonal_bishop(np_board, chess.WHITE))\n",
    "\n",
    "tqdm.pandas(desc=\"Adding column 'Black_long_diagonal_bishop'\")\n",
    "df['Black_long_diagonal_bishop'] = df['Numpy_board'].progress_apply(lambda np_board: get_long_diagonal_bishop(np_board, chess.BLACK))\n",
    "\n",
    "df[\"Long_diagonal_bishop_difference\"] = df['White_long_diagonal_bishop'] - df['Black_long_diagonal_bishop']\n",
    "print(\"Added column 'Long_diagonal_bishop_difference' ✓\")"
   ]
  },
  {
   "cell_type": "code",
   "execution_count": 130,
   "metadata": {},
   "outputs": [
    {
     "name": "stderr",
     "output_type": "stream",
     "text": [
      "Adding column 'White_hanging_pieces': 100%|██████████| 12959/12959 [00:00<00:00, 14239.99it/s]\n",
      "Adding column 'Black_hanging_pieces': 100%|██████████| 12959/12959 [00:00<00:00, 14810.52it/s]"
     ]
    },
    {
     "name": "stdout",
     "output_type": "stream",
     "text": [
      "Added column 'Hanging_pieces_difference' ✓\n"
     ]
    },
    {
     "name": "stderr",
     "output_type": "stream",
     "text": [
      "\n"
     ]
    }
   ],
   "source": [
    "def get_hanging_pieces(board, color):\n",
    "    hanging_count = 0\n",
    "    for square in chess.SQUARES:\n",
    "        piece = board.piece_at(square)\n",
    "        if piece and piece.color == color:\n",
    "            if not board.is_attacked_by(color, square):\n",
    "                hanging_count += 1\n",
    "\n",
    "    return hanging_count\n",
    "\n",
    "tqdm.pandas(desc=\"Adding column 'White_hanging_pieces'\")\n",
    "df['White_hanging_pieces'] = df['Board'].progress_apply(lambda board: get_hanging_pieces(board, chess.WHITE))\n",
    "\n",
    "tqdm.pandas(desc=\"Adding column 'Black_hanging_pieces'\")\n",
    "df['Black_hanging_pieces'] = df['Board'].progress_apply(lambda board: get_hanging_pieces(board, chess.BLACK))\n",
    "\n",
    "df[\"Hanging_pieces_difference\"] = df['Black_hanging_pieces'] - df['White_hanging_pieces']\n",
    "print(\"Added column 'Hanging_pieces_difference' ✓\")"
   ]
  },
  {
   "cell_type": "code",
   "execution_count": 131,
   "metadata": {},
   "outputs": [
    {
     "name": "stderr",
     "output_type": "stream",
     "text": [
      "Adding column 'White_passed_pawns': 100%|██████████| 12959/12959 [00:01<00:00, 7542.86it/s]\n",
      "Adding column 'Black_passed_pawns': 100%|██████████| 12959/12959 [00:01<00:00, 7656.55it/s]"
     ]
    },
    {
     "name": "stdout",
     "output_type": "stream",
     "text": [
      "Added column 'Passed_pawn_difference' ✓\n"
     ]
    },
    {
     "name": "stderr",
     "output_type": "stream",
     "text": [
      "\n"
     ]
    }
   ],
   "source": [
    "def get_passed_pawns(np_board, color):\n",
    "    result = 0\n",
    "    pawn_piece = 'P' if color == chess.WHITE else 'p'\n",
    "    opponent_pawns = 'p' if color == chess.WHITE else 'P'\n",
    "    board = np_board if color == chess.WHITE else np_board[::-1, :]\n",
    "    pawn_positions = np.argwhere(board == pawn_piece)\n",
    "\n",
    "    for pawn_row, pawn_col in pawn_positions:\n",
    "        file_range = range(max(0, pawn_col - 1), min(board.shape[1], pawn_col + 2))\n",
    "        opposing_pawns_in_path = any(\n",
    "            opponent_pawns in board[row, file_range].tolist()\n",
    "            for row in range(pawn_row + 1, board.shape[0])\n",
    "        )\n",
    "        if not opposing_pawns_in_path:\n",
    "            result += 1\n",
    "\n",
    "    return result\n",
    "\n",
    "tqdm.pandas(desc=\"Adding column 'White_passed_pawns'\")\n",
    "df['White_passed_pawns'] = df['Numpy_board'].progress_apply(lambda np_board: get_passed_pawns(np_board, chess.WHITE))\n",
    "\n",
    "tqdm.pandas(desc=\"Adding column 'Black_passed_pawns'\")\n",
    "df['Black_passed_pawns'] = df['Numpy_board'].progress_apply(lambda np_board: get_passed_pawns(np_board, chess.BLACK))\n",
    "\n",
    "df[\"Passed_pawn_difference\"] = df['White_passed_pawns'] - df['Black_passed_pawns']\n",
    "print(\"Added column 'Passed_pawn_difference' ✓\")"
   ]
  },
  {
   "cell_type": "code",
   "execution_count": 132,
   "metadata": {},
   "outputs": [
    {
     "name": "stderr",
     "output_type": "stream",
     "text": [
      "Adding column 'White_king_support': 100%|██████████| 12959/12959 [00:01<00:00, 12472.43it/s]\n",
      "Adding column 'Black_king_support': 100%|██████████| 12959/12959 [00:01<00:00, 12724.79it/s]"
     ]
    },
    {
     "name": "stdout",
     "output_type": "stream",
     "text": [
      "Added column 'King_support_difference' ✓\n"
     ]
    },
    {
     "name": "stderr",
     "output_type": "stream",
     "text": [
      "\n"
     ]
    }
   ],
   "source": [
    "def get_king_support(np_board, color):\n",
    "    king_piece = 'K' if color == chess.WHITE else 'k'\n",
    "    player_pieces = \"PNBRQ\" if color == chess.WHITE else \"pnbrq\"\n",
    "\n",
    "    king_position = np.argwhere(np_board == king_piece)\n",
    "    if king_position.size == 0:\n",
    "        return 0\n",
    "\n",
    "    king_row, king_col = king_position[0]\n",
    "\n",
    "    row_start = max(0, king_row - 1)\n",
    "    row_end = min(np_board.shape[0], king_row + 2)\n",
    "    col_start = max(0, king_col - 1)\n",
    "    col_end = min(np_board.shape[1], king_col + 2)\n",
    "    surrounding_area = np_board[row_start:row_end, col_start:col_end]\n",
    "\n",
    "    mask = np.isin(surrounding_area, list(player_pieces))\n",
    "    return np.sum(mask)\n",
    "\n",
    "tqdm.pandas(desc=\"Adding column 'White_king_support'\")\n",
    "df['White_king_support'] = df['Numpy_board'].progress_apply(lambda np_board: get_king_support(np_board, chess.WHITE))\n",
    "\n",
    "tqdm.pandas(desc=\"Adding column 'Black_king_support'\")\n",
    "df['Black_king_support'] = df['Numpy_board'].progress_apply(lambda np_board: get_king_support(np_board, chess.BLACK))\n",
    "\n",
    "df[\"King_support_difference\"] = df['White_king_support'] - df['Black_king_support']\n",
    "print(\"Added column 'King_support_difference' ✓\")"
   ]
  },
  {
   "cell_type": "code",
   "execution_count": 133,
   "metadata": {},
   "outputs": [
    {
     "name": "stderr",
     "output_type": "stream",
     "text": [
      "Adding column 'White_non_pawn_material': 100%|██████████| 12959/12959 [00:00<00:00, 158034.25it/s]\n",
      "Adding column 'Black_non_pawn_material': 100%|██████████| 12959/12959 [00:00<00:00, 129593.83it/s]"
     ]
    },
    {
     "name": "stdout",
     "output_type": "stream",
     "text": [
      "Added column 'Non_pawn_material_difference' ✓\n"
     ]
    },
    {
     "name": "stderr",
     "output_type": "stream",
     "text": [
      "\n"
     ]
    }
   ],
   "source": [
    "piece_values_mg = {\n",
    "    'P': 124, 'N': 781, 'B': 825, 'R': 1276, 'Q': 2538,\n",
    "    'p': -124, 'n': -781, 'b': -825, 'r': -1276, 'q': -2538\n",
    "}\n",
    "\n",
    "def get_white_non_pawn_material(fen):\n",
    "    return sum(piece_values_mg[piece] for piece in re.findall(r'[QRBN]', fen))\n",
    "\n",
    "def get_black_non_pawn_material(fen):\n",
    "    return -sum(piece_values_mg[piece] for piece in re.findall(r'[qrbn]', fen))\n",
    "\n",
    "tqdm.pandas(desc=\"Adding column 'White_non_pawn_material'\")\n",
    "df['White_non_pawn_material'] = df['FEN'].progress_apply(get_white_non_pawn_material)\n",
    "\n",
    "tqdm.pandas(desc=\"Adding column 'Black_non_pawn_material'\")\n",
    "df['Black_non_pawn_material'] = df['FEN'].progress_apply(get_black_non_pawn_material)\n",
    "df[\"Non_pawn_material_difference\"] = df['White_non_pawn_material'] - df['Black_non_pawn_material']\n",
    "print(\"Added column 'Non_pawn_material_difference' ✓\")"
   ]
  },
  {
   "cell_type": "code",
   "execution_count": 134,
   "metadata": {},
   "outputs": [
    {
     "name": "stdout",
     "output_type": "stream",
     "text": [
      "Correlations with 'Evaluation' (sorted by absolute value):\n",
      "Evaluation                      1.000000\n",
      "Attacks_difference              0.232247\n",
      "Passed_pawn_difference          0.218993\n",
      "Material_difference             0.195666\n",
      "Legal_moves_difference          0.178131\n",
      "Material_eg_difference          0.175294\n",
      "Material_mg_difference          0.157285\n",
      "Non_pawn_material_difference    0.124782\n",
      "Central_attacks_difference      0.121247\n",
      "White_legal_moves               0.096346\n",
      "Name: Evaluation, dtype: float64\n"
     ]
    }
   ],
   "source": [
    "correlations = df.corr(numeric_only=True)['Evaluation']\n",
    "sorted_correlations = correlations.reindex(correlations.abs().sort_values(ascending=False).index)\n",
    "print(\"Correlations with 'Evaluation' (sorted by absolute value):\")\n",
    "print(sorted_correlations[:10])"
   ]
  },
  {
   "cell_type": "code",
   "execution_count": 136,
   "metadata": {},
   "outputs": [
    {
     "data": {
      "text/plain": [
       "0.20861564309068414"
      ]
     },
     "execution_count": 136,
     "metadata": {},
     "output_type": "execute_result"
    }
   ],
   "source": [
    "from sklearn.ensemble import RandomForestRegressor\n",
    "from sklearn.metrics import r2_score\n",
    "clf = RandomForestRegressor()\n",
    "\n",
    "X, y = df.drop(columns=[target, 'FEN', 'Board', 'Numpy_board']), df[target]\n",
    "X_train, X_test, y_train, y_test = train_test_split(X, y, test_size=0.2)\n",
    "\n",
    "clf.fit(X_train, y_train)\n",
    "y_pred = clf.predict(X_test)\n",
    "\n",
    "r2_score(y_test, y_pred)"
   ]
  },
  {
   "cell_type": "markdown",
   "metadata": {},
   "source": [
    "## References\n",
    "\n",
    "1. [Chess Piece Relative Value - Wikipedia](https://en.wikipedia.org/wiki/Chess_piece_relative_value)\n",
    "2. [Doubled pawns - Wikipedia](https://en.wikipedia.org/wiki/Doubled_pawn)\n",
    "3. [Fork (chess) - Wikipedia](https://en.wikipedia.org/wiki/Fork_(chess))"
   ]
  }
 ],
 "metadata": {
  "kernelspec": {
   "display_name": "Python 3",
   "language": "python",
   "name": "python3"
  },
  "language_info": {
   "codemirror_mode": {
    "name": "ipython",
    "version": 3
   },
   "file_extension": ".py",
   "mimetype": "text/x-python",
   "name": "python",
   "nbconvert_exporter": "python",
   "pygments_lexer": "ipython3",
   "version": "3.10.11"
  }
 },
 "nbformat": 4,
 "nbformat_minor": 2
}
