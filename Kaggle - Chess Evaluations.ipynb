{
 "cells": [
  {
   "cell_type": "markdown",
   "metadata": {},
   "source": [
    "# ***Kaggle:*** Chess Evaluations\n",
    "\n",
    "| Author's Name         | NIU     |\n",
    "| --------------------- | ------- |\n",
    "| Albert Capdevila      | 1587933 |\n",
    "\n",
    "<small>*This Jupyter Notebook is submitted as an assignment for the Machine Learning subject in the Computer Engineering degree at the Universitat Autònoma de Barcelona (UAB).*<small>"
   ]
  },
  {
   "cell_type": "markdown",
   "metadata": {},
   "source": [
    "## 1. Problem definition\n",
    "\n",
    "In computer chess, an evaluation function estimates the strength of a position by assigning a numerical score that indicates which side (White or Black) has the advantage and by how much.\n",
    "\n",
    "This score is based on the values of chess pieces, which are traditionally:\n",
    "| Piece  | Pawn | Knight | Bishop | Rook | Queen |\n",
    "|--------|------|--------|--------|------|-------|\n",
    "| Symbol | ![Pawn](https://upload.wikimedia.org/wikipedia/commons/thumb/4/45/Chess_plt45.svg/45px-Chess_plt45.svg.png) | ![Knight](https://upload.wikimedia.org/wikipedia/commons/thumb/7/70/Chess_nlt45.svg/45px-Chess_nlt45.svg.png) | ![Bishop](https://upload.wikimedia.org/wikipedia/commons/thumb/b/b1/Chess_blt45.svg/45px-Chess_blt45.svg.png) | ![Rook](https://upload.wikimedia.org/wikipedia/commons/thumb/7/72/Chess_rlt45.svg/45px-Chess_rlt45.svg.png) | ![Queen](https://upload.wikimedia.org/wikipedia/commons/thumb/1/15/Chess_qlt45.svg/45px-Chess_qlt45.svg.png) |\n",
    "| Value  | 1    | 3      | 3      | 5    | 9     |\n",
    "\n",
    "<small>*The value of the king is undefined as it cannot be captured, let alone traded, during the course of the game. Chess engines usually assign the king an arbitrary large value such as 200 points [¹](#references).*</small>\n",
    "\n",
    "These values show that, for example, capturing a bishop is equivalent to capturing three pawns. Therefore, all of them can be expressed in *'pawn units'*.\n",
    "\n",
    "It’s also important to note that evaluations are opposite, with positive values indicating an advantage for White and negative values for Black. For example, a negative evaluation of $-3$ pawns may indicate that Black has an advantage equivalent to three pawns, a bishop, or a knight.\n",
    "\n",
    "Usually, these evaluations are calculated by complex algorithms, such as *Stockfish*, which are based on **minimax** principles, calculating, pruning, and predicting the best moves across multiple levels of depth. These algorithms can be slow and computationally intensive, as they analyze many possible future moves in a position. This notebook will explore the use of regression models to achieve similar results more quickly.\n",
    "\n",
    "***In this notebook, we aim to estimate the evaluation score of a chess position through feature extraction and simple regression techniques.***\n",
    "\n"
   ]
  },
  {
   "cell_type": "markdown",
   "metadata": {},
   "source": [
    "## 2. Data collection\n",
    "\n",
    "For this machine learning problem, we will use the **Chess Evaluations** dataset, available [here](https://www.kaggle.com/datasets/ronakbadhe/chess-evaluations/data) on Kaggle. The dataset contains two columns: \n",
    "\n",
    "| Feature             | Description                                                                 |\n",
    "|---------------------|-----------------------------------------------------------------------------|\n",
    "| **Position (FEN)**  | This is a string representing the chess position in Forsyth-Edwards Notation (FEN). |\n",
    "| **Evaluation**      | This is the evaluation of the position in ***centipawns***. `#` means that there is forced checkmate. |\n",
    "\n",
    "The evaluations are in centi-pawns and are generated from Stockfish 11 at depth 22.\n",
    "\n",
    "Let’s download and import the dataset:"
   ]
  },
  {
   "cell_type": "code",
   "execution_count": 1,
   "metadata": {},
   "outputs": [
    {
     "name": "stdout",
     "output_type": "stream",
     "text": [
      "The 'data' directory was found successfully ✓\n"
     ]
    }
   ],
   "source": [
    "\n",
    "from kaggle.api.kaggle_api_extended import KaggleApi\n",
    "from zipfile import ZipFile\n",
    "from tqdm import tqdm\n",
    "import pandas as pd\n",
    "import numpy as np\n",
    "import re\n",
    "import os \n",
    "\n",
    "api = KaggleApi()\n",
    "api.authenticate()\n",
    "\n",
    "dataser_owner = 'ronakbadhe'\n",
    "dataset_name= 'chess-evaluations'\n",
    "dataset = f'{dataser_owner}/{dataset_name}'\n",
    "target = 'Evaluation'\n",
    "\n",
    "if not os.path.isdir('data'):\n",
    "  print(\"The 'data' directory was not found\")\n",
    "  print(\"Downloading the dataset from Kaggle...\")\n",
    "  os.mkdir('data')\n",
    "  api.dataset_download_files(dataset = dataset,path = 'data')\n",
    "  zf = ZipFile(f'data/{dataset_name}.zip')\n",
    "  zf.extractall(f'data')\n",
    "  zf.close()\n",
    "  os.remove(f'data/{dataset_name}.zip')\n",
    "  print(\"Dataset downloaded successfully ✓\")\n",
    "else:\n",
    "  print(\"The 'data' directory was found successfully ✓\")"
   ]
  },
  {
   "cell_type": "code",
   "execution_count": 2,
   "metadata": {},
   "outputs": [
    {
     "name": "stdout",
     "output_type": "stream",
     "text": [
      "Reading the file 'chessData.csv'...\n",
      "File 'chessData.csv' read successfully ✓\n"
     ]
    }
   ],
   "source": [
    "csvFile = \"chessData.csv\"\n",
    "print(f\"Reading the file '{csvFile}'...\")\n",
    "\n",
    "df = pd.read_csv(f'data/{csvFile}')\n",
    "\n",
    "print(f\"File '{csvFile}' read successfully ✓\")"
   ]
  },
  {
   "cell_type": "code",
   "execution_count": 3,
   "metadata": {},
   "outputs": [],
   "source": [
    "# Reducing the dataset size to make it faster to work with\n",
    "from sklearn.model_selection import train_test_split\n",
    "\n",
    "_, df = train_test_split(df, test_size=0.01, random_state=42)"
   ]
  },
  {
   "cell_type": "code",
   "execution_count": 4,
   "metadata": {},
   "outputs": [
    {
     "data": {
      "text/html": [
       "<div>\n",
       "<style scoped>\n",
       "    .dataframe tbody tr th:only-of-type {\n",
       "        vertical-align: middle;\n",
       "    }\n",
       "\n",
       "    .dataframe tbody tr th {\n",
       "        vertical-align: top;\n",
       "    }\n",
       "\n",
       "    .dataframe thead th {\n",
       "        text-align: right;\n",
       "    }\n",
       "</style>\n",
       "<table border=\"1\" class=\"dataframe\">\n",
       "  <thead>\n",
       "    <tr style=\"text-align: right;\">\n",
       "      <th></th>\n",
       "      <th>FEN</th>\n",
       "      <th>Evaluation</th>\n",
       "    </tr>\n",
       "  </thead>\n",
       "  <tbody>\n",
       "    <tr>\n",
       "      <th>11784899</th>\n",
       "      <td>r3k2r/1b2bppp/p1n1pn2/1p2N1B1/8/2NB1P2/PPP3PP/...</td>\n",
       "      <td>-35</td>\n",
       "    </tr>\n",
       "    <tr>\n",
       "      <th>8860705</th>\n",
       "      <td>r3k2r/1pp2p2/1bnp1q2/p2Bp1p1/PP2P1bP/1QPP1N2/3...</td>\n",
       "      <td>-201</td>\n",
       "    </tr>\n",
       "    <tr>\n",
       "      <th>7376649</th>\n",
       "      <td>6k1/2p3pp/8/8/P3R3/3r1PP1/5K1P/8 b - - 0 30</td>\n",
       "      <td>+121</td>\n",
       "    </tr>\n",
       "    <tr>\n",
       "      <th>2224083</th>\n",
       "      <td>1r6/2rnppkp/1q1p2n1/2pP2p1/2b5/1P4PP/P1QNPPB1/...</td>\n",
       "      <td>+280</td>\n",
       "    </tr>\n",
       "    <tr>\n",
       "      <th>4108821</th>\n",
       "      <td>5k2/3R4/1p1p4/3n2pp/8/8/PP6/6K1 b - - 1 35</td>\n",
       "      <td>+328</td>\n",
       "    </tr>\n",
       "  </tbody>\n",
       "</table>\n",
       "</div>"
      ],
      "text/plain": [
       "                                                        FEN Evaluation\n",
       "11784899  r3k2r/1b2bppp/p1n1pn2/1p2N1B1/8/2NB1P2/PPP3PP/...        -35\n",
       "8860705   r3k2r/1pp2p2/1bnp1q2/p2Bp1p1/PP2P1bP/1QPP1N2/3...       -201\n",
       "7376649         6k1/2p3pp/8/8/P3R3/3r1PP1/5K1P/8 b - - 0 30       +121\n",
       "2224083   1r6/2rnppkp/1q1p2n1/2pP2p1/2b5/1P4PP/P1QNPPB1/...       +280\n",
       "4108821          5k2/3R4/1p1p4/3n2pp/8/8/PP6/6K1 b - - 1 35       +328"
      ]
     },
     "execution_count": 4,
     "metadata": {},
     "output_type": "execute_result"
    }
   ],
   "source": [
    "df.head()"
   ]
  },
  {
   "cell_type": "markdown",
   "metadata": {},
   "source": [
    "## 3. Data preprocessing"
   ]
  },
  {
   "cell_type": "markdown",
   "metadata": {},
   "source": [
    "### 3.1 Missing Data"
   ]
  },
  {
   "cell_type": "code",
   "execution_count": 5,
   "metadata": {},
   "outputs": [
    {
     "data": {
      "text/plain": [
       "FEN           0\n",
       "Evaluation    0\n",
       "dtype: int64"
      ]
     },
     "execution_count": 5,
     "metadata": {},
     "output_type": "execute_result"
    }
   ],
   "source": [
    "df.isna().sum()"
   ]
  },
  {
   "cell_type": "markdown",
   "metadata": {},
   "source": [
    "Since there are no missing values, there is no need to handle NaN values."
   ]
  },
  {
   "cell_type": "markdown",
   "metadata": {},
   "source": [
    "### 3.2 Data Conversion"
   ]
  },
  {
   "cell_type": "code",
   "execution_count": 6,
   "metadata": {},
   "outputs": [
    {
     "data": {
      "text/plain": [
       "FEN           object\n",
       "Evaluation    object\n",
       "dtype: object"
      ]
     },
     "execution_count": 6,
     "metadata": {},
     "output_type": "execute_result"
    }
   ],
   "source": [
    "df.dtypes"
   ]
  },
  {
   "cell_type": "markdown",
   "metadata": {},
   "source": [
    "The evaluation feature is a string that starts with either a \"+\" or \"-\" symbol. To use it in the model, it will need to be converted into a numeric value.\n",
    "\n",
    "It may also include the character `#`, but since this is not relevant to the current problem, we will ignore it."
   ]
  },
  {
   "cell_type": "code",
   "execution_count": 7,
   "metadata": {},
   "outputs": [
    {
     "name": "stderr",
     "output_type": "stream",
     "text": [
      "Converting 'Evaluation' to numeric values: 100%|██████████| 129581/129581 [00:00<00:00, 578498.98it/s]\n"
     ]
    }
   ],
   "source": [
    "tqdm.pandas(desc=\"Converting 'Evaluation' to numeric values\")\n",
    "df['Evaluation'] = df['Evaluation'].progress_apply(lambda x: int(x) if '#' not in x else int(x.replace('#', '')))"
   ]
  },
  {
   "cell_type": "code",
   "execution_count": 8,
   "metadata": {},
   "outputs": [
    {
     "data": {
      "text/plain": [
       "FEN           object\n",
       "Evaluation     int64\n",
       "dtype: object"
      ]
     },
     "execution_count": 8,
     "metadata": {},
     "output_type": "execute_result"
    }
   ],
   "source": [
    "df.dtypes"
   ]
  },
  {
   "cell_type": "markdown",
   "metadata": {},
   "source": [
    "### 3.3 Data Normalization\n",
    "\n",
    "Apart from the target feature (Evaluation), the dataset contains only one feature: FEN, which cannot be normalized. Therefore, normalization is not applicable in this case."
   ]
  },
  {
   "cell_type": "markdown",
   "metadata": {},
   "source": [
    "### 3.4 Feature extraction\n",
    "\n",
    "In this section, we will focus on feature extraction, which is the most important step in building our model to predict the evaluation of a chess position. At the moment, we only have the FEN notation of the chess position, and our goal is to extract useful features from it."
   ]
  },
  {
   "cell_type": "markdown",
   "metadata": {},
   "source": [
    "#### 3.4.1 Information in the FEN Notation\n",
    "\n",
    "Forsyth–Edwards Notation (FEN) is a standard notation for describing a particular board position of a chess game.\n",
    "\n",
    "A typical FEN string looks like this: `rnbqkbnr/pppppppp/8/8/4P3/8/PPPP1PPP/RNBQKBNR b KQkq e3 0 1`\n",
    "\n",
    "The FEN string above represents the following board position:\n",
    "\n",
    "<img src=\"img/example_board.svg\" alt=\"Example Board\" width=\"300\"/>\n",
    "\n",
    "A FEN string has six fields, each separated by a space:\n",
    "\n",
    "1. **Piece placement data:**\n",
    "\n",
    "    It is the arrangement of pieces on the board, row by row, from top to bottom. Each piece is represented by a letter (uppercase for White and lowercase for Black). Empty squares are indicated by numbers.\n",
    "\n",
    "2. **Active color:**\n",
    "\n",
    "    Indicates which side is to move (`w` for White, `b` for Black).\n",
    "\n",
    "3. **Castling availability:**\n",
    "\n",
    "    If no castling is possible, this field is `-`. Otherwise, it shows `K`, `Q`, `k`, or `q` for available castling options.\n",
    "\n",
    "4. **En passant target square:**\n",
    "\n",
    "    Indicates the square where an en passant capture is possible, or `-` if not.\n",
    "\n",
    "5. **Halfmove clock:**\n",
    "\n",
    "    Counts the number of halfmoves since the last pawn advance or capture, used for the 50-move rule. \n",
    "\n",
    "6. **Fullmove number:**\n",
    "\n",
    "    Tracks the total number of moves in the game, starting at 1 and incrementing after each Black move.\n",
    "\n",
    "Only using this information, we can start extracting some simple new features:"
   ]
  },
  {
   "cell_type": "code",
   "execution_count": 69,
   "metadata": {},
   "outputs": [],
   "source": [
    "try:\n",
    "    answ = input(\"Would you like to the preprocessing? It might take a bit long Y/N\")\n",
    "    if answ.upper() == 'N':\n",
    "        raise Exception(\"Exited successfully\")\n",
    "\n",
    "except Exception as e:\n",
    "    print(e)"
   ]
  },
  {
   "cell_type": "markdown",
   "metadata": {},
   "source": [
    "<small>*(Alternatively, if you’ve already performed the preprocessing, you can load the data [here](#import-data))*</small>"
   ]
  },
  {
   "cell_type": "code",
   "execution_count": 70,
   "metadata": {},
   "outputs": [
    {
     "name": "stderr",
     "output_type": "stream",
     "text": [
      "Adding column 'White_pieces_count': 100%|██████████| 129581/129581 [00:00<00:00, 155559.83it/s]\n",
      "Adding column 'Black_pieces_count': 100%|██████████| 129581/129581 [00:00<00:00, 168072.30it/s]\n"
     ]
    }
   ],
   "source": [
    "def count_white_pieces(fen):\n",
    "    return len(re.findall(r'[KQRBNP]', fen))\n",
    "\n",
    "def count_black_pieces(fen):\n",
    "    return len(re.findall(r'[kqrbnp]', fen))\n",
    "\n",
    "tqdm.pandas(desc=\"Adding column 'White_pieces_count'\")\n",
    "df['White_pieces_count'] = df['FEN'].progress_apply(count_white_pieces)\n",
    "tqdm.pandas(desc=\"Adding column 'Black_pieces_count'\")\n",
    "df['Black_pieces_count'] = df['FEN'].progress_apply(count_black_pieces)"
   ]
  },
  {
   "cell_type": "code",
   "execution_count": 71,
   "metadata": {},
   "outputs": [
    {
     "name": "stderr",
     "output_type": "stream",
     "text": [
      "Adding column 'White_material': 100%|██████████| 129581/129581 [00:00<00:00, 138738.18it/s]\n",
      "Adding column 'Black_material': 100%|██████████| 129581/129581 [00:00<00:00, 139783.56it/s]"
     ]
    },
    {
     "name": "stdout",
     "output_type": "stream",
     "text": [
      "Added column 'Material_difference' ✓\n"
     ]
    },
    {
     "name": "stderr",
     "output_type": "stream",
     "text": [
      "\n"
     ]
    }
   ],
   "source": [
    "piece_values = {\n",
    "    'P': 1, 'N': 3, 'B': 3, 'R': 5, 'Q': 9, 'K' : 200,\n",
    "    'p': -1, 'n': -3, 'b': -3, 'r': -5, 'q': -9, 'k' : -200,\n",
    "    ' ' : 0\n",
    "}\n",
    "\n",
    "# The king's value is ignored for now.\n",
    "\n",
    "def get_white_material(fen):\n",
    "    return sum(piece_values[piece] for piece in re.findall(r'[QRBNP]', fen))\n",
    "\n",
    "def get_black_material(fen):\n",
    "    return -sum(piece_values[piece] for piece in re.findall(r'[qrbnp]', fen))\n",
    "\n",
    "tqdm.pandas(desc=\"Adding column 'White_material'\")\n",
    "df['White_material'] = df['FEN'].progress_apply(get_white_material)\n",
    "\n",
    "tqdm.pandas(desc=\"Adding column 'Black_material'\")\n",
    "df['Black_material'] = df['FEN'].progress_apply(get_black_material)\n",
    "\n",
    "df[\"Material_difference\"] = df['White_material'] - df['Black_material']\n",
    "print(\"Added column 'Material_difference' ✓\")"
   ]
  },
  {
   "cell_type": "code",
   "execution_count": 72,
   "metadata": {},
   "outputs": [
    {
     "name": "stderr",
     "output_type": "stream",
     "text": [
      "Adding column 'Turn': 100%|██████████| 129581/129581 [00:00<00:00, 543439.61it/s]\n"
     ]
    }
   ],
   "source": [
    "def get_turn(fen):\n",
    "    return 1 if fen.split(' ')[1] == 'w' else -1\n",
    "\n",
    "tqdm.pandas(desc=\"Adding column 'Turn'\")\n",
    "df['Turn'] = df['FEN'].progress_apply(get_turn)"
   ]
  },
  {
   "cell_type": "code",
   "execution_count": 73,
   "metadata": {},
   "outputs": [
    {
     "name": "stderr",
     "output_type": "stream",
     "text": [
      "Adding column 'White_king_castling': 100%|██████████| 129581/129581 [00:00<00:00, 462793.67it/s]\n",
      "Adding column 'White_queen_castling': 100%|██████████| 129581/129581 [00:00<00:00, 510105.98it/s]\n",
      "Adding column 'Black_king_castling': 100%|██████████| 129581/129581 [00:00<00:00, 504157.64it/s]\n",
      "Adding column 'Black_queen_castling': 100%|██████████| 129581/129581 [00:00<00:00, 504202.08it/s]"
     ]
    },
    {
     "name": "stdout",
     "output_type": "stream",
     "text": [
      "Added column 'Castling_difference' ✓\n"
     ]
    },
    {
     "name": "stderr",
     "output_type": "stream",
     "text": [
      "\n"
     ]
    }
   ],
   "source": [
    "def get_castling(fen, char):\n",
    "    return int(char in fen.split(' ')[2])\n",
    "\n",
    "tqdm.pandas(desc=\"Adding column 'White_king_castling'\")\n",
    "df['White_king_castling'] = df['FEN'].progress_apply(lambda fen: get_castling(fen, 'K'))\n",
    "\n",
    "tqdm.pandas(desc=\"Adding column 'White_queen_castling'\")\n",
    "df['White_queen_castling'] = df['FEN'].progress_apply(lambda fen: get_castling(fen, 'Q'))\n",
    "\n",
    "tqdm.pandas(desc=\"Adding column 'Black_king_castling'\")\n",
    "df['Black_king_castling'] = df['FEN'].progress_apply(lambda fen: get_castling(fen, 'k'))\n",
    "\n",
    "tqdm.pandas(desc=\"Adding column 'Black_queen_castling'\")\n",
    "df['Black_queen_castling'] = df['FEN'].progress_apply(lambda fen: get_castling(fen, 'q'))\n",
    "\n",
    "df['Castling_difference'] = df['White_king_castling'] + df['White_queen_castling'] - df['Black_king_castling'] - df['Black_queen_castling']\n",
    "print(\"Added column 'Castling_difference' ✓\")\n"
   ]
  },
  {
   "cell_type": "code",
   "execution_count": 74,
   "metadata": {},
   "outputs": [
    {
     "name": "stderr",
     "output_type": "stream",
     "text": [
      "Adding column 'En_passant': 100%|██████████| 129581/129581 [00:00<00:00, 456193.51it/s]\n"
     ]
    }
   ],
   "source": [
    "def get_en_passant(fen):\n",
    "    # This feature is 1 if en passant is available for White, -1 for Black, and 0 if none\n",
    "    return int(fen.split(' ')[3] != '-') * 1 if fen.split(' ')[1] == 'w' else -1\n",
    "\n",
    "tqdm.pandas(desc=\"Adding column 'En_passant'\")\n",
    "df['En_passant'] = df['FEN'].progress_apply(get_en_passant)"
   ]
  },
  {
   "cell_type": "code",
   "execution_count": 75,
   "metadata": {},
   "outputs": [
    {
     "name": "stderr",
     "output_type": "stream",
     "text": [
      "Adding column 'Rule_50': 100%|██████████| 129581/129581 [00:00<00:00, 492624.80it/s]\n"
     ]
    }
   ],
   "source": [
    "def get_rule50(fen):\n",
    "    return int(fen.split(' ')[4]) * 1 if fen.split(' ')[1] == 'w' else -1\n",
    "\n",
    "tqdm.pandas(desc=\"Adding column 'Rule_50'\")\n",
    "df['Rule_50'] = df['FEN'].progress_apply(get_rule50)"
   ]
  },
  {
   "cell_type": "code",
   "execution_count": 76,
   "metadata": {},
   "outputs": [
    {
     "name": "stderr",
     "output_type": "stream",
     "text": [
      "Adding column 'N_moves': 100%|██████████| 129581/129581 [00:00<00:00, 426273.82it/s]\n"
     ]
    }
   ],
   "source": [
    "def get_n_moves(fen):\n",
    "    return int(fen.split(' ')[5]) + int(fen.split(' ')[1] == 'b')\n",
    "\n",
    "tqdm.pandas(desc=\"Adding column 'N_moves'\")\n",
    "df['N_moves'] = df['FEN'].progress_apply(get_n_moves)"
   ]
  },
  {
   "cell_type": "markdown",
   "metadata": {},
   "source": [
    "Let's see the correlations between the new features and the target variable:"
   ]
  },
  {
   "cell_type": "code",
   "execution_count": 77,
   "metadata": {},
   "outputs": [
    {
     "name": "stdout",
     "output_type": "stream",
     "text": [
      "Correlations with 'Evaluation' (sorted by absolute value):\n",
      "Evaluation              1.000000\n",
      "Material_difference     0.196688\n",
      "White_pieces_count      0.042156\n",
      "Black_pieces_count     -0.041349\n",
      "White_material          0.031842\n",
      "Black_material         -0.022179\n",
      "En_passant              0.021284\n",
      "Turn                    0.021133\n",
      "Rule_50                 0.013880\n",
      "White_king_castling    -0.003880\n",
      "Black_king_castling    -0.002919\n",
      "Black_queen_castling   -0.002685\n",
      "N_moves                 0.002614\n",
      "White_queen_castling   -0.002510\n",
      "Castling_difference    -0.000297\n",
      "Name: Evaluation, dtype: float64\n"
     ]
    }
   ],
   "source": [
    "correlations = df.corr(numeric_only=True)['Evaluation']\n",
    "sorted_correlations = correlations.reindex(correlations.abs().sort_values(ascending=False).index)\n",
    "print(\"Correlations with 'Evaluation' (sorted by absolute value):\")\n",
    "print(sorted_correlations)"
   ]
  },
  {
   "cell_type": "markdown",
   "metadata": {},
   "source": [
    "There are no significant correlations."
   ]
  },
  {
   "cell_type": "markdown",
   "metadata": {},
   "source": [
    "#### 3.4.2 Information from the Game Position (General)\n",
    "\n",
    "Currently, we only extract information from the FEN string, not from the position itself (for instance, two positions with the same pieces, turn, en passant, and number of moves would appear identical to the model).\n",
    "\n",
    "We need to extract information directly from the game. To achieve this, we'll use the chess library to obtain a board representation and apply some of its functions to build new features."
   ]
  },
  {
   "cell_type": "code",
   "execution_count": 78,
   "metadata": {},
   "outputs": [
    {
     "name": "stdout",
     "output_type": "stream",
     "text": [
      "Requirement already satisfied: chess in c:\\users\\albert\\appdata\\local\\packages\\pythonsoftwarefoundation.python.3.10_qbz5n2kfra8p0\\localcache\\local-packages\\python310\\site-packages (1.11.1)\n",
      "Note: you may need to restart the kernel to use updated packages.\n"
     ]
    }
   ],
   "source": [
    "%pip install chess\n",
    "import chess"
   ]
  },
  {
   "cell_type": "code",
   "execution_count": 79,
   "metadata": {},
   "outputs": [
    {
     "name": "stderr",
     "output_type": "stream",
     "text": [
      "Adding column 'Board': 100%|██████████| 129581/129581 [00:12<00:00, 10244.91it/s]\n"
     ]
    }
   ],
   "source": [
    "def get_board(fen):\n",
    "    return chess.Board(fen)\n",
    "\n",
    "tqdm.pandas(desc=\"Adding column 'Board'\")\n",
    "df['Board'] = df['FEN'].progress_apply(get_board)"
   ]
  },
  {
   "cell_type": "markdown",
   "metadata": {},
   "source": [
    "Here are a few features I think could have a strong correlation with the evaluation:\n",
    "\n",
    "* **Attack count:**\n",
    "    It is the number of squares attacked by each individual piece of a player. If a square is attacked by more than one piece, it is counted multiple times."
   ]
  },
  {
   "cell_type": "code",
   "execution_count": 80,
   "metadata": {},
   "outputs": [
    {
     "name": "stderr",
     "output_type": "stream",
     "text": [
      "Adding column 'White_attacks': 100%|██████████| 129581/129581 [00:24<00:00, 5380.24it/s]\n",
      "Adding column 'Black_attacks': 100%|██████████| 129581/129581 [00:24<00:00, 5354.55it/s]"
     ]
    },
    {
     "name": "stdout",
     "output_type": "stream",
     "text": [
      "Added column 'Attacks_difference' ✓\n"
     ]
    },
    {
     "name": "stderr",
     "output_type": "stream",
     "text": [
      "\n"
     ]
    }
   ],
   "source": [
    "def get_attacks_count(board, color):\n",
    "    return sum(len(board.attackers(color, square)) for square in chess.SQUARES)\n",
    "\n",
    "tqdm.pandas(desc=\"Adding column 'White_attacks'\")\n",
    "df['White_attacks'] = df['Board'].progress_apply(lambda board: get_attacks_count(board, chess.WHITE))\n",
    "\n",
    "tqdm.pandas(desc=\"Adding column 'Black_attacks'\")\n",
    "df['Black_attacks'] = df['Board'].progress_apply(lambda board: get_attacks_count(board, chess.BLACK))\n",
    "\n",
    "df[\"Attacks_difference\"] = df['White_attacks'] - df['Black_attacks']\n",
    "print(\"Added column 'Attacks_difference' ✓\")"
   ]
  },
  {
   "cell_type": "markdown",
   "metadata": {},
   "source": [
    "* **Central attack count**: It is the number of attacks on the central squares (d4, e4, d5, e5) by each individual piece of a player. If a square is attacked by more than one piece, it is counted multiple times. The central squares are often key in chess, as controlling them typically gives strategic advantages."
   ]
  },
  {
   "cell_type": "code",
   "execution_count": 81,
   "metadata": {},
   "outputs": [
    {
     "name": "stderr",
     "output_type": "stream",
     "text": [
      "Adding column 'White_central_attacks': 100%|██████████| 129581/129581 [00:01<00:00, 68559.93it/s]\n",
      "Adding column 'Black_central_attacks': 100%|██████████| 129581/129581 [00:01<00:00, 65910.97it/s]"
     ]
    },
    {
     "name": "stdout",
     "output_type": "stream",
     "text": [
      "Added column 'Central_attacks_difference' ✓\n"
     ]
    },
    {
     "name": "stderr",
     "output_type": "stream",
     "text": [
      "\n"
     ]
    }
   ],
   "source": [
    "def get_central_attacks_count(board, color):\n",
    "    central_squares = [chess.D4, chess.E4, chess.D5, chess.E5]\n",
    "    return sum(len(board.attackers(color, square)) for square in central_squares)\n",
    "\n",
    "tqdm.pandas(desc=\"Adding column 'White_central_attacks'\")\n",
    "df['White_central_attacks'] = df['Board'].progress_apply(lambda board: get_central_attacks_count(board, chess.WHITE))\n",
    "\n",
    "tqdm.pandas(desc=\"Adding column 'Black_central_attacks'\")\n",
    "df['Black_central_attacks'] = df['Board'].progress_apply(lambda board: get_central_attacks_count(board, chess.BLACK))\n",
    "df[\"Central_attacks_difference\"] = df['White_central_attacks'] - df['Black_central_attacks']\n",
    "print(\"Added column 'Central_attacks_difference' ✓\")"
   ]
  },
  {
   "cell_type": "markdown",
   "metadata": {},
   "source": [
    "* **Legal moves:**\n",
    "    It is the total number of legal moves available for a player in the current position."
   ]
  },
  {
   "cell_type": "code",
   "execution_count": 82,
   "metadata": {},
   "outputs": [
    {
     "name": "stderr",
     "output_type": "stream",
     "text": [
      "Adding column 'White_legal_moves': 100%|██████████| 129581/129581 [00:12<00:00, 10244.49it/s]\n",
      "Adding column 'Black_legal_moves': 100%|██████████| 129581/129581 [00:11<00:00, 11349.77it/s]"
     ]
    },
    {
     "name": "stdout",
     "output_type": "stream",
     "text": [
      "Added column 'Legal_moves_difference' ✓\n"
     ]
    },
    {
     "name": "stderr",
     "output_type": "stream",
     "text": [
      "\n"
     ]
    }
   ],
   "source": [
    "def get_legal_moves(board, color):\n",
    "    orig_turn = board.turn \n",
    "    board.turn = color\n",
    "    legal_moves = len(list(board.legal_moves))\n",
    "    board.turn = orig_turn\n",
    "    return legal_moves\n",
    "\n",
    "tqdm.pandas(desc=\"Adding column 'White_legal_moves'\")\n",
    "df['White_legal_moves'] = df['Board'].progress_apply(lambda board: get_legal_moves(board, chess.WHITE))\n",
    "\n",
    "tqdm.pandas(desc=\"Adding column 'Black_legal_moves'\")\n",
    "df['Black_legal_moves'] = df['Board'].progress_apply(lambda board: get_legal_moves(board, chess.BLACK))\n",
    "\n",
    "df[\"Legal_moves_difference\"] = df['White_legal_moves'] - df['Black_legal_moves']\n",
    "print(\"Added column 'Legal_moves_difference' ✓\")"
   ]
  },
  {
   "cell_type": "markdown",
   "metadata": {},
   "source": [
    "* **Attacked pieces**:\n",
    "    It is the total number of opponent attacks on squares occupied by a player's pieces."
   ]
  },
  {
   "cell_type": "code",
   "execution_count": 83,
   "metadata": {},
   "outputs": [
    {
     "name": "stderr",
     "output_type": "stream",
     "text": [
      "Adding column 'White_attacked': 100%|██████████| 129581/129581 [00:09<00:00, 13188.91it/s]\n",
      "Adding column 'Black_attacked': 100%|██████████| 129581/129581 [00:10<00:00, 12936.14it/s]"
     ]
    },
    {
     "name": "stdout",
     "output_type": "stream",
     "text": [
      "Added column 'Attacked_difference' ✓\n"
     ]
    },
    {
     "name": "stderr",
     "output_type": "stream",
     "text": [
      "\n"
     ]
    }
   ],
   "source": [
    "def get_attacked_pieces(board, color):\n",
    "    attacked_pieces = 0\n",
    "    opponent_color = chess.WHITE if color == chess.BLACK else chess.BLACK \n",
    "    for square in chess.SQUARES:\n",
    "        piece = board.piece_at(square)\n",
    "        if piece and piece.color == color:\n",
    "            attacked_pieces += len(board.attackers(opponent_color, square))\n",
    "\n",
    "    return attacked_pieces\n",
    "\n",
    "tqdm.pandas(desc=\"Adding column 'White_attacked'\")\n",
    "df['White_attacked'] = df['Board'].progress_apply(lambda board: get_attacked_pieces(board, chess.WHITE))\n",
    "tqdm.pandas(desc=\"Adding column 'Black_attacked'\")\n",
    "df['Black_attacked'] = df['Board'].progress_apply(lambda board: get_attacked_pieces(board, chess.BLACK))\n",
    "\n",
    "df[\"Attacked_difference\"] = df['Black_attacked'] - df['White_attacked']\n",
    "print(\"Added column 'Attacked_difference' ✓\")"
   ]
  },
  {
   "cell_type": "markdown",
   "metadata": {},
   "source": [
    "- **Check:** Verifies if a player's king is under attack"
   ]
  },
  {
   "cell_type": "code",
   "execution_count": 84,
   "metadata": {},
   "outputs": [
    {
     "name": "stderr",
     "output_type": "stream",
     "text": [
      "Adding column 'Check': 100%|██████████| 129581/129581 [00:00<00:00, 351131.08it/s]\n"
     ]
    }
   ],
   "source": [
    "def get_check(board):\n",
    "    return int(board.is_check()) * 1 if board.turn else -1\n",
    "\n",
    "tqdm.pandas(desc=\"Adding column 'Check'\")\n",
    "df['Check'] = df['Board'].progress_apply(get_check)"
   ]
  },
  {
   "cell_type": "markdown",
   "metadata": {},
   "source": [
    "<small>*\"In chess, doubled pawns are two pawns of the same color residing on the same file. Pawns can become doubled only when one pawn captures onto a file on which another friendly pawn resides. [...] In most cases, doubled pawns are considered a weakness due to their inability to defend each other.\" [²](#references)*</small>\n",
    "\n",
    "\n",
    "* **Doubled pawns**: It is the count of how many extra pawns are stacked in each file for a player"
   ]
  },
  {
   "cell_type": "code",
   "execution_count": 85,
   "metadata": {},
   "outputs": [
    {
     "name": "stderr",
     "output_type": "stream",
     "text": [
      "Adding column 'White_doubled_pawns': 100%|██████████| 129581/129581 [00:16<00:00, 7772.61it/s]\n",
      "Adding column 'Black_doubled_pawns': 100%|██████████| 129581/129581 [00:16<00:00, 7824.68it/s]"
     ]
    },
    {
     "name": "stdout",
     "output_type": "stream",
     "text": [
      "Added column 'Doubled_pawns_difference' ✓\n"
     ]
    },
    {
     "name": "stderr",
     "output_type": "stream",
     "text": [
      "\n"
     ]
    }
   ],
   "source": [
    "def count_doubled_pawns(board, color):\n",
    "    doubled_pawns = 0\n",
    "    for file in chess.FILE_NAMES:\n",
    "        column_squares = [chess.square(chess.FILE_NAMES.index(file), rank) for rank in range(8)]\n",
    "        pawns_in_file = sum(1 for square in column_squares if board.piece_at(square) == chess.Piece(chess.PAWN, color))\n",
    "        if pawns_in_file > 1:\n",
    "            doubled_pawns += pawns_in_file - 1\n",
    "    return doubled_pawns\n",
    "\n",
    "tqdm.pandas(desc=\"Adding column 'White_doubled_pawns'\")\n",
    "df['White_doubled_pawns'] = df['Board'].progress_apply(lambda board: count_doubled_pawns(board, chess.WHITE))\n",
    "tqdm.pandas(desc=\"Adding column 'Black_doubled_pawns'\")\n",
    "df['Black_doubled_pawns'] = df['Board'].progress_apply(lambda board: count_doubled_pawns(board, chess.BLACK))\n",
    "\n",
    "df[\"Doubled_pawns_difference\"] = df['White_doubled_pawns'] - df['Black_doubled_pawns']\n",
    "print(\"Added column 'Doubled_pawns_difference' ✓\")"
   ]
  },
  {
   "cell_type": "markdown",
   "metadata": {},
   "source": [
    "<small>*\"In chess, a fork is a tactic in which a piece attacks multiple enemy pieces simultaneously. The attacker usually aims to capture one of the forked pieces\" [³](#references)*</small>\n",
    "\n",
    "- **Forks:** Counts the number of forks for each player."
   ]
  },
  {
   "cell_type": "code",
   "execution_count": 86,
   "metadata": {},
   "outputs": [
    {
     "name": "stderr",
     "output_type": "stream",
     "text": [
      "Adding column 'White_forks': 100%|██████████| 129581/129581 [00:16<00:00, 7951.17it/s]\n",
      "Adding column 'Black_forks': 100%|██████████| 129581/129581 [00:15<00:00, 8291.57it/s]"
     ]
    },
    {
     "name": "stdout",
     "output_type": "stream",
     "text": [
      "Added column 'Forks_difference' ✓\n"
     ]
    },
    {
     "name": "stderr",
     "output_type": "stream",
     "text": [
      "\n"
     ]
    }
   ],
   "source": [
    "def get_forks(board, color):\n",
    "    forks = 0\n",
    "    for square, piece in board.piece_map().items():\n",
    "        if piece.color == color:\n",
    "            attacked_squares = board.attacks(square)\n",
    "            if len([target for target in attacked_squares if board.piece_at(target) and board.piece_at(target).color != color]) > 1:\n",
    "                forks += 1\n",
    "\n",
    "    return forks\n",
    "\n",
    "tqdm.pandas(desc=\"Adding column 'White_forks'\")\n",
    "df['White_forks'] = df['Board'].progress_apply(lambda board: get_forks(board, chess.WHITE))\n",
    "tqdm.pandas(desc=\"Adding column 'Black_forks'\")\n",
    "df['Black_forks'] = df['Board'].progress_apply(lambda board: get_forks(board, chess.BLACK))\n",
    "\n",
    "df[\"Forks_difference\"] = df['White_forks'] - df['Black_forks']\n",
    "print(\"Added column 'Forks_difference' ✓\")"
   ]
  },
  {
   "cell_type": "markdown",
   "metadata": {},
   "source": [
    "*<small>\"An open file in chess is a file with no pawns of either color on it. [...] Having rooks or queens on open files or half-open files is considered advantageous, as it allows a player to attack more easily\" [⁴](#references)</small>*\n",
    "\n",
    "* **Open File Control**: Counts the number of open files controlled by each player."
   ]
  },
  {
   "cell_type": "code",
   "execution_count": 87,
   "metadata": {},
   "outputs": [
    {
     "name": "stderr",
     "output_type": "stream",
     "text": [
      "Adding column 'White_open_files': 100%|██████████| 129581/129581 [00:09<00:00, 14004.20it/s]\n",
      "Adding column 'Black_open_files': 100%|██████████| 129581/129581 [00:07<00:00, 18479.89it/s]"
     ]
    },
    {
     "name": "stdout",
     "output_type": "stream",
     "text": [
      "Added column 'Open_files_difference' ✓\n"
     ]
    },
    {
     "name": "stderr",
     "output_type": "stream",
     "text": [
      "\n"
     ]
    }
   ],
   "source": [
    "def open_file_control(board, color):\n",
    "    open_files = 0\n",
    "    for file in range(8):\n",
    "        squares = [chess.square(file, rank) for rank in range(8)]\n",
    "        if all(board.piece_at(square) is None or board.piece_at(square).color == color and board.piece_at(square).piece_type != chess.PAWN for square in squares):\n",
    "            open_files += 1\n",
    "    return open_files\n",
    "\n",
    "tqdm.pandas(desc=\"Adding column 'White_open_files'\")\n",
    "df['White_open_files'] = df['Board'].progress_apply(lambda board: open_file_control(board, chess.WHITE))\n",
    "tqdm.pandas(desc=\"Adding column 'Black_open_files'\")\n",
    "df['Black_open_files'] = df['Board'].progress_apply(lambda board: open_file_control(board, chess.BLACK))\n",
    "\n",
    "df['Open_files_difference'] = df['White_open_files'] - df['Black_open_files']\n",
    "print(\"Added column 'Open_files_difference' ✓\")"
   ]
  },
  {
   "cell_type": "markdown",
   "metadata": {},
   "source": [
    "* **Major Control**: Calculates the total number of squares controlled by rooks and queens for each player."
   ]
  },
  {
   "cell_type": "code",
   "execution_count": 88,
   "metadata": {},
   "outputs": [
    {
     "name": "stderr",
     "output_type": "stream",
     "text": [
      "Adding column 'White_major_control': 100%|██████████| 129581/129581 [00:01<00:00, 83871.25it/s]\n",
      "Adding column 'Black_major_control': 100%|██████████| 129581/129581 [00:01<00:00, 84968.58it/s]"
     ]
    },
    {
     "name": "stdout",
     "output_type": "stream",
     "text": [
      "Added column 'Major_control_difference' ✓\n"
     ]
    },
    {
     "name": "stderr",
     "output_type": "stream",
     "text": [
      "\n"
     ]
    }
   ],
   "source": [
    "def count_major_control(board, color):\n",
    "    major_pieces = board.pieces(chess.ROOK, color) | board.pieces(chess.QUEEN, color)\n",
    "    return sum(len(board.attacks(square)) for square in major_pieces)\n",
    "\n",
    "tqdm.pandas(desc=\"Adding column 'White_major_control'\")\n",
    "df['White_major_control'] = df['Board'].progress_apply(lambda board: count_major_control(board, chess.WHITE))\n",
    "\n",
    "tqdm.pandas(desc=\"Adding column 'Black_major_control'\")\n",
    "df['Black_major_control'] = df['Board'].progress_apply(lambda board: count_major_control(board, chess.BLACK))\n",
    "\n",
    "df['Major_control_difference'] = df['White_major_control'] - df['Black_major_control']\n",
    "print(\"Added column 'Major_control_difference' ✓\")"
   ]
  },
  {
   "cell_type": "markdown",
   "metadata": {},
   "source": [
    "* **Sixth-Rank Pawns**: Counts the number of pawns for each player positioned on the sixth rank. These become significantly more powerful as they are closer to promotion."
   ]
  },
  {
   "cell_type": "code",
   "execution_count": 89,
   "metadata": {},
   "outputs": [
    {
     "name": "stderr",
     "output_type": "stream",
     "text": [
      "Adding column 'White_sixth_rank_pawns': 100%|██████████| 129581/129581 [00:00<00:00, 291848.47it/s]\n",
      "Adding column 'Black_sixth_rank_pawns': 100%|██████████| 129581/129581 [00:00<00:00, 348338.05it/s]"
     ]
    },
    {
     "name": "stdout",
     "output_type": "stream",
     "text": [
      "Added column 'Sixth_rank_pawns_difference' ✓\n"
     ]
    },
    {
     "name": "stderr",
     "output_type": "stream",
     "text": [
      "\n"
     ]
    }
   ],
   "source": [
    "def count_sixth_rank_pawns(fen, color):\n",
    "    rows = fen.split()[0].split(\"/\")\n",
    "    rank_index = 2 if color == chess.WHITE else 5\n",
    "    rank = rows[rank_index]\n",
    "    \n",
    "    pawn_char = 'P' if color == chess.WHITE else 'p'\n",
    "    return rank.count(pawn_char)\n",
    "\n",
    "tqdm.pandas(desc=\"Adding column 'White_sixth_rank_pawns'\")\n",
    "df['White_sixth_rank_pawns'] = df['FEN'].progress_apply(lambda fen: count_sixth_rank_pawns(fen, chess.WHITE))\n",
    "\n",
    "tqdm.pandas(desc=\"Adding column 'Black_sixth_rank_pawns'\")\n",
    "df['Black_sixth_rank_pawns'] = df['FEN'].progress_apply(lambda fen: count_sixth_rank_pawns(fen, chess.BLACK))\n",
    "\n",
    "df['Sixth_rank_pawns_difference'] = df['White_sixth_rank_pawns'] - df['Black_sixth_rank_pawns']\n",
    "print(\"Added column 'Sixth_rank_pawns_difference' ✓\")"
   ]
  },
  {
   "cell_type": "markdown",
   "metadata": {},
   "source": [
    "Let's see the current strongest correlations: "
   ]
  },
  {
   "cell_type": "code",
   "execution_count": 90,
   "metadata": {},
   "outputs": [
    {
     "name": "stdout",
     "output_type": "stream",
     "text": [
      "Correlations with 'Evaluation' (sorted by absolute value):\n",
      "Evaluation                     1.000000\n",
      "Attacks_difference             0.231071\n",
      "Material_difference            0.196688\n",
      "Legal_moves_difference         0.183779\n",
      "Major_control_difference       0.131955\n",
      "Sixth_rank_pawns_difference    0.129983\n",
      "Central_attacks_difference     0.104812\n",
      "White_legal_moves              0.094974\n",
      "White_sixth_rank_pawns         0.090383\n",
      "Black_sixth_rank_pawns        -0.090149\n",
      "Black_legal_moves             -0.089869\n",
      "White_attacks                  0.064895\n",
      "Black_central_attacks         -0.064887\n",
      "Open_files_difference          0.062926\n",
      "Black_attacks                 -0.057381\n",
      "White_major_control            0.055943\n",
      "White_central_attacks          0.054349\n",
      "White_pieces_count             0.042156\n",
      "Black_pieces_count            -0.041349\n",
      "Black_major_control           -0.034771\n",
      "White_material                 0.031842\n",
      "Black_attacked                 0.027091\n",
      "White_forks                    0.026275\n",
      "Forks_difference               0.024215\n",
      "Doubled_pawns_difference       0.022771\n",
      "Attacked_difference            0.022394\n",
      "Black_material                -0.022179\n",
      "En_passant                     0.021284\n",
      "Turn                           0.021133\n",
      "Black_open_files              -0.021006\n",
      "Black_doubled_pawns           -0.017678\n",
      "White_open_files               0.014780\n",
      "White_doubled_pawns            0.014152\n",
      "Rule_50                        0.013880\n",
      "Black_forks                   -0.006635\n",
      "Check                          0.004537\n",
      "White_king_castling           -0.003880\n",
      "Black_king_castling           -0.002919\n",
      "Black_queen_castling          -0.002685\n",
      "N_moves                        0.002614\n",
      "White_queen_castling          -0.002510\n",
      "White_attacked                 0.000456\n",
      "Castling_difference           -0.000297\n",
      "Name: Evaluation, dtype: float64\n"
     ]
    }
   ],
   "source": [
    "correlations = df.corr(numeric_only=True)['Evaluation']\n",
    "sorted_correlations = correlations.reindex(correlations.abs().sort_values(ascending=False).index)\n",
    "print(\"Correlations with 'Evaluation' (sorted by absolute value):\")\n",
    "print(sorted_correlations)"
   ]
  },
  {
   "cell_type": "markdown",
   "metadata": {},
   "source": [
    "Using the chess library, we can extract much more information, but we must keep it simple.  \n",
    "\n",
    "So far, we have focused on attributes that indicate whether a position might be better, but we have ignored the fact that the goal is to infer a specific value: the evaluation provided by Stockfish 11 at 22 levels of depth (considering 22 turns ahead).  \n",
    "\n",
    "Therefore, we need to identify the features that Stockfish use to generate their evaluations."
   ]
  },
  {
   "cell_type": "markdown",
   "metadata": {},
   "source": [
    "#### 3.4.3 Information that Stockfish uses (Simplified)\n",
    "\n",
    "Stockfish's evaluation function is actually quite complex and uses lots of values to determine its result. We'll focus on the main ones and simplify where needed:\n",
    "\n",
    "- Middle game evaluation\n",
    "\n",
    "    - **Piece Value (eg)**: Material is weighted differently during the middlegame.\n",
    "\n",
    "    - **Psqt (eg)**: Piece-square table bonuses, where certain positions provide an advantage for specific pieces in the middlegame.\n",
    "\n",
    "    - Pawns:\n",
    "        - Doubled: *(Simplified: Already considered in 'Double_pawns')*\n",
    "\n",
    "    - Pieces:\n",
    "        - **Minor behind pawn**: Knight or bishop when behind a pawn\n",
    "        - **Bishop pawns**: Number of pawns on the same color square as the bishop *(Simplified)*\n",
    "        - **Bishop xray pawns**: Advantatge for every opponent pawn in the diagonal of a bishop\n",
    "        - **Rook on queen file**: Simple bonus for a rook that is on the same file as any queen\n",
    "        - **Rook on file**: Rook when on an open file *(Simplified)*\n",
    "        - **Long diagonal bishop**: Bonus for bishop on a long diagonal which can \"see\" both center squares.\n",
    "\n",
    "    - Mobility: *(Simplified: Already considered in 'Legal_moves')*\n",
    "\n",
    "    - Threats\n",
    "        - **Hanging**: Weak enemies not defended by opponent *(Simplified)*\n",
    "\n",
    "    - **Passed**: Bonuses for passed pawns *(Simplified)*\n",
    "\n",
    "    - **King**: Bonuses for player's pieces around the king *(Simplified)* \n",
    "\n",
    "- End game evaluation\n",
    "\n",
    "    - **Piece Value (EG)**: Material is weighted differently during the endgame.\n",
    "\n",
    "    - **Psqt (EG)**: Piece-square table bonuses, where certain positions provide an advantage for specific pieces in the endgame.\n",
    "\n",
    "    It also takes all the above into account, with different weights *(Will be ignored for simplicity)*\n",
    "\n",
    "- **Phase**: Eval based on the amount of non-pawn material on the board *(Simplified)*\n",
    "\n",
    "- Rule50: *(Already considered in 'Rule_50')*\n",
    "\n",
    "- Scale factor: The scale factors are used to scale the endgame evaluation score down *(It will also be ignored)*\n",
    "\n",
    "- Tempo: *(Already considered in 'Turn')*\n",
    "\n",
    "<small>*All the bold titles represent new attributes that will be added.*</small>"
   ]
  },
  {
   "cell_type": "code",
   "execution_count": 91,
   "metadata": {},
   "outputs": [
    {
     "name": "stderr",
     "output_type": "stream",
     "text": [
      "Adding column 'Numpy_board': 100%|██████████| 129581/129581 [00:02<00:00, 43198.89it/s]\n"
     ]
    }
   ],
   "source": [
    "# This board representation will be used to do calculations quicker\n",
    "\n",
    "def fen_to_numpy(fen):\n",
    "    rows = fen.split(' ')[0].split('/')\n",
    "    np_board = np.full((8, 8), ' ', dtype=str)\n",
    "    for i, row in enumerate(rows):\n",
    "        col = 0\n",
    "        for char in row:\n",
    "            if char.isdigit():\n",
    "                col += int(char)\n",
    "            else:\n",
    "                np_board[i, col] = char\n",
    "                col += 1\n",
    "                \n",
    "    return np_board\n",
    "\n",
    "tqdm.pandas(desc=\"Adding column 'Numpy_board'\")\n",
    "df['Numpy_board'] = df['FEN'].progress_apply(fen_to_numpy)"
   ]
  },
  {
   "cell_type": "code",
   "execution_count": 92,
   "metadata": {},
   "outputs": [
    {
     "name": "stderr",
     "output_type": "stream",
     "text": [
      "Adding column 'White_material_mg': 100%|██████████| 129581/129581 [00:00<00:00, 141459.46it/s]\n",
      "Adding column 'Black_material_mg': 100%|██████████| 129581/129581 [00:00<00:00, 139030.94it/s]"
     ]
    },
    {
     "name": "stdout",
     "output_type": "stream",
     "text": [
      "Added column 'Material_mg_difference' ✓\n"
     ]
    },
    {
     "name": "stderr",
     "output_type": "stream",
     "text": [
      "\n"
     ]
    }
   ],
   "source": [
    "piece_values_mg = {\n",
    "    'P': 124, 'N': 781, 'B': 825, 'R': 1276, 'Q': 2538,\n",
    "    'p': -124, 'n': -781, 'b': -825, 'r': -1276, 'q': -2538\n",
    "}\n",
    "\n",
    "def get_white_material_mg(fen):\n",
    "    return sum(piece_values_mg[piece] for piece in re.findall(r'[QRBNP]', fen))\n",
    "\n",
    "def get_black_material_mg(fen):\n",
    "    return -sum(piece_values_mg[piece] for piece in re.findall(r'[qrbnp]', fen))\n",
    "\n",
    "tqdm.pandas(desc=\"Adding column 'White_material_mg'\")\n",
    "df['White_material_mg'] = df['FEN'].progress_apply(get_white_material_mg)\n",
    "\n",
    "tqdm.pandas(desc=\"Adding column 'Black_material_mg'\")\n",
    "df['Black_material_mg'] = df['FEN'].progress_apply(get_black_material_mg)\n",
    "\n",
    "df[\"Material_mg_difference\"] = df['White_material_mg'] - df['Black_material_mg']\n",
    "print(\"Added column 'Material_mg_difference' ✓\")"
   ]
  },
  {
   "cell_type": "code",
   "execution_count": 93,
   "metadata": {},
   "outputs": [
    {
     "name": "stderr",
     "output_type": "stream",
     "text": [
      "Adding column 'White_material_eg': 100%|██████████| 129581/129581 [00:00<00:00, 141151.63it/s]\n",
      "Adding column 'Black_material_eg': 100%|██████████| 129581/129581 [00:01<00:00, 127536.64it/s]"
     ]
    },
    {
     "name": "stdout",
     "output_type": "stream",
     "text": [
      "Added column 'Material_eg_difference' ✓\n"
     ]
    },
    {
     "name": "stderr",
     "output_type": "stream",
     "text": [
      "\n"
     ]
    }
   ],
   "source": [
    "piece_values_eg = {\n",
    "    'P': 206, 'N': 854, 'B': 915, 'R': 1380, 'Q': 2682,\n",
    "    'p': -206, 'n': -854, 'b': -915, 'r': -1380, 'q': -2682\n",
    "}\n",
    "\n",
    "def get_white_material_eg(fen):\n",
    "    return sum(piece_values_eg[piece] for piece in re.findall(r'[QRBNP]', fen))\n",
    "\n",
    "def get_black_material_eg(fen):\n",
    "    return -sum(piece_values_eg[piece] for piece in re.findall(r'[qrbnp]', fen))\n",
    "\n",
    "tqdm.pandas(desc=\"Adding column 'White_material_eg'\")\n",
    "df['White_material_eg'] = df['FEN'].progress_apply(get_white_material_eg)\n",
    "\n",
    "tqdm.pandas(desc=\"Adding column 'Black_material_eg'\")\n",
    "df['Black_material_eg'] = df['FEN'].progress_apply(get_black_material_eg)\n",
    "\n",
    "df[\"Material_eg_difference\"] = df['White_material_eg'] - df['Black_material_eg']\n",
    "print(\"Added column 'Material_eg_difference' ✓\")"
   ]
  },
  {
   "cell_type": "markdown",
   "metadata": {},
   "source": [
    "These are the positional weights that Stockfish uses for each piece:"
   ]
  },
  {
   "cell_type": "code",
   "execution_count": 94,
   "metadata": {},
   "outputs": [],
   "source": [
    "psqt_mg = np.array([[[0, 0, 0, 0, 0, 0, 0, 0],  [3, 3, 10, 19, 16, 19, 7, -5],  [-9, -15, 11, 15, 32, 22, 5, -22],  [-4, -23, 6, 20, 40, 17, 4, -8],  [13, 0, -13, 1, 11, -2, -13, 5],  [5, -12, -7, 22, -8, -5, -15, -8],  [-7, 7, -3, -13, 5, -16, 10, -8],  [0, 0, 0, 0, 0, 0, 0, 0]],\n",
    " [[-175, -92, -74, -73, -73, -74, -92, -175],  [-77, -41, -27, -15, -15, -27, -41, -77],  [-61, -17, 6, 12, 12, 6, -17, -61],  [-35, 8, 40, 49, 49, 40, 8, -35],  [-34, 13, 44, 51, 51, 44, 13, -34],  [-9, 22, 58, 53, 53, 58, 22, -9],  [-67, -27, 4, 37, 37, 4, -27, -67],  [-201, -83, -56, -26, -26, -56, -83, -201]],\n",
    " [[-53, -5, -8, -23, -23, -8, -5, -53],  [-15, 8, 19, 4, 4, 19, 8, -15],  [-7, 21, -5, 17, 17, -5, 21, -7],  [-5, 11, 25, 39, 39, 25, 11, -5],  [-12, 29, 22, 31, 31, 22, 29, -12],  [-16, 6, 1, 11, 11, 1, 6, -16],  [-17, -14, 5, 0, 0, 5, -14, -17],  [-48, 1, -14, -23, -23, -14, 1, -48]],\n",
    " [[-31, -20, -14, -5, -5, -14, -20, -31],  [-21, -13, -8, 6, 6, -8, -13, -21],  [-25, -11, -1, 3, 3, -1, -11, -25],  [-13, -5, -4, -6, -6, -4, -5, -13],  [-27, -15, -4, 3, 3, -4, -15, -27],  [-22, -2, 6, 12, 12, 6, -2, -22],  [-2, 12, 16, 18, 18, 16, 12, -2],  [-17, -19, -1, 9, 9, -1, -19, -17]],\n",
    " [[3, -5, -5, 4, 4, -5, -5, 3],  [-3, 5, 8, 12, 12, 8, 5, -3],  [-3, 6, 13, 7, 7, 13, 6, -3],  [4, 5, 9, 8, 8, 9, 5, 4],  [0, 14, 12, 5, 5, 12, 14, 0],  [-4, 10, 6, 8, 8, 6, 10, -4],  [-5, 6, 10, 8, 8, 10, 6, -5],  [-2, -2, 1, -2, -2, 1, -2, -2]],\n",
    " [[271, 327, 271, 198, 198, 271, 327, 271],  [278, 303, 234, 179, 179, 234, 303, 278],  [195, 258, 169, 120, 120, 169, 258, 195],  [164, 190, 138, 98, 98, 138, 190, 164],  [154, 179, 105, 70, 70, 105, 179, 154],  [123, 145, 81, 31, 31, 81, 145, 123],  [88, 120, 65, 33, 33, 65, 120, 88],  [59, 89, 45, -1, -1, 45, 89, 59]]]\n",
    ")\n",
    "\n",
    "psqt_eg = np.array([[[0, 0, 0, 0, 0, 0, 0, 0],  [-10, -6, 10, 0, 14, 7, -5, -19],  [-10, -10, -10, 4, 4, 3, -6, -4],  [6, -2, -8, -4, -13, -12, -10, -9],  [10, 5, 4, -5, -5, -5, 14, 9],  [28, 20, 21, 28, 30, 7, 6, 13],  [0, -11, 12, 21, 25, 19, 4, 7],  [0, 0, 0, 0, 0, 0, 0, 0]],\n",
    " [[-96, -65, -49, -21, -21, -49, -65, -96],  [-67, -54, -18, 8, 8, -18, -54, -67],  [-40, -27, -8, 29, 29, -8, -27, -40],  [-35, -2, 13, 28, 28, 13, -2, -35],  [-45, -16, 9, 39, 39, 9, -16, -45],  [-51, -44, -16, 17, 17, -16, -44, -51],  [-69, -50, -51, 12, 12, -51, -50, -69],  [-100, -88, -56, -17, -17, -56, -88, -100]],\n",
    " [[-57, -30, -37, -12, -12, -37, -30, -57],  [-37, -13, -17, 1, 1, -17, -13, -37],  [-16, -1, -2, 10, 10, -2, -1, -16],  [-20, -6, 0, 17, 17, 0, -6, -20],  [-17, -1, -14, 15, 15, -14, -1, -17],  [-30, 6, 4, 6, 6, 4, 6, -30],  [-31, -20, -1, 1, 1, -1, -20, -31],  [-46, -42, -37, -24, -24, -37, -42, -46]],\n",
    " [[-9, -13, -10, -9, -9, -10, -13, -9],  [-12, -9, -1, -2, -2, -1, -9, -12],  [6, -8, -2, -6, -6, -2, -8, 6],  [-6, 1, -9, 7, 7, -9, 1, -6],  [-5, 8, 7, -6, -6, 7, 8, -5],  [6, 1, -7, 10, 10, -7, 1, 6],  [4, 5, 20, -5, -5, 20, 5, 4],  [18, 0, 19, 13, 13, 19, 0, 18]],\n",
    " [[-69, -57, -47, -26, -26, -47, -57, -69],  [-55, -31, -22, -4, -4, -22, -31, -55],  [-39, -18, -9, 3, 3, -9, -18, -39],  [-23, -3, 13, 24, 24, 13, -3, -23],  [-29, -6, 9, 21, 21, 9, -6, -29],  [-38, -18, -12, 1, 1, -12, -18, -38],  [-50, -27, -24, -8, -8, -24, -27, -50],  [-75, -52, -43, -36, -36, -43, -52, -75]],\n",
    " [[1, 45, 85, 76, 76, 85, 45, 1],  [53, 100, 133, 135, 135, 133, 100, 53],  [88, 130, 169, 175, 175, 169, 130, 88],  [103, 156, 172, 172, 172, 172, 156, 103],  [96, 166, 199, 199, 199, 199, 166, 96],  [92, 172, 184, 191, 191, 184, 172, 92],  [47, 121, 116, 131, 131, 116, 121, 47],  [11, 59, 73, 78, 78, 73, 59, 11]]]\n",
    ")"
   ]
  },
  {
   "cell_type": "code",
   "execution_count": 95,
   "metadata": {},
   "outputs": [
    {
     "name": "stderr",
     "output_type": "stream",
     "text": [
      "Adding column 'White_psqt_mg': 100%|██████████| 129581/129581 [00:11<00:00, 11584.70it/s]\n",
      "Adding column 'Black_psqt_mg': 100%|██████████| 129581/129581 [00:12<00:00, 10555.63it/s]"
     ]
    },
    {
     "name": "stdout",
     "output_type": "stream",
     "text": [
      "Added column 'Psqt_mg_difference' ✓\n"
     ]
    },
    {
     "name": "stderr",
     "output_type": "stream",
     "text": [
      "\n"
     ]
    }
   ],
   "source": [
    "def get_psqt(weights, np_board, color):\n",
    "    pieces = 'PNBRQK' if color == chess.WHITE else 'pnbrqk'\n",
    "    result = 0\n",
    "    color_weights = weights if color == chess.WHITE else weights[:,::-1,:]\n",
    "    for index, piece in enumerate(pieces):\n",
    "        mask = (np_board == piece).astype(int)\n",
    "        masked = color_weights[index] * mask\n",
    "        result += masked.sum().sum()\n",
    "    return result\n",
    "\n",
    "tqdm.pandas(desc=\"Adding column 'White_psqt_mg'\")\n",
    "df['White_psqt_mg'] = df['Numpy_board'].progress_apply(lambda np_board: get_psqt(psqt_mg, np_board, chess.WHITE))\n",
    "\n",
    "tqdm.pandas(desc=\"Adding column 'Black_psqt_mg'\")\n",
    "df['Black_psqt_mg'] = df['Numpy_board'].progress_apply(lambda np_board: get_psqt(psqt_mg, np_board, chess.BLACK))\n",
    "\n",
    "df[\"Psqt_mg_difference\"] = df['White_psqt_mg'] - df['Black_psqt_mg']\n",
    "print(\"Added column 'Psqt_mg_difference' ✓\")"
   ]
  },
  {
   "cell_type": "code",
   "execution_count": 96,
   "metadata": {},
   "outputs": [
    {
     "name": "stderr",
     "output_type": "stream",
     "text": [
      "Adding column 'White_psqt_eg': 100%|██████████| 129581/129581 [00:10<00:00, 12063.04it/s]\n",
      "Adding column 'Black_psqt_eg': 100%|██████████| 129581/129581 [00:12<00:00, 10629.59it/s]"
     ]
    },
    {
     "name": "stdout",
     "output_type": "stream",
     "text": [
      "Added column 'Psqt_eg_difference' ✓\n"
     ]
    },
    {
     "name": "stderr",
     "output_type": "stream",
     "text": [
      "\n"
     ]
    }
   ],
   "source": [
    "tqdm.pandas(desc=\"Adding column 'White_psqt_eg'\")\n",
    "df['White_psqt_eg'] = df['Numpy_board'].progress_apply(lambda np_board: get_psqt(psqt_eg,np_board, chess.WHITE))\n",
    "\n",
    "tqdm.pandas(desc=\"Adding column 'Black_psqt_eg'\")\n",
    "df['Black_psqt_eg'] = df['Numpy_board'].progress_apply(lambda np_board: get_psqt(psqt_eg,np_board, chess.BLACK))\n",
    "\n",
    "df[\"Psqt_eg_difference\"] = df['White_psqt_eg'] - df['Black_psqt_eg']\n",
    "print(\"Added column 'Psqt_eg_difference' ✓\")"
   ]
  },
  {
   "cell_type": "code",
   "execution_count": 97,
   "metadata": {},
   "outputs": [
    {
     "name": "stderr",
     "output_type": "stream",
     "text": [
      "Adding column 'White_minor_behind_pawn': 100%|██████████| 129581/129581 [00:10<00:00, 12091.17it/s]\n",
      "Adding column 'Black_minor_behind_pawn': 100%|██████████| 129581/129581 [00:11<00:00, 11449.71it/s]"
     ]
    },
    {
     "name": "stdout",
     "output_type": "stream",
     "text": [
      "Added column 'Psqt_mg_difference' ✓\n"
     ]
    },
    {
     "name": "stderr",
     "output_type": "stream",
     "text": [
      "\n"
     ]
    }
   ],
   "source": [
    "def get_minor_behind_pawn(np_board, color):\n",
    "    result = 0\n",
    "    pieces = 'NB' if color == chess.WHITE else 'nb'\n",
    "    board = np_board if color == chess.WHITE else np_board[::-1,:]\n",
    "    for piece in pieces:\n",
    "        idxs = np.argwhere(board == piece)\n",
    "        idxs = idxs + np.array([-1, 0])\n",
    "        idxs = idxs[idxs[:, 0] >= 0]\n",
    "        in_front = board[idxs[:, 0], idxs[:, 1]] == 'P' if color == chess.WHITE else board[idxs[:, 0], idxs[:, 1]] == 'p'\n",
    "        result += in_front.sum()\n",
    "    return result\n",
    "\n",
    "tqdm.pandas(desc=\"Adding column 'White_minor_behind_pawn'\")\n",
    "df['White_minor_behind_pawn'] = df['Numpy_board'].progress_apply(lambda np_board: get_minor_behind_pawn(np_board, chess.WHITE))\n",
    "\n",
    "tqdm.pandas(desc=\"Adding column 'Black_minor_behind_pawn'\")\n",
    "df['Black_minor_behind_pawn'] = df['Numpy_board'].progress_apply(lambda np_board: get_minor_behind_pawn(np_board, chess.BLACK))\n",
    "\n",
    "df[\"Minor_behind_pawn_difference\"] = df['White_minor_behind_pawn'] - df['Black_minor_behind_pawn']\n",
    "print(\"Added column 'Psqt_mg_difference' ✓\")"
   ]
  },
  {
   "cell_type": "code",
   "execution_count": 98,
   "metadata": {},
   "outputs": [
    {
     "name": "stderr",
     "output_type": "stream",
     "text": [
      "Adding column 'White_bishop_pawns': 100%|██████████| 129581/129581 [00:05<00:00, 24313.57it/s]\n",
      "Adding column 'Black_bishop_pawns': 100%|██████████| 129581/129581 [00:05<00:00, 21694.46it/s]"
     ]
    },
    {
     "name": "stdout",
     "output_type": "stream",
     "text": [
      "Added column 'Bishop_pawns_difference' ✓\n"
     ]
    },
    {
     "name": "stderr",
     "output_type": "stream",
     "text": [
      "\n"
     ]
    }
   ],
   "source": [
    "def get_bishop_pawns(np_board, color):\n",
    "    result = 0\n",
    "    pieces = 'B' if color == chess.WHITE else 'b'\n",
    "    pawns = 'P' if color == chess.WHITE else 'p'\n",
    "    board = np_board if color == chess.WHITE else np_board[::-1,:]\n",
    "    bishop_positions = np.argwhere(board == pieces)\n",
    "    bishop_colors = (bishop_positions[:, 0] + bishop_positions[:, 1]) % 2\n",
    "    \n",
    "    for bishop_color in bishop_colors:\n",
    "        if bishop_color == 0:\n",
    "            pawns_on_color = (board[::2, ::2] == pawns).sum()\n",
    "        else:\n",
    "            pawns_on_color = (board[1::2, 1::2] == pawns).sum()\n",
    "        \n",
    "        result += pawns_on_color\n",
    "    return result\n",
    "\n",
    "tqdm.pandas(desc=\"Adding column 'White_bishop_pawns'\")\n",
    "df['White_bishop_pawns'] = df['Numpy_board'].progress_apply(lambda np_board: get_bishop_pawns(np_board, chess.WHITE))\n",
    "\n",
    "tqdm.pandas(desc=\"Adding column 'Black_bishop_pawns'\")\n",
    "df['Black_bishop_pawns'] = df['Numpy_board'].progress_apply(lambda np_board: get_bishop_pawns(np_board, chess.BLACK))\n",
    "\n",
    "df[\"Bishop_pawns_difference\"] = df['White_bishop_pawns'] - df['Black_bishop_pawns']\n",
    "print(\"Added column 'Bishop_pawns_difference' ✓\")\n"
   ]
  },
  {
   "cell_type": "code",
   "execution_count": 99,
   "metadata": {},
   "outputs": [
    {
     "name": "stderr",
     "output_type": "stream",
     "text": [
      "Adding column 'White_bishop_xray_pawns': 100%|██████████| 129581/129581 [00:03<00:00, 34768.20it/s]\n",
      "Adding column 'Black_bishop_xray_pawns': 100%|██████████| 129581/129581 [00:04<00:00, 28785.71it/s]\n"
     ]
    },
    {
     "name": "stdout",
     "output_type": "stream",
     "text": [
      "Added column 'Bishop_xray_pawns_difference' ✓\n"
     ]
    }
   ],
   "source": [
    "def get_bishop_xray_pawns(np_board, color):\n",
    "    result = 0\n",
    "    pieces = 'B' if color == chess.WHITE else 'b'\n",
    "    pawns = 'P' if color == chess.WHITE else 'p'\n",
    "    board = np_board if color == chess.WHITE else np_board[::-1,:]\n",
    "    bishop_positions = np.argwhere(board == pieces)\n",
    "    for bishop_row, bishop_col in bishop_positions:\n",
    "        for direction in [(-1, -1), (-1, 1), (1, -1), (1, 1)]:\n",
    "            row, col = bishop_row, bishop_col\n",
    "            while 0 <= row < board.shape[0] and 0 <= col < board.shape[1]:\n",
    "                row += direction[0]\n",
    "                col += direction[1]\n",
    "                if 0 <= row < board.shape[0] and 0 <= col < board.shape[1]:\n",
    "                    if board[row, col] == pawns:\n",
    "                        result += 1\n",
    "                    if board[row, col] != '.':\n",
    "                        break\n",
    "\n",
    "    return result\n",
    "\n",
    "tqdm.pandas(desc=\"Adding column 'White_bishop_xray_pawns'\")\n",
    "df['White_bishop_xray_pawns'] = df['Numpy_board'].progress_apply(lambda np_board: get_bishop_xray_pawns(np_board, chess.WHITE))\n",
    "\n",
    "tqdm.pandas(desc=\"Adding column 'Black_bishop_xray_pawns'\")\n",
    "df['Black_bishop_xray_pawns'] = df['Numpy_board'].progress_apply(lambda np_board: get_bishop_xray_pawns(np_board, chess.BLACK))\n",
    "\n",
    "df[\"Bishop_xray_pawns_difference\"] = df['White_bishop_xray_pawns'] - df['Black_bishop_xray_pawns']\n",
    "print(\"Added column 'Bishop_xray_pawns_difference' ✓\")"
   ]
  },
  {
   "cell_type": "code",
   "execution_count": 100,
   "metadata": {},
   "outputs": [
    {
     "name": "stderr",
     "output_type": "stream",
     "text": [
      "Adding column 'White_rook_on_queen_file': 100%|██████████| 129581/129581 [00:09<00:00, 13228.82it/s]\n",
      "Adding column 'Black_rook_on_queen_file': 100%|██████████| 129581/129581 [00:10<00:00, 12338.75it/s]"
     ]
    },
    {
     "name": "stdout",
     "output_type": "stream",
     "text": [
      "Added column 'Rook_on_queen_file_difference' ✓\n"
     ]
    },
    {
     "name": "stderr",
     "output_type": "stream",
     "text": [
      "\n"
     ]
    }
   ],
   "source": [
    "def get_rook_on_queen_file(np_board, color):\n",
    "    result = 0\n",
    "    rook_piece = 'R' if color == chess.WHITE else 'r'\n",
    "    queen_piece = 'Q' if color == chess.WHITE else 'q'\n",
    "    board = np_board if color == chess.WHITE else np_board[::-1,:]\n",
    "    rook_positions = np.argwhere(board == rook_piece)\n",
    "    queen_positions = np.argwhere(board == queen_piece)\n",
    "\n",
    "    if rook_positions.size > 0 and queen_positions.size > 0:\n",
    "        rook_cols = rook_positions[:, 1]\n",
    "        queen_cols = queen_positions[:, 1]\n",
    "        same_file = np.isin(rook_cols, queen_cols)\n",
    "        result = same_file.sum()\n",
    "\n",
    "    return result\n",
    "\n",
    "tqdm.pandas(desc=\"Adding column 'White_rook_on_queen_file'\")\n",
    "df['White_rook_on_queen_file'] = df['Numpy_board'].progress_apply(lambda np_board: get_rook_on_queen_file(np_board, chess.WHITE))\n",
    "\n",
    "tqdm.pandas(desc=\"Adding column 'Black_rook_on_queen_file'\")\n",
    "df['Black_rook_on_queen_file'] = df['Numpy_board'].progress_apply(lambda np_board: get_rook_on_queen_file(np_board, chess.BLACK))\n",
    "\n",
    "df[\"Rook_on_queen_file_difference\"] = df['White_rook_on_queen_file'] - df['Black_rook_on_queen_file']\n",
    "print(\"Added column 'Rook_on_queen_file_difference' ✓\")"
   ]
  },
  {
   "cell_type": "code",
   "execution_count": 101,
   "metadata": {},
   "outputs": [
    {
     "name": "stderr",
     "output_type": "stream",
     "text": [
      "Adding column 'White_rook_on_open_file': 100%|██████████| 129581/129581 [00:08<00:00, 14676.67it/s]\n",
      "Adding column 'Black_rook_on_open_file': 100%|██████████| 129581/129581 [00:09<00:00, 13577.29it/s]"
     ]
    },
    {
     "name": "stdout",
     "output_type": "stream",
     "text": [
      "Added column 'Rook_on_open_file_difference' ✓\n"
     ]
    },
    {
     "name": "stderr",
     "output_type": "stream",
     "text": [
      "\n"
     ]
    }
   ],
   "source": [
    "def get_rook_on_open_file(np_board, color):\n",
    "    result = 0\n",
    "    rook_piece = 'R' if color == chess.WHITE else 'r'\n",
    "    pawns = ['P', 'p']\n",
    "    board = np_board if color == chess.WHITE else np_board[::-1,:]\n",
    "    pawn_positions = np.isin(board, pawns)\n",
    "    files_with_pawns = np.any(pawn_positions, axis=0)\n",
    "    rook_positions = np.argwhere(board == rook_piece)\n",
    "    \n",
    "    if rook_positions.size > 0:\n",
    "        rook_cols = rook_positions[:, 1]\n",
    "        open_files = ~files_with_pawns\n",
    "        rooks_on_open_files = open_files[rook_cols]\n",
    "        result = rooks_on_open_files.sum()\n",
    "\n",
    "    return result\n",
    "\n",
    "tqdm.pandas(desc=\"Adding column 'White_rook_on_open_file'\")\n",
    "df['White_rook_on_open_file'] = df['Numpy_board'].progress_apply(lambda np_board: get_rook_on_open_file(np_board, chess.WHITE))\n",
    "\n",
    "tqdm.pandas(desc=\"Adding column 'Black_rook_on_open_file'\")\n",
    "df['Black_rook_on_open_file'] = df['Numpy_board'].progress_apply(lambda np_board: get_rook_on_open_file(np_board, chess.BLACK))\n",
    "\n",
    "df[\"Rook_on_open_file_difference\"] = df['White_rook_on_open_file'] - df['Black_rook_on_open_file']\n",
    "print(\"Added column 'Rook_on_open_file_difference' ✓\")"
   ]
  },
  {
   "cell_type": "code",
   "execution_count": 102,
   "metadata": {},
   "outputs": [],
   "source": [
    "long_diag = np.array([[1,0,0,0,0,0,0,1],[0,1,0,0,0,0,1,0],[0,0,1,0,0,1,0,0],[0,0,0,1,1,0,0,0],[0,0,0,1,1,0,0,0],[0,0,1,0,0,1,0,0],[0,1,0,0,0,0,1,0],[1,0,0,0,0,0,0,1]]).astype(bool)"
   ]
  },
  {
   "cell_type": "code",
   "execution_count": 103,
   "metadata": {},
   "outputs": [
    {
     "name": "stderr",
     "output_type": "stream",
     "text": [
      "Adding column 'White_long_diagonal_bishop': 100%|██████████| 129581/129581 [00:02<00:00, 61324.27it/s] \n",
      "Adding column 'Black_long_diagonal_bishop': 100%|██████████| 129581/129581 [00:02<00:00, 63487.98it/s] "
     ]
    },
    {
     "name": "stdout",
     "output_type": "stream",
     "text": [
      "Added column 'Long_diagonal_bishop_difference' ✓\n"
     ]
    },
    {
     "name": "stderr",
     "output_type": "stream",
     "text": [
      "\n"
     ]
    }
   ],
   "source": [
    "def get_long_diagonal_bishop(np_board, color):\n",
    "    bishop = 'B' if color == chess.WHITE else 'b'\n",
    "    mask = np_board == bishop\n",
    "    masked = long_diag * mask\n",
    "    return masked.sum()\n",
    "\n",
    "tqdm.pandas(desc=\"Adding column 'White_long_diagonal_bishop'\")\n",
    "df['White_long_diagonal_bishop'] = df['Numpy_board'].progress_apply(lambda np_board: get_long_diagonal_bishop(np_board, chess.WHITE))\n",
    "\n",
    "tqdm.pandas(desc=\"Adding column 'Black_long_diagonal_bishop'\")\n",
    "df['Black_long_diagonal_bishop'] = df['Numpy_board'].progress_apply(lambda np_board: get_long_diagonal_bishop(np_board, chess.BLACK))\n",
    "\n",
    "df[\"Long_diagonal_bishop_difference\"] = df['White_long_diagonal_bishop'] - df['Black_long_diagonal_bishop']\n",
    "print(\"Added column 'Long_diagonal_bishop_difference' ✓\")"
   ]
  },
  {
   "cell_type": "code",
   "execution_count": 104,
   "metadata": {},
   "outputs": [
    {
     "name": "stderr",
     "output_type": "stream",
     "text": [
      "Adding column 'White_hanging_pieces': 100%|██████████| 129581/129581 [00:08<00:00, 14804.11it/s]\n",
      "Adding column 'Black_hanging_pieces': 100%|██████████| 129581/129581 [00:08<00:00, 14508.36it/s]"
     ]
    },
    {
     "name": "stdout",
     "output_type": "stream",
     "text": [
      "Added column 'Hanging_pieces_difference' ✓\n"
     ]
    },
    {
     "name": "stderr",
     "output_type": "stream",
     "text": [
      "\n"
     ]
    }
   ],
   "source": [
    "def get_hanging_pieces(board, color):\n",
    "    hanging_count = 0\n",
    "    for square in chess.SQUARES:\n",
    "        piece = board.piece_at(square)\n",
    "        if piece and piece.color == color:\n",
    "            if not board.is_attacked_by(color, square):\n",
    "                hanging_count += 1\n",
    "\n",
    "    return hanging_count\n",
    "\n",
    "tqdm.pandas(desc=\"Adding column 'White_hanging_pieces'\")\n",
    "df['White_hanging_pieces'] = df['Board'].progress_apply(lambda board: get_hanging_pieces(board, chess.WHITE))\n",
    "\n",
    "tqdm.pandas(desc=\"Adding column 'Black_hanging_pieces'\")\n",
    "df['Black_hanging_pieces'] = df['Board'].progress_apply(lambda board: get_hanging_pieces(board, chess.BLACK))\n",
    "\n",
    "df[\"Hanging_pieces_difference\"] = df['Black_hanging_pieces'] - df['White_hanging_pieces']\n",
    "print(\"Added column 'Hanging_pieces_difference' ✓\")"
   ]
  },
  {
   "cell_type": "code",
   "execution_count": 105,
   "metadata": {},
   "outputs": [
    {
     "name": "stderr",
     "output_type": "stream",
     "text": [
      "Adding column 'White_passed_pawns': 100%|██████████| 129581/129581 [00:16<00:00, 7694.84it/s]\n",
      "Adding column 'Black_passed_pawns': 100%|██████████| 129581/129581 [00:16<00:00, 7725.75it/s]"
     ]
    },
    {
     "name": "stdout",
     "output_type": "stream",
     "text": [
      "Added column 'Passed_pawn_difference' ✓\n"
     ]
    },
    {
     "name": "stderr",
     "output_type": "stream",
     "text": [
      "\n"
     ]
    }
   ],
   "source": [
    "def get_passed_pawns(np_board, color):\n",
    "    result = 0\n",
    "    pawn_piece = 'P' if color == chess.WHITE else 'p'\n",
    "    opponent_pawns = 'p' if color == chess.WHITE else 'P'\n",
    "    board = np_board if color == chess.WHITE else np_board[::-1, :]\n",
    "    pawn_positions = np.argwhere(board == pawn_piece)\n",
    "\n",
    "    for pawn_row, pawn_col in pawn_positions:\n",
    "        file_range = range(max(0, pawn_col - 1), min(board.shape[1], pawn_col + 2))\n",
    "        opposing_pawns_in_path = any(\n",
    "            opponent_pawns in board[row, file_range].tolist()\n",
    "            for row in range(pawn_row + 1, board.shape[0])\n",
    "        )\n",
    "        if not opposing_pawns_in_path:\n",
    "            result += 1\n",
    "\n",
    "    return result\n",
    "\n",
    "tqdm.pandas(desc=\"Adding column 'White_passed_pawns'\")\n",
    "df['White_passed_pawns'] = df['Numpy_board'].progress_apply(lambda np_board: get_passed_pawns(np_board, chess.WHITE))\n",
    "\n",
    "tqdm.pandas(desc=\"Adding column 'Black_passed_pawns'\")\n",
    "df['Black_passed_pawns'] = df['Numpy_board'].progress_apply(lambda np_board: get_passed_pawns(np_board, chess.BLACK))\n",
    "\n",
    "df[\"Passed_pawn_difference\"] = df['White_passed_pawns'] - df['Black_passed_pawns']\n",
    "print(\"Added column 'Passed_pawn_difference' ✓\")"
   ]
  },
  {
   "cell_type": "code",
   "execution_count": 106,
   "metadata": {},
   "outputs": [
    {
     "name": "stderr",
     "output_type": "stream",
     "text": [
      "Adding column 'White_king_support': 100%|██████████| 129581/129581 [00:10<00:00, 12502.49it/s]\n",
      "Adding column 'Black_king_support': 100%|██████████| 129581/129581 [00:10<00:00, 12329.31it/s]"
     ]
    },
    {
     "name": "stdout",
     "output_type": "stream",
     "text": [
      "Added column 'King_support_difference' ✓\n"
     ]
    },
    {
     "name": "stderr",
     "output_type": "stream",
     "text": [
      "\n"
     ]
    }
   ],
   "source": [
    "def get_king_support(np_board, color):\n",
    "    king_piece = 'K' if color == chess.WHITE else 'k'\n",
    "    player_pieces = \"PNBRQ\" if color == chess.WHITE else \"pnbrq\"\n",
    "\n",
    "    king_position = np.argwhere(np_board == king_piece)\n",
    "    if king_position.size == 0:\n",
    "        return 0\n",
    "\n",
    "    king_row, king_col = king_position[0]\n",
    "\n",
    "    row_start = max(0, king_row - 1)\n",
    "    row_end = min(np_board.shape[0], king_row + 2)\n",
    "    col_start = max(0, king_col - 1)\n",
    "    col_end = min(np_board.shape[1], king_col + 2)\n",
    "    surrounding_area = np_board[row_start:row_end, col_start:col_end]\n",
    "\n",
    "    mask = np.isin(surrounding_area, list(player_pieces))\n",
    "    return np.sum(mask)\n",
    "\n",
    "tqdm.pandas(desc=\"Adding column 'White_king_support'\")\n",
    "df['White_king_support'] = df['Numpy_board'].progress_apply(lambda np_board: get_king_support(np_board, chess.WHITE))\n",
    "\n",
    "tqdm.pandas(desc=\"Adding column 'Black_king_support'\")\n",
    "df['Black_king_support'] = df['Numpy_board'].progress_apply(lambda np_board: get_king_support(np_board, chess.BLACK))\n",
    "\n",
    "df[\"King_support_difference\"] = df['White_king_support'] - df['Black_king_support']\n",
    "print(\"Added column 'King_support_difference' ✓\")"
   ]
  },
  {
   "cell_type": "code",
   "execution_count": 107,
   "metadata": {},
   "outputs": [
    {
     "name": "stderr",
     "output_type": "stream",
     "text": [
      "Adding column 'White_non_pawn_material': 100%|██████████| 129581/129581 [00:00<00:00, 174392.62it/s]\n",
      "Adding column 'Black_non_pawn_material': 100%|██████████| 129581/129581 [00:00<00:00, 181233.40it/s]"
     ]
    },
    {
     "name": "stdout",
     "output_type": "stream",
     "text": [
      "Added column 'Non_pawn_material_difference' ✓\n"
     ]
    },
    {
     "name": "stderr",
     "output_type": "stream",
     "text": [
      "\n"
     ]
    }
   ],
   "source": [
    "piece_values_mg = {\n",
    "    'P': 124, 'N': 781, 'B': 825, 'R': 1276, 'Q': 2538,\n",
    "    'p': -124, 'n': -781, 'b': -825, 'r': -1276, 'q': -2538\n",
    "}\n",
    "\n",
    "def get_white_non_pawn_material(fen):\n",
    "    return sum(piece_values_mg[piece] for piece in re.findall(r'[QRBN]', fen))\n",
    "\n",
    "def get_black_non_pawn_material(fen):\n",
    "    return -sum(piece_values_mg[piece] for piece in re.findall(r'[qrbn]', fen))\n",
    "\n",
    "tqdm.pandas(desc=\"Adding column 'White_non_pawn_material'\")\n",
    "df['White_non_pawn_material'] = df['FEN'].progress_apply(get_white_non_pawn_material)\n",
    "\n",
    "tqdm.pandas(desc=\"Adding column 'Black_non_pawn_material'\")\n",
    "df['Black_non_pawn_material'] = df['FEN'].progress_apply(get_black_non_pawn_material)\n",
    "df[\"Non_pawn_material_difference\"] = df['White_non_pawn_material'] - df['Black_non_pawn_material']\n",
    "print(\"Added column 'Non_pawn_material_difference' ✓\")"
   ]
  },
  {
   "cell_type": "markdown",
   "metadata": {},
   "source": [
    "The final correlations are:"
   ]
  },
  {
   "cell_type": "code",
   "execution_count": 108,
   "metadata": {},
   "outputs": [
    {
     "name": "stdout",
     "output_type": "stream",
     "text": [
      "Correlations with 'Evaluation' (sorted by absolute value):\n",
      "Evaluation                      1.000000\n",
      "Attacks_difference              0.231071\n",
      "Passed_pawn_difference          0.221760\n",
      "Material_difference             0.196688\n",
      "Legal_moves_difference          0.183779\n",
      "Material_eg_difference          0.176207\n",
      "Material_mg_difference          0.158326\n",
      "Major_control_difference        0.131955\n",
      "Sixth_rank_pawns_difference     0.129983\n",
      "Non_pawn_material_difference    0.125192\n",
      "Central_attacks_difference      0.104812\n",
      "Psqt_mg_difference              0.101736\n",
      "White_legal_moves               0.094974\n",
      "White_sixth_rank_pawns          0.090383\n",
      "Black_sixth_rank_pawns         -0.090149\n",
      "Black_legal_moves              -0.089869\n",
      "King_support_difference         0.074685\n",
      "White_psqt_mg                   0.068119\n",
      "Black_psqt_mg                  -0.067054\n",
      "Rook_on_open_file_difference    0.066126\n",
      "Name: Evaluation, dtype: float64\n"
     ]
    }
   ],
   "source": [
    "correlations = df.corr(numeric_only=True)['Evaluation']\n",
    "sorted_correlations = correlations.reindex(correlations.abs().sort_values(ascending=False).index)\n",
    "print(\"Correlations with 'Evaluation' (sorted by absolute value):\")\n",
    "print(sorted_correlations[:20])"
   ]
  },
  {
   "cell_type": "markdown",
   "metadata": {},
   "source": [
    "We didn’t identify significant correlations, so we’ll avoid using linear models for predicting the target.\n",
    "\n",
    "Let’s store all the information to skip this preprocessing step in the future:"
   ]
  },
  {
   "cell_type": "code",
   "execution_count": 109,
   "metadata": {},
   "outputs": [],
   "source": [
    "df.to_csv(\"data/checkpoint.csv\", index=False)"
   ]
  },
  {
   "cell_type": "markdown",
   "metadata": {},
   "source": [
    "<a id=\"import-data\"></a>\n",
    "You can now import this data at any time:"
   ]
  },
  {
   "cell_type": "code",
   "execution_count": 22,
   "metadata": {},
   "outputs": [
    {
     "name": "stdout",
     "output_type": "stream",
     "text": [
      "Reading the file 'checkpoint.csv'...\n",
      "File 'checkpoint.csv' read successfully ✓\n"
     ]
    }
   ],
   "source": [
    "# Skip this cell if the preprocessing step was already executed\n",
    "\n",
    "csvFile = \"checkpoint.csv\"\n",
    "print(f\"Reading the file '{csvFile}'...\")\n",
    "\n",
    "df = pd.read_csv(f'data/{csvFile}')\n",
    "\n",
    "print(f\"File '{csvFile}' read successfully ✓\")"
   ]
  },
  {
   "cell_type": "code",
   "execution_count": 23,
   "metadata": {},
   "outputs": [
    {
     "name": "stdout",
     "output_type": "stream",
     "text": [
      "85 new features have been added in total\n"
     ]
    }
   ],
   "source": [
    "fens = df['FEN']\n",
    "df = df.drop(columns=['FEN', 'Board', 'Numpy_board'])\n",
    "\n",
    "X, y = df.drop(columns=[target]), df[target]\n",
    "\n",
    "print(f\"{df.shape[1]} new features have been added in total\")"
   ]
  },
  {
   "cell_type": "markdown",
   "metadata": {},
   "source": [
    "### 3.5 Feature selection\n",
    "\n",
    "We have extracted a lot of new features, which could cause our model to overfit. So, it's a good idea to perform feature selection.\n",
    "\n",
    "To do this, we can create a Lasso regressor, forcing zero coefficients for some of the features:"
   ]
  },
  {
   "cell_type": "code",
   "execution_count": 24,
   "metadata": {},
   "outputs": [
    {
     "name": "stderr",
     "output_type": "stream",
     "text": [
      "C:\\Users\\Albert\\AppData\\Local\\Packages\\PythonSoftwareFoundation.Python.3.10_qbz5n2kfra8p0\\LocalCache\\local-packages\\Python310\\site-packages\\sklearn\\linear_model\\_coordinate_descent.py:697: ConvergenceWarning: Objective did not converge. You might want to increase the number of iterations, check the scale of the features or consider increasing regularisation. Duality gap: 3.470e+10, tolerance: 8.253e+06\n",
      "  model = cd_fast.enet_coordinate_descent(\n"
     ]
    },
    {
     "data": {
      "text/html": [
       "<div>\n",
       "<style scoped>\n",
       "    .dataframe tbody tr th:only-of-type {\n",
       "        vertical-align: middle;\n",
       "    }\n",
       "\n",
       "    .dataframe tbody tr th {\n",
       "        vertical-align: top;\n",
       "    }\n",
       "\n",
       "    .dataframe thead th {\n",
       "        text-align: right;\n",
       "    }\n",
       "</style>\n",
       "<table border=\"1\" class=\"dataframe\">\n",
       "  <thead>\n",
       "    <tr style=\"text-align: right;\">\n",
       "      <th></th>\n",
       "      <th>Feature</th>\n",
       "      <th>Coefficient</th>\n",
       "    </tr>\n",
       "  </thead>\n",
       "  <tbody>\n",
       "    <tr>\n",
       "      <th>0</th>\n",
       "      <td>White_pieces_count</td>\n",
       "      <td>105.231767</td>\n",
       "    </tr>\n",
       "    <tr>\n",
       "      <th>1</th>\n",
       "      <td>Black_pieces_count</td>\n",
       "      <td>-105.357820</td>\n",
       "    </tr>\n",
       "    <tr>\n",
       "      <th>2</th>\n",
       "      <td>White_material</td>\n",
       "      <td>-0.000000</td>\n",
       "    </tr>\n",
       "    <tr>\n",
       "      <th>3</th>\n",
       "      <td>Black_material</td>\n",
       "      <td>0.000000</td>\n",
       "    </tr>\n",
       "    <tr>\n",
       "      <th>4</th>\n",
       "      <td>Material_difference</td>\n",
       "      <td>-0.000000</td>\n",
       "    </tr>\n",
       "    <tr>\n",
       "      <th>...</th>\n",
       "      <td>...</td>\n",
       "      <td>...</td>\n",
       "    </tr>\n",
       "    <tr>\n",
       "      <th>79</th>\n",
       "      <td>Black_king_support</td>\n",
       "      <td>-2.546484</td>\n",
       "    </tr>\n",
       "    <tr>\n",
       "      <th>80</th>\n",
       "      <td>King_support_difference</td>\n",
       "      <td>16.847717</td>\n",
       "    </tr>\n",
       "    <tr>\n",
       "      <th>81</th>\n",
       "      <td>White_non_pawn_material</td>\n",
       "      <td>-0.038951</td>\n",
       "    </tr>\n",
       "    <tr>\n",
       "      <th>82</th>\n",
       "      <td>Black_non_pawn_material</td>\n",
       "      <td>0.041156</td>\n",
       "    </tr>\n",
       "    <tr>\n",
       "      <th>83</th>\n",
       "      <td>Non_pawn_material_difference</td>\n",
       "      <td>-0.405926</td>\n",
       "    </tr>\n",
       "  </tbody>\n",
       "</table>\n",
       "<p>84 rows × 2 columns</p>\n",
       "</div>"
      ],
      "text/plain": [
       "                         Feature  Coefficient\n",
       "0             White_pieces_count   105.231767\n",
       "1             Black_pieces_count  -105.357820\n",
       "2                 White_material    -0.000000\n",
       "3                 Black_material     0.000000\n",
       "4            Material_difference    -0.000000\n",
       "..                           ...          ...\n",
       "79            Black_king_support    -2.546484\n",
       "80       King_support_difference    16.847717\n",
       "81       White_non_pawn_material    -0.038951\n",
       "82       Black_non_pawn_material     0.041156\n",
       "83  Non_pawn_material_difference    -0.405926\n",
       "\n",
       "[84 rows x 2 columns]"
      ]
     },
     "execution_count": 24,
     "metadata": {},
     "output_type": "execute_result"
    }
   ],
   "source": [
    "from sklearn.linear_model import Lasso\n",
    "\n",
    "regr_lasso = Lasso(random_state=42)\n",
    "regr_lasso.fit(X, y) \n",
    "\n",
    "coef_table = pd.DataFrame({'Feature': X.columns,'Coefficient': regr_lasso.coef_})\n",
    "coef_table"
   ]
  },
  {
   "cell_type": "markdown",
   "metadata": {},
   "source": [
    "Features with a coefficient of 0 are less relevant, so they will be discarded."
   ]
  },
  {
   "cell_type": "code",
   "execution_count": 25,
   "metadata": {},
   "outputs": [
    {
     "data": {
      "text/html": [
       "<div>\n",
       "<style scoped>\n",
       "    .dataframe tbody tr th:only-of-type {\n",
       "        vertical-align: middle;\n",
       "    }\n",
       "\n",
       "    .dataframe tbody tr th {\n",
       "        vertical-align: top;\n",
       "    }\n",
       "\n",
       "    .dataframe thead th {\n",
       "        text-align: right;\n",
       "    }\n",
       "</style>\n",
       "<table border=\"1\" class=\"dataframe\">\n",
       "  <thead>\n",
       "    <tr style=\"text-align: right;\">\n",
       "      <th></th>\n",
       "      <th>0</th>\n",
       "    </tr>\n",
       "  </thead>\n",
       "  <tbody>\n",
       "    <tr>\n",
       "      <th>0</th>\n",
       "      <td>Evaluation</td>\n",
       "    </tr>\n",
       "    <tr>\n",
       "      <th>1</th>\n",
       "      <td>White_pieces_count</td>\n",
       "    </tr>\n",
       "    <tr>\n",
       "      <th>2</th>\n",
       "      <td>Black_queen_castling</td>\n",
       "    </tr>\n",
       "    <tr>\n",
       "      <th>3</th>\n",
       "      <td>N_moves</td>\n",
       "    </tr>\n",
       "    <tr>\n",
       "      <th>4</th>\n",
       "      <td>White_legal_moves</td>\n",
       "    </tr>\n",
       "    <tr>\n",
       "      <th>5</th>\n",
       "      <td>Legal_moves_difference</td>\n",
       "    </tr>\n",
       "    <tr>\n",
       "      <th>6</th>\n",
       "      <td>Black_attacked</td>\n",
       "    </tr>\n",
       "    <tr>\n",
       "      <th>7</th>\n",
       "      <td>Attacked_difference</td>\n",
       "    </tr>\n",
       "    <tr>\n",
       "      <th>8</th>\n",
       "      <td>Black_forks</td>\n",
       "    </tr>\n",
       "    <tr>\n",
       "      <th>9</th>\n",
       "      <td>White_major_control</td>\n",
       "    </tr>\n",
       "    <tr>\n",
       "      <th>10</th>\n",
       "      <td>Major_control_difference</td>\n",
       "    </tr>\n",
       "    <tr>\n",
       "      <th>11</th>\n",
       "      <td>Sixth_rank_pawns_difference</td>\n",
       "    </tr>\n",
       "    <tr>\n",
       "      <th>12</th>\n",
       "      <td>White_material_mg</td>\n",
       "    </tr>\n",
       "    <tr>\n",
       "      <th>13</th>\n",
       "      <td>Material_mg_difference</td>\n",
       "    </tr>\n",
       "    <tr>\n",
       "      <th>14</th>\n",
       "      <td>White_material_eg</td>\n",
       "    </tr>\n",
       "    <tr>\n",
       "      <th>15</th>\n",
       "      <td>Material_eg_difference</td>\n",
       "    </tr>\n",
       "    <tr>\n",
       "      <th>16</th>\n",
       "      <td>White_psqt_mg</td>\n",
       "    </tr>\n",
       "    <tr>\n",
       "      <th>17</th>\n",
       "      <td>Psqt_mg_difference</td>\n",
       "    </tr>\n",
       "    <tr>\n",
       "      <th>18</th>\n",
       "      <td>Minor_behind_pawn_difference</td>\n",
       "    </tr>\n",
       "    <tr>\n",
       "      <th>19</th>\n",
       "      <td>White_bishop_pawns</td>\n",
       "    </tr>\n",
       "    <tr>\n",
       "      <th>20</th>\n",
       "      <td>Black_bishop_pawns</td>\n",
       "    </tr>\n",
       "    <tr>\n",
       "      <th>21</th>\n",
       "      <td>Rook_on_queen_file_difference</td>\n",
       "    </tr>\n",
       "    <tr>\n",
       "      <th>22</th>\n",
       "      <td>Rook_on_open_file_difference</td>\n",
       "    </tr>\n",
       "    <tr>\n",
       "      <th>23</th>\n",
       "      <td>Long_diagonal_bishop_difference</td>\n",
       "    </tr>\n",
       "    <tr>\n",
       "      <th>24</th>\n",
       "      <td>Black_hanging_pieces</td>\n",
       "    </tr>\n",
       "    <tr>\n",
       "      <th>25</th>\n",
       "      <td>Hanging_pieces_difference</td>\n",
       "    </tr>\n",
       "    <tr>\n",
       "      <th>26</th>\n",
       "      <td>King_support_difference</td>\n",
       "    </tr>\n",
       "    <tr>\n",
       "      <th>27</th>\n",
       "      <td>Black_non_pawn_material</td>\n",
       "    </tr>\n",
       "  </tbody>\n",
       "</table>\n",
       "</div>"
      ],
      "text/plain": [
       "                                  0\n",
       "0                        Evaluation\n",
       "1                White_pieces_count\n",
       "2              Black_queen_castling\n",
       "3                           N_moves\n",
       "4                 White_legal_moves\n",
       "5            Legal_moves_difference\n",
       "6                    Black_attacked\n",
       "7               Attacked_difference\n",
       "8                       Black_forks\n",
       "9               White_major_control\n",
       "10         Major_control_difference\n",
       "11      Sixth_rank_pawns_difference\n",
       "12                White_material_mg\n",
       "13           Material_mg_difference\n",
       "14                White_material_eg\n",
       "15           Material_eg_difference\n",
       "16                    White_psqt_mg\n",
       "17               Psqt_mg_difference\n",
       "18     Minor_behind_pawn_difference\n",
       "19               White_bishop_pawns\n",
       "20               Black_bishop_pawns\n",
       "21    Rook_on_queen_file_difference\n",
       "22     Rook_on_open_file_difference\n",
       "23  Long_diagonal_bishop_difference\n",
       "24             Black_hanging_pieces\n",
       "25        Hanging_pieces_difference\n",
       "26          King_support_difference\n",
       "27          Black_non_pawn_material"
      ]
     },
     "execution_count": 25,
     "metadata": {},
     "output_type": "execute_result"
    }
   ],
   "source": [
    "discarded = coef_table[coef_table['Coefficient'] <= 1e-10].reset_index(drop=True)\n",
    "df = df.drop(columns=discarded['Feature'].tolist())\n",
    "pd.DataFrame(df.columns)"
   ]
  },
  {
   "cell_type": "markdown",
   "metadata": {},
   "source": [
    "In the end, 26 features were kept after removing those with coefficients close to zero."
   ]
  },
  {
   "cell_type": "markdown",
   "metadata": {},
   "source": [
    "## 4. EDA (exploratory data analysis)"
   ]
  },
  {
   "cell_type": "markdown",
   "metadata": {},
   "source": [
    "Let's begin by analyzing our target:"
   ]
  },
  {
   "cell_type": "code",
   "execution_count": 26,
   "metadata": {},
   "outputs": [
    {
     "data": {
      "image/png": "[encoded data removed]",
      "text/plain": [
       "<Figure size 640x480 with 1 Axes>"
      ]
     },
     "metadata": {},
     "output_type": "display_data"
    }
   ],
   "source": [
    "import seaborn as sns\n",
    "import matplotlib.pyplot as plt\n",
    "\n",
    "sns.kdeplot(df[target], fill=True, alpha=0.4, label = 'KFold', color=sns.color_palette(\"viridis\", as_cmap=True)(0))\n",
    "plt.xlabel('Evaluation', fontsize=14)\n",
    "plt.show()"
   ]
  },
  {
   "cell_type": "code",
   "execution_count": 27,
   "metadata": {},
   "outputs": [
    {
     "data": {
      "text/plain": [
       "count    129581.000000\n",
       "mean         44.136995\n",
       "std         798.040891\n",
       "min       -8125.000000\n",
       "25%         -68.000000\n",
       "50%          13.000000\n",
       "75%         141.000000\n",
       "max        8345.000000\n",
       "Name: Evaluation, dtype: float64"
      ]
     },
     "execution_count": 27,
     "metadata": {},
     "output_type": "execute_result"
    }
   ],
   "source": [
    "df[target].describe()"
   ]
  },
  {
   "cell_type": "markdown",
   "metadata": {},
   "source": [
    "It seems that there could be some outliers relative to the target. For instance, let's analyze the position with the highest evaluation."
   ]
  },
  {
   "cell_type": "code",
   "execution_count": 40,
   "metadata": {},
   "outputs": [
    {
     "name": "stdout",
     "output_type": "stream",
     "text": [
      "Evaluation: 8345\n"
     ]
    },
    {
     "data": {
      "image/svg+xml": [
       "<svg xmlns=\"http://www.w3.org/2000/svg\" xmlns:xlink=\"http://www.w3.org/1999/xlink\" viewBox=\"0 0 390 390\" width=\"390\" height=\"390\"><desc><pre>. . . . . . N .\n",
       ". . . b . k . .\n",
       "p . . p . . . .\n",
       ". p p P . P Q .\n",
       ". . . . P . . .\n",
       ". . . . N . . .\n",
       ". q . . . . . .\n",
       ". . . . . B . K</pre></desc><defs><g id=\"white-pawn\" class=\"white pawn\"><path d=\"M22.5 9c-2.21 0-4 1.79-4 4 0 .89.29 1.71.78 2.38C17.33 16.5 16 18.59 16 21c0 2.03.94 3.84 2.41 5.03-3 1.06-7.41 5.55-7.41 13.47h23c0-7.92-4.41-12.41-7.41-13.47 1.47-1.19 2.41-3 2.41-5.03 0-2.41-1.33-4.5-3.28-5.62.49-.67.78-1.49.78-2.38 0-2.21-1.79-4-4-4z\" fill=\"#fff\" stroke=\"#000\" stroke-width=\"1.5\" stroke-linecap=\"round\" /></g><g id=\"white-knight\" class=\"white knight\" fill=\"none\" fill-rule=\"evenodd\" stroke=\"#000\" stroke-width=\"1.5\" stroke-linecap=\"round\" stroke-linejoin=\"round\"><path d=\"M 22,10 C 32.5,11 38.5,18 38,39 L 15,39 C 15,30 25,32.5 23,18\" style=\"fill:#ffffff; stroke:#000000;\" /><path d=\"M 24,18 C 24.38,20.91 18.45,25.37 16,27 C 13,29 13.18,31.34 11,31 C 9.958,30.06 12.41,27.96 11,28 C 10,28 11.19,29.23 10,30 C 9,30 5.997,31 6,26 C 6,24 12,14 12,14 C 12,14 13.89,12.1 14,10.5 C 13.27,9.506 13.5,8.5 13.5,7.5 C 14.5,6.5 16.5,10 16.5,10 L 18.5,10 C 18.5,10 19.28,8.008 21,7 C 22,7 22,10 22,10\" style=\"fill:#ffffff; stroke:#000000;\" /><path d=\"M 9.5 25.5 A 0.5 0.5 0 1 1 8.5,25.5 A 0.5 0.5 0 1 1 9.5 25.5 z\" style=\"fill:#000000; stroke:#000000;\" /><path d=\"M 15 15.5 A 0.5 1.5 0 1 1 14,15.5 A 0.5 1.5 0 1 1 15 15.5 z\" transform=\"matrix(0.866,0.5,-0.5,0.866,9.693,-5.173)\" style=\"fill:#000000; stroke:#000000;\" /></g><g id=\"white-bishop\" class=\"white bishop\" fill=\"none\" fill-rule=\"evenodd\" stroke=\"#000\" stroke-width=\"1.5\" stroke-linecap=\"round\" stroke-linejoin=\"round\"><g fill=\"#fff\" stroke-linecap=\"butt\"><path d=\"M9 36c3.39-.97 10.11.43 13.5-2 3.39 2.43 10.11 1.03 13.5 2 0 0 1.65.54 3 2-.68.97-1.65.99-3 .5-3.39-.97-10.11.46-13.5-1-3.39 1.46-10.11.03-13.5 1-1.354.49-2.323.47-3-.5 1.354-1.94 3-2 3-2zM15 32c2.5 2.5 12.5 2.5 15 0 .5-1.5 0-2 0-2 0-2.5-2.5-4-2.5-4 5.5-1.5 6-11.5-5-15.5-11 4-10.5 14-5 15.5 0 0-2.5 1.5-2.5 4 0 0-.5.5 0 2zM25 8a2.5 2.5 0 1 1-5 0 2.5 2.5 0 1 1 5 0z\" /></g><path d=\"M17.5 26h10M15 30h15m-7.5-14.5v5M20 18h5\" stroke-linejoin=\"miter\" /></g><g id=\"white-queen\" class=\"white queen\" fill=\"#fff\" fill-rule=\"evenodd\" stroke=\"#000\" stroke-width=\"1.5\" stroke-linecap=\"round\" stroke-linejoin=\"round\"><path d=\"M8 12a2 2 0 1 1-4 0 2 2 0 1 1 4 0zM24.5 7.5a2 2 0 1 1-4 0 2 2 0 1 1 4 0zM41 12a2 2 0 1 1-4 0 2 2 0 1 1 4 0zM16 8.5a2 2 0 1 1-4 0 2 2 0 1 1 4 0zM33 9a2 2 0 1 1-4 0 2 2 0 1 1 4 0z\" /><path d=\"M9 26c8.5-1.5 21-1.5 27 0l2-12-7 11V11l-5.5 13.5-3-15-3 15-5.5-14V25L7 14l2 12zM9 26c0 2 1.5 2 2.5 4 1 1.5 1 1 .5 3.5-1.5 1-1.5 2.5-1.5 2.5-1.5 1.5.5 2.5.5 2.5 6.5 1 16.5 1 23 0 0 0 1.5-1 0-2.5 0 0 .5-1.5-1-2.5-.5-2.5-.5-2 .5-3.5 1-2 2.5-2 2.5-4-8.5-1.5-18.5-1.5-27 0z\" stroke-linecap=\"butt\" /><path d=\"M11.5 30c3.5-1 18.5-1 22 0M12 33.5c6-1 15-1 21 0\" fill=\"none\" /></g><g id=\"white-king\" class=\"white king\" fill=\"none\" fill-rule=\"evenodd\" stroke=\"#000\" stroke-width=\"1.5\" stroke-linecap=\"round\" stroke-linejoin=\"round\"><path d=\"M22.5 11.63V6M20 8h5\" stroke-linejoin=\"miter\" /><path d=\"M22.5 25s4.5-7.5 3-10.5c0 0-1-2.5-3-2.5s-3 2.5-3 2.5c-1.5 3 3 10.5 3 10.5\" fill=\"#fff\" stroke-linecap=\"butt\" stroke-linejoin=\"miter\" /><path d=\"M11.5 37c5.5 3.5 15.5 3.5 21 0v-7s9-4.5 6-10.5c-4-6.5-13.5-3.5-16 4V27v-3.5c-3.5-7.5-13-10.5-16-4-3 6 5 10 5 10V37z\" fill=\"#fff\" /><path d=\"M11.5 30c5.5-3 15.5-3 21 0m-21 3.5c5.5-3 15.5-3 21 0m-21 3.5c5.5-3 15.5-3 21 0\" /></g><g id=\"black-pawn\" class=\"black pawn\"><path d=\"M22.5 9c-2.21 0-4 1.79-4 4 0 .89.29 1.71.78 2.38C17.33 16.5 16 18.59 16 21c0 2.03.94 3.84 2.41 5.03-3 1.06-7.41 5.55-7.41 13.47h23c0-7.92-4.41-12.41-7.41-13.47 1.47-1.19 2.41-3 2.41-5.03 0-2.41-1.33-4.5-3.28-5.62.49-.67.78-1.49.78-2.38 0-2.21-1.79-4-4-4z\" fill=\"#000\" stroke=\"#000\" stroke-width=\"1.5\" stroke-linecap=\"round\" /></g><g id=\"black-bishop\" class=\"black bishop\" fill=\"none\" fill-rule=\"evenodd\" stroke=\"#000\" stroke-width=\"1.5\" stroke-linecap=\"round\" stroke-linejoin=\"round\"><path d=\"M9 36c3.39-.97 10.11.43 13.5-2 3.39 2.43 10.11 1.03 13.5 2 0 0 1.65.54 3 2-.68.97-1.65.99-3 .5-3.39-.97-10.11.46-13.5-1-3.39 1.46-10.11.03-13.5 1-1.354.49-2.323.47-3-.5 1.354-1.94 3-2 3-2zm6-4c2.5 2.5 12.5 2.5 15 0 .5-1.5 0-2 0-2 0-2.5-2.5-4-2.5-4 5.5-1.5 6-11.5-5-15.5-11 4-10.5 14-5 15.5 0 0-2.5 1.5-2.5 4 0 0-.5.5 0 2zM25 8a2.5 2.5 0 1 1-5 0 2.5 2.5 0 1 1 5 0z\" fill=\"#000\" stroke-linecap=\"butt\" /><path d=\"M17.5 26h10M15 30h15m-7.5-14.5v5M20 18h5\" stroke=\"#fff\" stroke-linejoin=\"miter\" /></g><g id=\"black-queen\" class=\"black queen\" fill=\"#000\" fill-rule=\"evenodd\" stroke=\"#000\" stroke-width=\"1.5\" stroke-linecap=\"round\" stroke-linejoin=\"round\"><g fill=\"#000\" stroke=\"none\"><circle cx=\"6\" cy=\"12\" r=\"2.75\" /><circle cx=\"14\" cy=\"9\" r=\"2.75\" /><circle cx=\"22.5\" cy=\"8\" r=\"2.75\" /><circle cx=\"31\" cy=\"9\" r=\"2.75\" /><circle cx=\"39\" cy=\"12\" r=\"2.75\" /></g><path d=\"M9 26c8.5-1.5 21-1.5 27 0l2.5-12.5L31 25l-.3-14.1-5.2 13.6-3-14.5-3 14.5-5.2-13.6L14 25 6.5 13.5 9 26zM9 26c0 2 1.5 2 2.5 4 1 1.5 1 1 .5 3.5-1.5 1-1.5 2.5-1.5 2.5-1.5 1.5.5 2.5.5 2.5 6.5 1 16.5 1 23 0 0 0 1.5-1 0-2.5 0 0 .5-1.5-1-2.5-.5-2.5-.5-2 .5-3.5 1-2 2.5-2 2.5-4-8.5-1.5-18.5-1.5-27 0z\" stroke-linecap=\"butt\" /><path d=\"M11 38.5a35 35 1 0 0 23 0\" fill=\"none\" stroke-linecap=\"butt\" /><path d=\"M11 29a35 35 1 0 1 23 0M12.5 31.5h20M11.5 34.5a35 35 1 0 0 22 0M10.5 37.5a35 35 1 0 0 24 0\" fill=\"none\" stroke=\"#fff\" /></g><g id=\"black-king\" class=\"black king\" fill=\"none\" fill-rule=\"evenodd\" stroke=\"#000\" stroke-width=\"1.5\" stroke-linecap=\"round\" stroke-linejoin=\"round\"><path d=\"M22.5 11.63V6\" stroke-linejoin=\"miter\" /><path d=\"M22.5 25s4.5-7.5 3-10.5c0 0-1-2.5-3-2.5s-3 2.5-3 2.5c-1.5 3 3 10.5 3 10.5\" fill=\"#000\" stroke-linecap=\"butt\" stroke-linejoin=\"miter\" /><path d=\"M11.5 37c5.5 3.5 15.5 3.5 21 0v-7s9-4.5 6-10.5c-4-6.5-13.5-3.5-16 4V27v-3.5c-3.5-7.5-13-10.5-16-4-3 6 5 10 5 10V37z\" fill=\"#000\" /><path d=\"M20 8h5\" stroke-linejoin=\"miter\" /><path d=\"M32 29.5s8.5-4 6.03-9.65C34.15 14 25 18 22.5 24.5l.01 2.1-.01-2.1C20 18 9.906 14 6.997 19.85c-2.497 5.65 4.853 9 4.853 9M11.5 30c5.5-3 15.5-3 21 0m-21 3.5c5.5-3 15.5-3 21 0m-21 3.5c5.5-3 15.5-3 21 0\" stroke=\"#fff\" /></g></defs><rect x=\"7.5\" y=\"7.5\" width=\"375\" height=\"375\" fill=\"none\" stroke=\"#212121\" stroke-width=\"15\" /><g transform=\"translate(20, 1) scale(0.75, 0.75)\" fill=\"#e5e5e5\" stroke=\"#e5e5e5\"><path d=\"M23.328 10.016q-1.742 0-2.414.398-.672.398-.672 1.36 0 .765.5 1.218.508.445 1.375.445 1.196 0 1.914-.843.727-.852.727-2.258v-.32zm2.867-.594v4.992h-1.437v-1.328q-.492.797-1.227 1.18-.734.375-1.797.375-1.343 0-2.14-.75-.79-.758-.79-2.024 0-1.476.985-2.226.992-.75 2.953-.75h2.016V8.75q0-.992-.656-1.531-.649-.547-1.829-.547-.75 0-1.46.18-.711.18-1.368.539V6.062q.79-.304 1.532-.453.742-.156 1.445-.156 1.898 0 2.836.984.937.985.937 2.985z\" /></g><g transform=\"translate(20, 375) scale(0.75, 0.75)\" fill=\"#e5e5e5\" stroke=\"#e5e5e5\"><path d=\"M23.328 10.016q-1.742 0-2.414.398-.672.398-.672 1.36 0 .765.5 1.218.508.445 1.375.445 1.196 0 1.914-.843.727-.852.727-2.258v-.32zm2.867-.594v4.992h-1.437v-1.328q-.492.797-1.227 1.18-.734.375-1.797.375-1.343 0-2.14-.75-.79-.758-.79-2.024 0-1.476.985-2.226.992-.75 2.953-.75h2.016V8.75q0-.992-.656-1.531-.649-.547-1.829-.547-.75 0-1.46.18-.711.18-1.368.539V6.062q.79-.304 1.532-.453.742-.156 1.445-.156 1.898 0 2.836.984.937.985.937 2.985z\" /></g><g transform=\"translate(65, 1) scale(0.75, 0.75)\" fill=\"#e5e5e5\" stroke=\"#e5e5e5\"><path d=\"M24.922 10.047q0-1.586-.656-2.485-.649-.906-1.79-.906-1.14 0-1.796.906-.649.899-.649 2.485 0 1.586.649 2.492.656.898 1.797.898 1.14 0 1.789-.898.656-.906.656-2.492zm-4.89-3.055q.452-.781 1.14-1.156.695-.383 1.656-.383 1.594 0 2.586 1.266 1 1.265 1 3.328 0 2.062-1 3.328-.992 1.266-2.586 1.266-.96 0-1.656-.375-.688-.383-1.14-1.164v1.312h-1.446V2.258h1.445z\" /></g><g transform=\"translate(65, 375) scale(0.75, 0.75)\" fill=\"#e5e5e5\" stroke=\"#e5e5e5\"><path d=\"M24.922 10.047q0-1.586-.656-2.485-.649-.906-1.79-.906-1.14 0-1.796.906-.649.899-.649 2.485 0 1.586.649 2.492.656.898 1.797.898 1.14 0 1.789-.898.656-.906.656-2.492zm-4.89-3.055q.452-.781 1.14-1.156.695-.383 1.656-.383 1.594 0 2.586 1.266 1 1.265 1 3.328 0 2.062-1 3.328-.992 1.266-2.586 1.266-.96 0-1.656-.375-.688-.383-1.14-1.164v1.312h-1.446V2.258h1.445z\" /></g><g transform=\"translate(110, 1) scale(0.75, 0.75)\" fill=\"#e5e5e5\" stroke=\"#e5e5e5\"><path d=\"M25.96 6v1.344q-.608-.336-1.226-.5-.609-.172-1.234-.172-1.398 0-2.172.89-.773.883-.773 2.485 0 1.601.773 2.492.774.883 2.172.883.625 0 1.234-.164.618-.172 1.227-.508v1.328q-.602.281-1.25.422-.64.14-1.367.14-1.977 0-3.14-1.242-1.165-1.242-1.165-3.351 0-2.14 1.172-3.367 1.18-1.227 3.227-1.227.664 0 1.296.14.633.134 1.227.407z\" /></g><g transform=\"translate(110, 375) scale(0.75, 0.75)\" fill=\"#e5e5e5\" stroke=\"#e5e5e5\"><path d=\"M25.96 6v1.344q-.608-.336-1.226-.5-.609-.172-1.234-.172-1.398 0-2.172.89-.773.883-.773 2.485 0 1.601.773 2.492.774.883 2.172.883.625 0 1.234-.164.618-.172 1.227-.508v1.328q-.602.281-1.25.422-.64.14-1.367.14-1.977 0-3.14-1.242-1.165-1.242-1.165-3.351 0-2.14 1.172-3.367 1.18-1.227 3.227-1.227.664 0 1.296.14.633.134 1.227.407z\" /></g><g transform=\"translate(155, 1) scale(0.75, 0.75)\" fill=\"#e5e5e5\" stroke=\"#e5e5e5\"><path d=\"M24.973 6.992V2.258h1.437v12.156h-1.437v-1.312q-.453.78-1.149 1.164-.687.375-1.656.375-1.586 0-2.586-1.266-.992-1.266-.992-3.328 0-2.063.992-3.328 1-1.266 2.586-1.266.969 0 1.656.383.696.375 1.149 1.156zm-4.899 3.055q0 1.586.649 2.492.656.898 1.797.898 1.14 0 1.796-.898.657-.906.657-2.492 0-1.586-.657-2.485-.656-.906-1.796-.906-1.141 0-1.797.906-.649.899-.649 2.485z\" /></g><g transform=\"translate(155, 375) scale(0.75, 0.75)\" fill=\"#e5e5e5\" stroke=\"#e5e5e5\"><path d=\"M24.973 6.992V2.258h1.437v12.156h-1.437v-1.312q-.453.78-1.149 1.164-.687.375-1.656.375-1.586 0-2.586-1.266-.992-1.266-.992-3.328 0-2.063.992-3.328 1-1.266 2.586-1.266.969 0 1.656.383.696.375 1.149 1.156zm-4.899 3.055q0 1.586.649 2.492.656.898 1.797.898 1.14 0 1.796-.898.657-.906.657-2.492 0-1.586-.657-2.485-.656-.906-1.796-.906-1.141 0-1.797.906-.649.899-.649 2.485z\" /></g><g transform=\"translate(200, 1) scale(0.75, 0.75)\" fill=\"#e5e5e5\" stroke=\"#e5e5e5\"><path d=\"M26.555 9.68v.703h-6.61q.094 1.484.89 2.265.806.774 2.235.774.828 0 1.602-.203.781-.203 1.547-.61v1.36q-.774.328-1.586.5-.813.172-1.649.172-2.093 0-3.32-1.22-1.219-1.218-1.219-3.296 0-2.148 1.157-3.406 1.164-1.266 3.132-1.266 1.766 0 2.79 1.14 1.03 1.134 1.03 3.087zm-1.438-.422q-.015-1.18-.664-1.883-.64-.703-1.703-.703-1.203 0-1.93.68-.718.68-.828 1.914z\" /></g><g transform=\"translate(200, 375) scale(0.75, 0.75)\" fill=\"#e5e5e5\" stroke=\"#e5e5e5\"><path d=\"M26.555 9.68v.703h-6.61q.094 1.484.89 2.265.806.774 2.235.774.828 0 1.602-.203.781-.203 1.547-.61v1.36q-.774.328-1.586.5-.813.172-1.649.172-2.093 0-3.32-1.22-1.219-1.218-1.219-3.296 0-2.148 1.157-3.406 1.164-1.266 3.132-1.266 1.766 0 2.79 1.14 1.03 1.134 1.03 3.087zm-1.438-.422q-.015-1.18-.664-1.883-.64-.703-1.703-.703-1.203 0-1.93.68-.718.68-.828 1.914z\" /></g><g transform=\"translate(245, 1) scale(0.75, 0.75)\" fill=\"#e5e5e5\" stroke=\"#e5e5e5\"><path d=\"M25.285 2.258v1.195H23.91q-.773 0-1.078.313-.297.312-.297 1.125v.773h2.367v1.117h-2.367v7.633H21.09V6.781h-1.375V5.664h1.375v-.61q0-1.46.68-2.124.68-.672 2.156-.672z\" /></g><g transform=\"translate(245, 375) scale(0.75, 0.75)\" fill=\"#e5e5e5\" stroke=\"#e5e5e5\"><path d=\"M25.285 2.258v1.195H23.91q-.773 0-1.078.313-.297.312-.297 1.125v.773h2.367v1.117h-2.367v7.633H21.09V6.781h-1.375V5.664h1.375v-.61q0-1.46.68-2.124.68-.672 2.156-.672z\" /></g><g transform=\"translate(290, 1) scale(0.75, 0.75)\" fill=\"#e5e5e5\" stroke=\"#e5e5e5\"><path d=\"M24.973 9.937q0-1.562-.649-2.421-.64-.86-1.804-.86-1.157 0-1.805.86-.64.859-.64 2.421 0 1.555.64 2.415.648.859 1.805.859 1.164 0 1.804-.86.649-.859.649-2.414zm1.437 3.391q0 2.234-.992 3.32-.992 1.094-3.04 1.094-.757 0-1.429-.117-.672-.11-1.304-.344v-1.398q.632.344 1.25.508.617.164 1.257.164 1.414 0 2.118-.743.703-.734.703-2.226v-.711q-.446.773-1.141 1.156-.695.383-1.664.383-1.61 0-2.594-1.227-.984-1.226-.984-3.25 0-2.03.984-3.257.985-1.227 2.594-1.227.969 0 1.664.383t1.14 1.156V5.664h1.438z\" /></g><g transform=\"translate(290, 375) scale(0.75, 0.75)\" fill=\"#e5e5e5\" stroke=\"#e5e5e5\"><path d=\"M24.973 9.937q0-1.562-.649-2.421-.64-.86-1.804-.86-1.157 0-1.805.86-.64.859-.64 2.421 0 1.555.64 2.415.648.859 1.805.859 1.164 0 1.804-.86.649-.859.649-2.414zm1.437 3.391q0 2.234-.992 3.32-.992 1.094-3.04 1.094-.757 0-1.429-.117-.672-.11-1.304-.344v-1.398q.632.344 1.25.508.617.164 1.257.164 1.414 0 2.118-.743.703-.734.703-2.226v-.711q-.446.773-1.141 1.156-.695.383-1.664.383-1.61 0-2.594-1.227-.984-1.226-.984-3.25 0-2.03.984-3.257.985-1.227 2.594-1.227.969 0 1.664.383t1.14 1.156V5.664h1.438z\" /></g><g transform=\"translate(335, 1) scale(0.75, 0.75)\" fill=\"#e5e5e5\" stroke=\"#e5e5e5\"><path d=\"M26.164 9.133v5.281h-1.437V9.18q0-1.243-.485-1.86-.484-.617-1.453-.617-1.164 0-1.836.742-.672.742-.672 2.024v4.945h-1.445V2.258h1.445v4.765q.516-.789 1.211-1.18.703-.39 1.617-.39 1.508 0 2.282.938.773.93.773 2.742z\" /></g><g transform=\"translate(335, 375) scale(0.75, 0.75)\" fill=\"#e5e5e5\" stroke=\"#e5e5e5\"><path d=\"M26.164 9.133v5.281h-1.437V9.18q0-1.243-.485-1.86-.484-.617-1.453-.617-1.164 0-1.836.742-.672.742-.672 2.024v4.945h-1.445V2.258h1.445v4.765q.516-.789 1.211-1.18.703-.39 1.617-.39 1.508 0 2.282.938.773.93.773 2.742z\" /></g><g transform=\"translate(0, 335) scale(0.75, 0.75)\" fill=\"#e5e5e5\" stroke=\"#e5e5e5\"><path d=\"M6.754 26.996h2.578v-8.898l-2.805.562v-1.437l2.79-.563h1.578v10.336h2.578v1.328h-6.72z\" /></g><g transform=\"translate(375, 335) scale(0.75, 0.75)\" fill=\"#e5e5e5\" stroke=\"#e5e5e5\"><path d=\"M6.754 26.996h2.578v-8.898l-2.805.562v-1.437l2.79-.563h1.578v10.336h2.578v1.328h-6.72z\" /></g><g transform=\"translate(0, 290) scale(0.75, 0.75)\" fill=\"#e5e5e5\" stroke=\"#e5e5e5\"><path d=\"M8.195 26.996h5.508v1.328H6.297v-1.328q.898-.93 2.445-2.492 1.555-1.57 1.953-2.024.758-.851 1.055-1.437.305-.594.305-1.164 0-.93-.657-1.516-.648-.586-1.695-.586-.742 0-1.57.258-.82.258-1.758.781v-1.593q.953-.383 1.781-.578.828-.196 1.516-.196 1.812 0 2.89.906 1.079.907 1.079 2.422 0 .72-.274 1.368-.265.64-.976 1.515-.196.227-1.243 1.313-1.046 1.078-2.953 3.023z\" /></g><g transform=\"translate(375, 290) scale(0.75, 0.75)\" fill=\"#e5e5e5\" stroke=\"#e5e5e5\"><path d=\"M8.195 26.996h5.508v1.328H6.297v-1.328q.898-.93 2.445-2.492 1.555-1.57 1.953-2.024.758-.851 1.055-1.437.305-.594.305-1.164 0-.93-.657-1.516-.648-.586-1.695-.586-.742 0-1.57.258-.82.258-1.758.781v-1.593q.953-.383 1.781-.578.828-.196 1.516-.196 1.812 0 2.89.906 1.079.907 1.079 2.422 0 .72-.274 1.368-.265.64-.976 1.515-.196.227-1.243 1.313-1.046 1.078-2.953 3.023z\" /></g><g transform=\"translate(0, 245) scale(0.75, 0.75)\" fill=\"#e5e5e5\" stroke=\"#e5e5e5\"><path d=\"M11.434 22.035q1.132.242 1.765 1.008.64.766.64 1.89 0 1.727-1.187 2.672-1.187.946-3.375.946-.734 0-1.515-.149-.774-.14-1.602-.43V26.45q.656.383 1.438.578.78.196 1.632.196 1.485 0 2.258-.586.782-.586.782-1.703 0-1.032-.727-1.61-.719-.586-2.008-.586h-1.36v-1.297h1.423q1.164 0 1.78-.46.618-.47.618-1.344 0-.899-.64-1.375-.633-.485-1.82-.485-.65 0-1.391.141-.743.14-1.633.437V16.95q.898-.25 1.68-.375.788-.125 1.484-.125 1.797 0 2.844.82 1.046.813 1.046 2.204 0 .968-.554 1.64-.555.664-1.578.922z\" /></g><g transform=\"translate(375, 245) scale(0.75, 0.75)\" fill=\"#e5e5e5\" stroke=\"#e5e5e5\"><path d=\"M11.434 22.035q1.132.242 1.765 1.008.64.766.64 1.89 0 1.727-1.187 2.672-1.187.946-3.375.946-.734 0-1.515-.149-.774-.14-1.602-.43V26.45q.656.383 1.438.578.78.196 1.632.196 1.485 0 2.258-.586.782-.586.782-1.703 0-1.032-.727-1.61-.719-.586-2.008-.586h-1.36v-1.297h1.423q1.164 0 1.78-.46.618-.47.618-1.344 0-.899-.64-1.375-.633-.485-1.82-.485-.65 0-1.391.141-.743.14-1.633.437V16.95q.898-.25 1.68-.375.788-.125 1.484-.125 1.797 0 2.844.82 1.046.813 1.046 2.204 0 .968-.554 1.64-.555.664-1.578.922z\" /></g><g transform=\"translate(0, 200) scale(0.75, 0.75)\" fill=\"#e5e5e5\" stroke=\"#e5e5e5\"><path d=\"M11.016 18.035L7.03 24.262h3.985zm-.414-1.375h1.984v7.602h1.664v1.312h-1.664v2.75h-1.57v-2.75H5.75v-1.523z\" /></g><g transform=\"translate(375, 200) scale(0.75, 0.75)\" fill=\"#e5e5e5\" stroke=\"#e5e5e5\"><path d=\"M11.016 18.035L7.03 24.262h3.985zm-.414-1.375h1.984v7.602h1.664v1.312h-1.664v2.75h-1.57v-2.75H5.75v-1.523z\" /></g><g transform=\"translate(0, 155) scale(0.75, 0.75)\" fill=\"#e5e5e5\" stroke=\"#e5e5e5\"><path d=\"M6.719 16.66h6.195v1.328h-4.75v2.86q.344-.118.688-.172.343-.063.687-.063 1.953 0 3.094 1.07 1.14 1.07 1.14 2.899 0 1.883-1.171 2.93-1.172 1.039-3.305 1.039-.735 0-1.5-.125-.758-.125-1.57-.375v-1.586q.703.383 1.453.57.75.188 1.586.188 1.351 0 2.14-.711.79-.711.79-1.93 0-1.219-.79-1.93-.789-.71-2.14-.71-.633 0-1.266.14-.625.14-1.281.438z\" /></g><g transform=\"translate(375, 155) scale(0.75, 0.75)\" fill=\"#e5e5e5\" stroke=\"#e5e5e5\"><path d=\"M6.719 16.66h6.195v1.328h-4.75v2.86q.344-.118.688-.172.343-.063.687-.063 1.953 0 3.094 1.07 1.14 1.07 1.14 2.899 0 1.883-1.171 2.93-1.172 1.039-3.305 1.039-.735 0-1.5-.125-.758-.125-1.57-.375v-1.586q.703.383 1.453.57.75.188 1.586.188 1.351 0 2.14-.711.79-.711.79-1.93 0-1.219-.79-1.93-.789-.71-2.14-.71-.633 0-1.266.14-.625.14-1.281.438z\" /></g><g transform=\"translate(0, 110) scale(0.75, 0.75)\" fill=\"#e5e5e5\" stroke=\"#e5e5e5\"><path d=\"M10.137 21.863q-1.063 0-1.688.727-.617.726-.617 1.992 0 1.258.617 1.992.625.727 1.688.727 1.062 0 1.68-.727.624-.734.624-1.992 0-1.266-.625-1.992-.617-.727-1.68-.727zm3.133-4.945v1.437q-.594-.28-1.204-.43-.601-.148-1.195-.148-1.562 0-2.39 1.055-.82 1.055-.938 3.188.46-.68 1.156-1.04.696-.367 1.531-.367 1.758 0 2.774 1.07 1.023 1.063 1.023 2.899 0 1.797-1.062 2.883-1.063 1.086-2.828 1.086-2.024 0-3.094-1.547-1.07-1.555-1.07-4.5 0-2.766 1.312-4.406 1.313-1.649 3.524-1.649.593 0 1.195.117.61.118 1.266.352z\" /></g><g transform=\"translate(375, 110) scale(0.75, 0.75)\" fill=\"#e5e5e5\" stroke=\"#e5e5e5\"><path d=\"M10.137 21.863q-1.063 0-1.688.727-.617.726-.617 1.992 0 1.258.617 1.992.625.727 1.688.727 1.062 0 1.68-.727.624-.734.624-1.992 0-1.266-.625-1.992-.617-.727-1.68-.727zm3.133-4.945v1.437q-.594-.28-1.204-.43-.601-.148-1.195-.148-1.562 0-2.39 1.055-.82 1.055-.938 3.188.46-.68 1.156-1.04.696-.367 1.531-.367 1.758 0 2.774 1.07 1.023 1.063 1.023 2.899 0 1.797-1.062 2.883-1.063 1.086-2.828 1.086-2.024 0-3.094-1.547-1.07-1.555-1.07-4.5 0-2.766 1.312-4.406 1.313-1.649 3.524-1.649.593 0 1.195.117.61.118 1.266.352z\" /></g><g transform=\"translate(0, 65) scale(0.75, 0.75)\" fill=\"#e5e5e5\" stroke=\"#e5e5e5\"><path d=\"M6.25 16.66h7.5v.672L9.516 28.324H7.867l3.985-10.336H6.25z\" /></g><g transform=\"translate(375, 65) scale(0.75, 0.75)\" fill=\"#e5e5e5\" stroke=\"#e5e5e5\"><path d=\"M6.25 16.66h7.5v.672L9.516 28.324H7.867l3.985-10.336H6.25z\" /></g><g transform=\"translate(0, 20) scale(0.75, 0.75)\" fill=\"#e5e5e5\" stroke=\"#e5e5e5\"><path d=\"M10 22.785q-1.125 0-1.773.602-.641.601-.641 1.656t.64 1.656q.649.602 1.774.602t1.773-.602q.649-.61.649-1.656 0-1.055-.649-1.656-.64-.602-1.773-.602zm-1.578-.672q-1.016-.25-1.586-.945-.563-.695-.563-1.695 0-1.399.993-2.211 1-.813 2.734-.813 1.742 0 2.734.813.993.812.993 2.21 0 1-.57 1.696-.563.695-1.571.945 1.14.266 1.773 1.04.641.773.641 1.89 0 1.695-1.04 2.602-1.03.906-2.96.906t-2.969-.906Q6 26.738 6 25.043q0-1.117.64-1.89.641-.774 1.782-1.04zm-.578-2.492q0 .906.562 1.414.57.508 1.594.508 1.016 0 1.586-.508.578-.508.578-1.414 0-.906-.578-1.414-.57-.508-1.586-.508-1.023 0-1.594.508-.562.508-.562 1.414z\" /></g><g transform=\"translate(375, 20) scale(0.75, 0.75)\" fill=\"#e5e5e5\" stroke=\"#e5e5e5\"><path d=\"M10 22.785q-1.125 0-1.773.602-.641.601-.641 1.656t.64 1.656q.649.602 1.774.602t1.773-.602q.649-.61.649-1.656 0-1.055-.649-1.656-.64-.602-1.773-.602zm-1.578-.672q-1.016-.25-1.586-.945-.563-.695-.563-1.695 0-1.399.993-2.211 1-.813 2.734-.813 1.742 0 2.734.813.993.812.993 2.21 0 1-.57 1.696-.563.695-1.571.945 1.14.266 1.773 1.04.641.773.641 1.89 0 1.695-1.04 2.602-1.03.906-2.96.906t-2.969-.906Q6 26.738 6 25.043q0-1.117.64-1.89.641-.774 1.782-1.04zm-.578-2.492q0 .906.562 1.414.57.508 1.594.508 1.016 0 1.586-.508.578-.508.578-1.414 0-.906-.578-1.414-.57-.508-1.586-.508-1.023 0-1.594.508-.562.508-.562 1.414z\" /></g><rect x=\"15\" y=\"330\" width=\"45\" height=\"45\" class=\"square dark a1\" stroke=\"none\" fill=\"#d18b47\" /><rect x=\"60\" y=\"330\" width=\"45\" height=\"45\" class=\"square light b1\" stroke=\"none\" fill=\"#ffce9e\" /><rect x=\"105\" y=\"330\" width=\"45\" height=\"45\" class=\"square dark c1\" stroke=\"none\" fill=\"#d18b47\" /><rect x=\"150\" y=\"330\" width=\"45\" height=\"45\" class=\"square light d1\" stroke=\"none\" fill=\"#ffce9e\" /><rect x=\"195\" y=\"330\" width=\"45\" height=\"45\" class=\"square dark e1\" stroke=\"none\" fill=\"#d18b47\" /><rect x=\"240\" y=\"330\" width=\"45\" height=\"45\" class=\"square light f1\" stroke=\"none\" fill=\"#ffce9e\" /><rect x=\"285\" y=\"330\" width=\"45\" height=\"45\" class=\"square dark g1\" stroke=\"none\" fill=\"#d18b47\" /><rect x=\"330\" y=\"330\" width=\"45\" height=\"45\" class=\"square light h1\" stroke=\"none\" fill=\"#ffce9e\" /><rect x=\"15\" y=\"285\" width=\"45\" height=\"45\" class=\"square light a2\" stroke=\"none\" fill=\"#ffce9e\" /><rect x=\"60\" y=\"285\" width=\"45\" height=\"45\" class=\"square dark b2\" stroke=\"none\" fill=\"#d18b47\" /><rect x=\"105\" y=\"285\" width=\"45\" height=\"45\" class=\"square light c2\" stroke=\"none\" fill=\"#ffce9e\" /><rect x=\"150\" y=\"285\" width=\"45\" height=\"45\" class=\"square dark d2\" stroke=\"none\" fill=\"#d18b47\" /><rect x=\"195\" y=\"285\" width=\"45\" height=\"45\" class=\"square light e2\" stroke=\"none\" fill=\"#ffce9e\" /><rect x=\"240\" y=\"285\" width=\"45\" height=\"45\" class=\"square dark f2\" stroke=\"none\" fill=\"#d18b47\" /><rect x=\"285\" y=\"285\" width=\"45\" height=\"45\" class=\"square light g2\" stroke=\"none\" fill=\"#ffce9e\" /><rect x=\"330\" y=\"285\" width=\"45\" height=\"45\" class=\"square dark h2\" stroke=\"none\" fill=\"#d18b47\" /><rect x=\"15\" y=\"240\" width=\"45\" height=\"45\" class=\"square dark a3\" stroke=\"none\" fill=\"#d18b47\" /><rect x=\"60\" y=\"240\" width=\"45\" height=\"45\" class=\"square light b3\" stroke=\"none\" fill=\"#ffce9e\" /><rect x=\"105\" y=\"240\" width=\"45\" height=\"45\" class=\"square dark c3\" stroke=\"none\" fill=\"#d18b47\" /><rect x=\"150\" y=\"240\" width=\"45\" height=\"45\" class=\"square light d3\" stroke=\"none\" fill=\"#ffce9e\" /><rect x=\"195\" y=\"240\" width=\"45\" height=\"45\" class=\"square dark e3\" stroke=\"none\" fill=\"#d18b47\" /><rect x=\"240\" y=\"240\" width=\"45\" height=\"45\" class=\"square light f3\" stroke=\"none\" fill=\"#ffce9e\" /><rect x=\"285\" y=\"240\" width=\"45\" height=\"45\" class=\"square dark g3\" stroke=\"none\" fill=\"#d18b47\" /><rect x=\"330\" y=\"240\" width=\"45\" height=\"45\" class=\"square light h3\" stroke=\"none\" fill=\"#ffce9e\" /><rect x=\"15\" y=\"195\" width=\"45\" height=\"45\" class=\"square light a4\" stroke=\"none\" fill=\"#ffce9e\" /><rect x=\"60\" y=\"195\" width=\"45\" height=\"45\" class=\"square dark b4\" stroke=\"none\" fill=\"#d18b47\" /><rect x=\"105\" y=\"195\" width=\"45\" height=\"45\" class=\"square light c4\" stroke=\"none\" fill=\"#ffce9e\" /><rect x=\"150\" y=\"195\" width=\"45\" height=\"45\" class=\"square dark d4\" stroke=\"none\" fill=\"#d18b47\" /><rect x=\"195\" y=\"195\" width=\"45\" height=\"45\" class=\"square light e4\" stroke=\"none\" fill=\"#ffce9e\" /><rect x=\"240\" y=\"195\" width=\"45\" height=\"45\" class=\"square dark f4\" stroke=\"none\" fill=\"#d18b47\" /><rect x=\"285\" y=\"195\" width=\"45\" height=\"45\" class=\"square light g4\" stroke=\"none\" fill=\"#ffce9e\" /><rect x=\"330\" y=\"195\" width=\"45\" height=\"45\" class=\"square dark h4\" stroke=\"none\" fill=\"#d18b47\" /><rect x=\"15\" y=\"150\" width=\"45\" height=\"45\" class=\"square dark a5\" stroke=\"none\" fill=\"#d18b47\" /><rect x=\"60\" y=\"150\" width=\"45\" height=\"45\" class=\"square light b5\" stroke=\"none\" fill=\"#ffce9e\" /><rect x=\"105\" y=\"150\" width=\"45\" height=\"45\" class=\"square dark c5\" stroke=\"none\" fill=\"#d18b47\" /><rect x=\"150\" y=\"150\" width=\"45\" height=\"45\" class=\"square light d5\" stroke=\"none\" fill=\"#ffce9e\" /><rect x=\"195\" y=\"150\" width=\"45\" height=\"45\" class=\"square dark e5\" stroke=\"none\" fill=\"#d18b47\" /><rect x=\"240\" y=\"150\" width=\"45\" height=\"45\" class=\"square light f5\" stroke=\"none\" fill=\"#ffce9e\" /><rect x=\"285\" y=\"150\" width=\"45\" height=\"45\" class=\"square dark g5\" stroke=\"none\" fill=\"#d18b47\" /><rect x=\"330\" y=\"150\" width=\"45\" height=\"45\" class=\"square light h5\" stroke=\"none\" fill=\"#ffce9e\" /><rect x=\"15\" y=\"105\" width=\"45\" height=\"45\" class=\"square light a6\" stroke=\"none\" fill=\"#ffce9e\" /><rect x=\"60\" y=\"105\" width=\"45\" height=\"45\" class=\"square dark b6\" stroke=\"none\" fill=\"#d18b47\" /><rect x=\"105\" y=\"105\" width=\"45\" height=\"45\" class=\"square light c6\" stroke=\"none\" fill=\"#ffce9e\" /><rect x=\"150\" y=\"105\" width=\"45\" height=\"45\" class=\"square dark d6\" stroke=\"none\" fill=\"#d18b47\" /><rect x=\"195\" y=\"105\" width=\"45\" height=\"45\" class=\"square light e6\" stroke=\"none\" fill=\"#ffce9e\" /><rect x=\"240\" y=\"105\" width=\"45\" height=\"45\" class=\"square dark f6\" stroke=\"none\" fill=\"#d18b47\" /><rect x=\"285\" y=\"105\" width=\"45\" height=\"45\" class=\"square light g6\" stroke=\"none\" fill=\"#ffce9e\" /><rect x=\"330\" y=\"105\" width=\"45\" height=\"45\" class=\"square dark h6\" stroke=\"none\" fill=\"#d18b47\" /><rect x=\"15\" y=\"60\" width=\"45\" height=\"45\" class=\"square dark a7\" stroke=\"none\" fill=\"#d18b47\" /><rect x=\"60\" y=\"60\" width=\"45\" height=\"45\" class=\"square light b7\" stroke=\"none\" fill=\"#ffce9e\" /><rect x=\"105\" y=\"60\" width=\"45\" height=\"45\" class=\"square dark c7\" stroke=\"none\" fill=\"#d18b47\" /><rect x=\"150\" y=\"60\" width=\"45\" height=\"45\" class=\"square light d7\" stroke=\"none\" fill=\"#ffce9e\" /><rect x=\"195\" y=\"60\" width=\"45\" height=\"45\" class=\"square dark e7\" stroke=\"none\" fill=\"#d18b47\" /><rect x=\"240\" y=\"60\" width=\"45\" height=\"45\" class=\"square light f7\" stroke=\"none\" fill=\"#ffce9e\" /><rect x=\"285\" y=\"60\" width=\"45\" height=\"45\" class=\"square dark g7\" stroke=\"none\" fill=\"#d18b47\" /><rect x=\"330\" y=\"60\" width=\"45\" height=\"45\" class=\"square light h7\" stroke=\"none\" fill=\"#ffce9e\" /><rect x=\"15\" y=\"15\" width=\"45\" height=\"45\" class=\"square light a8\" stroke=\"none\" fill=\"#ffce9e\" /><rect x=\"60\" y=\"15\" width=\"45\" height=\"45\" class=\"square dark b8\" stroke=\"none\" fill=\"#d18b47\" /><rect x=\"105\" y=\"15\" width=\"45\" height=\"45\" class=\"square light c8\" stroke=\"none\" fill=\"#ffce9e\" /><rect x=\"150\" y=\"15\" width=\"45\" height=\"45\" class=\"square dark d8\" stroke=\"none\" fill=\"#d18b47\" /><rect x=\"195\" y=\"15\" width=\"45\" height=\"45\" class=\"square light e8\" stroke=\"none\" fill=\"#ffce9e\" /><rect x=\"240\" y=\"15\" width=\"45\" height=\"45\" class=\"square dark f8\" stroke=\"none\" fill=\"#d18b47\" /><rect x=\"285\" y=\"15\" width=\"45\" height=\"45\" class=\"square light g8\" stroke=\"none\" fill=\"#ffce9e\" /><rect x=\"330\" y=\"15\" width=\"45\" height=\"45\" class=\"square dark h8\" stroke=\"none\" fill=\"#d18b47\" /><use href=\"#white-bishop\" xlink:href=\"#white-bishop\" transform=\"translate(240, 330)\" /><use href=\"#white-king\" xlink:href=\"#white-king\" transform=\"translate(330, 330)\" /><use href=\"#black-queen\" xlink:href=\"#black-queen\" transform=\"translate(60, 285)\" /><use href=\"#white-knight\" xlink:href=\"#white-knight\" transform=\"translate(195, 240)\" /><use href=\"#white-pawn\" xlink:href=\"#white-pawn\" transform=\"translate(195, 195)\" /><use href=\"#black-pawn\" xlink:href=\"#black-pawn\" transform=\"translate(60, 150)\" /><use href=\"#black-pawn\" xlink:href=\"#black-pawn\" transform=\"translate(105, 150)\" /><use href=\"#white-pawn\" xlink:href=\"#white-pawn\" transform=\"translate(150, 150)\" /><use href=\"#white-pawn\" xlink:href=\"#white-pawn\" transform=\"translate(240, 150)\" /><use href=\"#white-queen\" xlink:href=\"#white-queen\" transform=\"translate(285, 150)\" /><use href=\"#black-pawn\" xlink:href=\"#black-pawn\" transform=\"translate(15, 105)\" /><use href=\"#black-pawn\" xlink:href=\"#black-pawn\" transform=\"translate(150, 105)\" /><use href=\"#black-bishop\" xlink:href=\"#black-bishop\" transform=\"translate(150, 60)\" /><use href=\"#black-king\" xlink:href=\"#black-king\" transform=\"translate(240, 60)\" /><use href=\"#white-knight\" xlink:href=\"#white-knight\" transform=\"translate(285, 15)\" /></svg>"
      ],
      "text/plain": [
       "Board('6N1/3b1k2/p2p4/1ppP1PQ1/4P3/4N3/1q6/5B1K w - - 1 42')"
      ]
     },
     "execution_count": 40,
     "metadata": {},
     "output_type": "execute_result"
    }
   ],
   "source": [
    "import chess\n",
    "\n",
    "fen = fens.iloc[df[target].argmax()]\n",
    "board = chess.Board(fen)\n",
    "\n",
    "print(\"Evaluation:\",df[target].max())\n",
    "board"
   ]
  },
  {
   "cell_type": "code",
   "execution_count": 41,
   "metadata": {},
   "outputs": [
    {
     "data": {
      "text/plain": [
       "'6N1/3b1k2/p2p4/1ppP1PQ1/4P3/4N3/1q6/5B1K w - - 1 42'"
      ]
     },
     "execution_count": 41,
     "metadata": {},
     "output_type": "execute_result"
    }
   ],
   "source": [
    "fen"
   ]
  },
  {
   "cell_type": "markdown",
   "metadata": {},
   "source": [
    "I am not a chess expert, and it's true that black is missing the two knights in this position and "
   ]
  },
  {
   "cell_type": "code",
   "execution_count": 29,
   "metadata": {},
   "outputs": [
    {
     "data": {
      "text/html": [
       "<div>\n",
       "<style scoped>\n",
       "    .dataframe tbody tr th:only-of-type {\n",
       "        vertical-align: middle;\n",
       "    }\n",
       "\n",
       "    .dataframe tbody tr th {\n",
       "        vertical-align: top;\n",
       "    }\n",
       "\n",
       "    .dataframe thead th {\n",
       "        text-align: right;\n",
       "    }\n",
       "</style>\n",
       "<table border=\"1\" class=\"dataframe\">\n",
       "  <thead>\n",
       "    <tr style=\"text-align: right;\">\n",
       "      <th></th>\n",
       "      <th>White_pieces_count</th>\n",
       "      <th>Black_pieces_count</th>\n",
       "      <th>White_material</th>\n",
       "      <th>Black_material</th>\n",
       "      <th>Material_difference</th>\n",
       "      <th>Turn</th>\n",
       "      <th>White_king_castling</th>\n",
       "      <th>White_queen_castling</th>\n",
       "      <th>Black_king_castling</th>\n",
       "      <th>Black_queen_castling</th>\n",
       "      <th>...</th>\n",
       "      <th>Hanging_pieces_difference</th>\n",
       "      <th>White_passed_pawns</th>\n",
       "      <th>Black_passed_pawns</th>\n",
       "      <th>Passed_pawn_difference</th>\n",
       "      <th>White_king_support</th>\n",
       "      <th>Black_king_support</th>\n",
       "      <th>King_support_difference</th>\n",
       "      <th>White_non_pawn_material</th>\n",
       "      <th>Black_non_pawn_material</th>\n",
       "      <th>Non_pawn_material_difference</th>\n",
       "    </tr>\n",
       "  </thead>\n",
       "  <tbody>\n",
       "    <tr>\n",
       "      <th>count</th>\n",
       "      <td>129581.000000</td>\n",
       "      <td>129581.000000</td>\n",
       "      <td>129581.000000</td>\n",
       "      <td>129581.000000</td>\n",
       "      <td>129581.000000</td>\n",
       "      <td>129581.00000</td>\n",
       "      <td>129581.000000</td>\n",
       "      <td>129581.000000</td>\n",
       "      <td>129581.000000</td>\n",
       "      <td>129581.000000</td>\n",
       "      <td>...</td>\n",
       "      <td>129581.000000</td>\n",
       "      <td>129581.000000</td>\n",
       "      <td>129581.000000</td>\n",
       "      <td>129581.000000</td>\n",
       "      <td>129581.000000</td>\n",
       "      <td>129581.000000</td>\n",
       "      <td>129581.000000</td>\n",
       "      <td>129581.000000</td>\n",
       "      <td>129581.000000</td>\n",
       "      <td>129581.000000</td>\n",
       "    </tr>\n",
       "    <tr>\n",
       "      <th>mean</th>\n",
       "      <td>10.372099</td>\n",
       "      <td>10.875746</td>\n",
       "      <td>24.306519</td>\n",
       "      <td>25.790463</td>\n",
       "      <td>-1.483944</td>\n",
       "      <td>-0.00825</td>\n",
       "      <td>0.053040</td>\n",
       "      <td>0.047962</td>\n",
       "      <td>0.057979</td>\n",
       "      <td>0.051265</td>\n",
       "      <td>...</td>\n",
       "      <td>-0.037891</td>\n",
       "      <td>5.222340</td>\n",
       "      <td>5.215194</td>\n",
       "      <td>0.007146</td>\n",
       "      <td>2.026995</td>\n",
       "      <td>2.135915</td>\n",
       "      <td>-0.108920</td>\n",
       "      <td>5080.040693</td>\n",
       "      <td>5489.665452</td>\n",
       "      <td>-409.624760</td>\n",
       "    </tr>\n",
       "    <tr>\n",
       "      <th>std</th>\n",
       "      <td>3.551827</td>\n",
       "      <td>3.575705</td>\n",
       "      <td>11.010549</td>\n",
       "      <td>11.135102</td>\n",
       "      <td>3.038095</td>\n",
       "      <td>0.99997</td>\n",
       "      <td>0.224115</td>\n",
       "      <td>0.213687</td>\n",
       "      <td>0.233705</td>\n",
       "      <td>0.220539</td>\n",
       "      <td>...</td>\n",
       "      <td>1.649767</td>\n",
       "      <td>1.779813</td>\n",
       "      <td>1.775592</td>\n",
       "      <td>0.975654</td>\n",
       "      <td>1.106909</td>\n",
       "      <td>1.157367</td>\n",
       "      <td>1.212442</td>\n",
       "      <td>2637.552746</td>\n",
       "      <td>2679.405898</td>\n",
       "      <td>827.260031</td>\n",
       "    </tr>\n",
       "    <tr>\n",
       "      <th>min</th>\n",
       "      <td>1.000000</td>\n",
       "      <td>1.000000</td>\n",
       "      <td>0.000000</td>\n",
       "      <td>0.000000</td>\n",
       "      <td>-32.000000</td>\n",
       "      <td>-1.00000</td>\n",
       "      <td>0.000000</td>\n",
       "      <td>0.000000</td>\n",
       "      <td>0.000000</td>\n",
       "      <td>0.000000</td>\n",
       "      <td>...</td>\n",
       "      <td>-7.000000</td>\n",
       "      <td>0.000000</td>\n",
       "      <td>0.000000</td>\n",
       "      <td>-5.000000</td>\n",
       "      <td>0.000000</td>\n",
       "      <td>0.000000</td>\n",
       "      <td>-6.000000</td>\n",
       "      <td>0.000000</td>\n",
       "      <td>0.000000</td>\n",
       "      <td>-8453.000000</td>\n",
       "    </tr>\n",
       "    <tr>\n",
       "      <th>25%</th>\n",
       "      <td>8.000000</td>\n",
       "      <td>8.000000</td>\n",
       "      <td>15.000000</td>\n",
       "      <td>16.000000</td>\n",
       "      <td>-3.000000</td>\n",
       "      <td>-1.00000</td>\n",
       "      <td>0.000000</td>\n",
       "      <td>0.000000</td>\n",
       "      <td>0.000000</td>\n",
       "      <td>0.000000</td>\n",
       "      <td>...</td>\n",
       "      <td>-1.000000</td>\n",
       "      <td>4.000000</td>\n",
       "      <td>4.000000</td>\n",
       "      <td>0.000000</td>\n",
       "      <td>1.000000</td>\n",
       "      <td>1.000000</td>\n",
       "      <td>-1.000000</td>\n",
       "      <td>2552.000000</td>\n",
       "      <td>3319.000000</td>\n",
       "      <td>-825.000000</td>\n",
       "    </tr>\n",
       "    <tr>\n",
       "      <th>50%</th>\n",
       "      <td>11.000000</td>\n",
       "      <td>11.000000</td>\n",
       "      <td>25.000000</td>\n",
       "      <td>27.000000</td>\n",
       "      <td>-1.000000</td>\n",
       "      <td>-1.00000</td>\n",
       "      <td>0.000000</td>\n",
       "      <td>0.000000</td>\n",
       "      <td>0.000000</td>\n",
       "      <td>0.000000</td>\n",
       "      <td>...</td>\n",
       "      <td>0.000000</td>\n",
       "      <td>6.000000</td>\n",
       "      <td>6.000000</td>\n",
       "      <td>0.000000</td>\n",
       "      <td>2.000000</td>\n",
       "      <td>2.000000</td>\n",
       "      <td>0.000000</td>\n",
       "      <td>5420.000000</td>\n",
       "      <td>5808.000000</td>\n",
       "      <td>-374.000000</td>\n",
       "    </tr>\n",
       "    <tr>\n",
       "      <th>75%</th>\n",
       "      <td>13.000000</td>\n",
       "      <td>14.000000</td>\n",
       "      <td>34.000000</td>\n",
       "      <td>35.000000</td>\n",
       "      <td>0.000000</td>\n",
       "      <td>1.00000</td>\n",
       "      <td>0.000000</td>\n",
       "      <td>0.000000</td>\n",
       "      <td>0.000000</td>\n",
       "      <td>0.000000</td>\n",
       "      <td>...</td>\n",
       "      <td>1.000000</td>\n",
       "      <td>7.000000</td>\n",
       "      <td>7.000000</td>\n",
       "      <td>0.000000</td>\n",
       "      <td>3.000000</td>\n",
       "      <td>3.000000</td>\n",
       "      <td>1.000000</td>\n",
       "      <td>7477.000000</td>\n",
       "      <td>7521.000000</td>\n",
       "      <td>0.000000</td>\n",
       "    </tr>\n",
       "    <tr>\n",
       "      <th>max</th>\n",
       "      <td>18.000000</td>\n",
       "      <td>19.000000</td>\n",
       "      <td>48.000000</td>\n",
       "      <td>51.000000</td>\n",
       "      <td>26.000000</td>\n",
       "      <td>1.00000</td>\n",
       "      <td>1.000000</td>\n",
       "      <td>1.000000</td>\n",
       "      <td>1.000000</td>\n",
       "      <td>1.000000</td>\n",
       "      <td>...</td>\n",
       "      <td>9.000000</td>\n",
       "      <td>8.000000</td>\n",
       "      <td>8.000000</td>\n",
       "      <td>6.000000</td>\n",
       "      <td>6.000000</td>\n",
       "      <td>6.000000</td>\n",
       "      <td>5.000000</td>\n",
       "      <td>10840.000000</td>\n",
       "      <td>11665.000000</td>\n",
       "      <td>7584.000000</td>\n",
       "    </tr>\n",
       "  </tbody>\n",
       "</table>\n",
       "<p>8 rows × 84 columns</p>\n",
       "</div>"
      ],
      "text/plain": [
       "       White_pieces_count  Black_pieces_count  White_material  Black_material  \\\n",
       "count       129581.000000       129581.000000   129581.000000   129581.000000   \n",
       "mean            10.372099           10.875746       24.306519       25.790463   \n",
       "std              3.551827            3.575705       11.010549       11.135102   \n",
       "min              1.000000            1.000000        0.000000        0.000000   \n",
       "25%              8.000000            8.000000       15.000000       16.000000   \n",
       "50%             11.000000           11.000000       25.000000       27.000000   \n",
       "75%             13.000000           14.000000       34.000000       35.000000   \n",
       "max             18.000000           19.000000       48.000000       51.000000   \n",
       "\n",
       "       Material_difference          Turn  White_king_castling  \\\n",
       "count        129581.000000  129581.00000        129581.000000   \n",
       "mean             -1.483944      -0.00825             0.053040   \n",
       "std               3.038095       0.99997             0.224115   \n",
       "min             -32.000000      -1.00000             0.000000   \n",
       "25%              -3.000000      -1.00000             0.000000   \n",
       "50%              -1.000000      -1.00000             0.000000   \n",
       "75%               0.000000       1.00000             0.000000   \n",
       "max              26.000000       1.00000             1.000000   \n",
       "\n",
       "       White_queen_castling  Black_king_castling  Black_queen_castling  ...  \\\n",
       "count         129581.000000        129581.000000         129581.000000  ...   \n",
       "mean               0.047962             0.057979              0.051265  ...   \n",
       "std                0.213687             0.233705              0.220539  ...   \n",
       "min                0.000000             0.000000              0.000000  ...   \n",
       "25%                0.000000             0.000000              0.000000  ...   \n",
       "50%                0.000000             0.000000              0.000000  ...   \n",
       "75%                0.000000             0.000000              0.000000  ...   \n",
       "max                1.000000             1.000000              1.000000  ...   \n",
       "\n",
       "       Hanging_pieces_difference  White_passed_pawns  Black_passed_pawns  \\\n",
       "count              129581.000000       129581.000000       129581.000000   \n",
       "mean                   -0.037891            5.222340            5.215194   \n",
       "std                     1.649767            1.779813            1.775592   \n",
       "min                    -7.000000            0.000000            0.000000   \n",
       "25%                    -1.000000            4.000000            4.000000   \n",
       "50%                     0.000000            6.000000            6.000000   \n",
       "75%                     1.000000            7.000000            7.000000   \n",
       "max                     9.000000            8.000000            8.000000   \n",
       "\n",
       "       Passed_pawn_difference  White_king_support  Black_king_support  \\\n",
       "count           129581.000000       129581.000000       129581.000000   \n",
       "mean                 0.007146            2.026995            2.135915   \n",
       "std                  0.975654            1.106909            1.157367   \n",
       "min                 -5.000000            0.000000            0.000000   \n",
       "25%                  0.000000            1.000000            1.000000   \n",
       "50%                  0.000000            2.000000            2.000000   \n",
       "75%                  0.000000            3.000000            3.000000   \n",
       "max                  6.000000            6.000000            6.000000   \n",
       "\n",
       "       King_support_difference  White_non_pawn_material  \\\n",
       "count            129581.000000            129581.000000   \n",
       "mean                 -0.108920              5080.040693   \n",
       "std                   1.212442              2637.552746   \n",
       "min                  -6.000000                 0.000000   \n",
       "25%                  -1.000000              2552.000000   \n",
       "50%                   0.000000              5420.000000   \n",
       "75%                   1.000000              7477.000000   \n",
       "max                   5.000000             10840.000000   \n",
       "\n",
       "       Black_non_pawn_material  Non_pawn_material_difference  \n",
       "count            129581.000000                 129581.000000  \n",
       "mean               5489.665452                   -409.624760  \n",
       "std                2679.405898                    827.260031  \n",
       "min                   0.000000                  -8453.000000  \n",
       "25%                3319.000000                   -825.000000  \n",
       "50%                5808.000000                   -374.000000  \n",
       "75%                7521.000000                      0.000000  \n",
       "max               11665.000000                   7584.000000  \n",
       "\n",
       "[8 rows x 84 columns]"
      ]
     },
     "execution_count": 29,
     "metadata": {},
     "output_type": "execute_result"
    }
   ],
   "source": [
    "X.describe()"
   ]
  },
  {
   "cell_type": "code",
   "execution_count": 30,
   "metadata": {},
   "outputs": [],
   "source": [
    "# from sklearn.ensemble import RandomForestRegressor\n",
    "# from sklearn.metrics import r2_score\n",
    "# clf = RandomForestRegressor()\n",
    "\n",
    "# X_train, X_test, y_train, y_test = train_test_split(X, y, test_size=0.2)\n",
    "\n",
    "# clf.fit(X_train, y_train)\n",
    "# y_pred = clf.predict(X_train)\n",
    "\n",
    "# r2_score(y_train, y_pred)"
   ]
  },
  {
   "cell_type": "code",
   "execution_count": 31,
   "metadata": {},
   "outputs": [],
   "source": [
    "# from sklearn.neural_network import MLPRegressor\n",
    "# from sklearn.metrics import r2_score\n",
    "# from sklearn.model_selection import train_test_split\n",
    "\n",
    "# # Assuming df is already defined and preprocessed\n",
    "# X, y = df.drop(columns=[target, 'FEN', 'Board', 'Numpy_board']), df[target]\n",
    "\n",
    "# # Splitting the dataset\n",
    "# X_train, X_test, y_train, y_test = train_test_split(X, y, test_size=0.2, random_state=42)\n",
    "\n",
    "# # Initialize the MLP Regressor\n",
    "# mlp = MLPRegressor(hidden_layer_sizes=(100,), max_iter=500, random_state=42)\n",
    "\n",
    "# # Train the MLP model\n",
    "# mlp.fit(X_train, y_train)\n",
    "\n",
    "# # Predict on the training data\n",
    "# y_train_pred = mlp.predict(X_train)\n",
    "\n",
    "# # Evaluate the R^2 score\n",
    "# r2 = r2_score(y_train, y_train_pred)\n",
    "# print(f\"R^2 score on training data: {r2}\")\n"
   ]
  },
  {
   "cell_type": "code",
   "execution_count": 32,
   "metadata": {},
   "outputs": [
    {
     "ename": "NameError",
     "evalue": "name 'clf' is not defined",
     "output_type": "error",
     "traceback": [
      "\u001b[1;31m---------------------------------------------------------------------------\u001b[0m",
      "\u001b[1;31mNameError\u001b[0m                                 Traceback (most recent call last)",
      "Cell \u001b[1;32mIn[32], line 1\u001b[0m\n\u001b[1;32m----> 1\u001b[0m y_pred \u001b[38;5;241m=\u001b[39m \u001b[43mclf\u001b[49m\u001b[38;5;241m.\u001b[39mpredict(X_test)\n\u001b[0;32m      2\u001b[0m r2_score(y_test, y_pred)\n",
      "\u001b[1;31mNameError\u001b[0m: name 'clf' is not defined"
     ]
    }
   ],
   "source": [
    "y_pred = clf.predict(X_test)\n",
    "r2_score(y_test, y_pred)"
   ]
  },
  {
   "cell_type": "code",
   "execution_count": null,
   "metadata": {},
   "outputs": [],
   "source": [
    "import matplotlib.pyplot as plt\n",
    "from sklearn.decomposition import PCA\n",
    "import numpy as np\n",
    "\n",
    "def visualitzaModel(model, X_test ,y_test):\n",
    "    # Fem PCA per a visualitzar la funció de regressió del model\n",
    "    pca = PCA(n_components=1)\n",
    "    carac = pca.fit_transform(X_test).flatten()\n",
    "\n",
    "    idxs = carac.argsort()\n",
    "    carac_sorted, y_test_sorted = carac[idxs], np.array(y_test)[idxs]\n",
    "\n",
    "    # Fem el PCA invers per a fer el plot\n",
    "    X_test_plot = pca.inverse_transform(np.linspace(carac.min(), carac.max(), 200).reshape(-1, 1))\n",
    "    y_pred_plot = model.predict(X_test_plot)\n",
    "\n",
    "    # Fem el plot dels resultats\n",
    "    plt.figure(figsize=(6, 5))\n",
    "    plt.scatter(carac_sorted, y_test_sorted, label=\"Real\")\n",
    "    plt.plot(np.linspace(carac.min(), carac.max(), 200), y_pred_plot, color=\"red\", label=\"Predicció\")\n",
    "    plt.xlabel(\"Característiques (PCA 1D)\")\n",
    "    plt.ylabel(\"Valor Target\")\n",
    "    plt.title(\"Predicció del Model vs Valors reals\")\n",
    "    plt.legend()\n",
    "    plt.show()"
   ]
  },
  {
   "cell_type": "code",
   "execution_count": null,
   "metadata": {},
   "outputs": [
    {
     "name": "stderr",
     "output_type": "stream",
     "text": [
      "C:\\Users\\Albert\\AppData\\Local\\Packages\\PythonSoftwareFoundation.Python.3.10_qbz5n2kfra8p0\\LocalCache\\local-packages\\Python310\\site-packages\\sklearn\\base.py:493: UserWarning: X does not have valid feature names, but RandomForestRegressor was fitted with feature names\n",
      "  warnings.warn(\n"
     ]
    },
    {
     "data": {
      "image/png": "[encoded data removed]",
      "text/plain": [
       "<Figure size 600x500 with 1 Axes>"
      ]
     },
     "metadata": {},
     "output_type": "display_data"
    }
   ],
   "source": [
    "visualitzaModel(clf, X ,y)"
   ]
  },
  {
   "cell_type": "markdown",
   "metadata": {},
   "source": [
    "## References\n",
    "\n",
    "1. [Chess Piece Relative Value - Wikipedia](https://en.wikipedia.org/wiki/Chess_piece_relative_value)\n",
    "2. [Doubled pawns - Wikipedia](https://en.wikipedia.org/wiki/Doubled_pawn)\n",
    "3. [Fork (chess) - Wikipedia](https://en.wikipedia.org/wiki/Fork_(chess))\n",
    "4. [Open file - Wikipedia](https://en.wikipedia.org/wiki/Open_file)"
   ]
  }
 ],
 "metadata": {
  "kernelspec": {
   "display_name": "Python 3",
   "language": "python",
   "name": "python3"
  },
  "language_info": {
   "codemirror_mode": {
    "name": "ipython",
    "version": 3
   },
   "file_extension": ".py",
   "mimetype": "text/x-python",
   "name": "python",
   "nbconvert_exporter": "python",
   "pygments_lexer": "ipython3",
   "version": "3.10.11"
  }
 },
 "nbformat": 4,
 "nbformat_minor": 2
}
